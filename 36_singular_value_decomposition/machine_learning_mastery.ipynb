{
 "cells": [
  {
   "cell_type": "code",
   "execution_count": 7,
   "id": "91be4eee",
   "metadata": {
    "ExecuteTime": {
     "end_time": "2022-05-24T12:14:17.779274Z",
     "start_time": "2022-05-24T12:14:17.773944Z"
    }
   },
   "outputs": [],
   "source": [
    "from numpy import array\n",
    "from scipy.linalg import svd\n",
    "\n",
    "from numpy import dot \n",
    "from numpy import zeros\n",
    "from numpy import diag"
   ]
  },
  {
   "cell_type": "code",
   "execution_count": 2,
   "id": "da096578",
   "metadata": {
    "ExecuteTime": {
     "end_time": "2022-05-24T12:12:22.358138Z",
     "start_time": "2022-05-24T12:12:22.354573Z"
    }
   },
   "outputs": [],
   "source": [
    "A = array([[1,2], [3,4], [5,6]])"
   ]
  },
  {
   "cell_type": "code",
   "execution_count": 3,
   "id": "f1f576ab",
   "metadata": {
    "ExecuteTime": {
     "end_time": "2022-05-24T12:12:29.460893Z",
     "start_time": "2022-05-24T12:12:29.453280Z"
    }
   },
   "outputs": [],
   "source": [
    "u, s, vt = svd(A)"
   ]
  },
  {
   "cell_type": "code",
   "execution_count": 4,
   "id": "23d50a9d",
   "metadata": {
    "ExecuteTime": {
     "end_time": "2022-05-24T12:12:33.905418Z",
     "start_time": "2022-05-24T12:12:33.898697Z"
    }
   },
   "outputs": [
    {
     "name": "stdout",
     "output_type": "stream",
     "text": [
      "[[-0.2298477   0.88346102  0.40824829]\n",
      " [-0.52474482  0.24078249 -0.81649658]\n",
      " [-0.81964194 -0.40189603  0.40824829]]\n"
     ]
    }
   ],
   "source": [
    "print(u)"
   ]
  },
  {
   "cell_type": "code",
   "execution_count": 5,
   "id": "ef6a86cd",
   "metadata": {
    "ExecuteTime": {
     "end_time": "2022-05-24T12:12:35.988181Z",
     "start_time": "2022-05-24T12:12:35.983342Z"
    }
   },
   "outputs": [
    {
     "name": "stdout",
     "output_type": "stream",
     "text": [
      "[9.52551809 0.51430058]\n"
     ]
    }
   ],
   "source": [
    "print(s)"
   ]
  },
  {
   "cell_type": "code",
   "execution_count": 6,
   "id": "6403665f",
   "metadata": {
    "ExecuteTime": {
     "end_time": "2022-05-24T12:12:38.242278Z",
     "start_time": "2022-05-24T12:12:38.237466Z"
    }
   },
   "outputs": [
    {
     "name": "stdout",
     "output_type": "stream",
     "text": [
      "[[-0.61962948 -0.78489445]\n",
      " [-0.78489445  0.61962948]]\n"
     ]
    }
   ],
   "source": [
    "print(vt)"
   ]
  },
  {
   "cell_type": "code",
   "execution_count": 16,
   "id": "925f8a95",
   "metadata": {
    "ExecuteTime": {
     "end_time": "2022-05-24T12:16:17.062687Z",
     "start_time": "2022-05-24T12:16:17.057982Z"
    }
   },
   "outputs": [],
   "source": [
    "sigma = zeros((A.shape[0], A.shape[1]))"
   ]
  },
  {
   "cell_type": "code",
   "execution_count": 18,
   "id": "076bc850",
   "metadata": {
    "ExecuteTime": {
     "end_time": "2022-05-24T12:16:20.004365Z",
     "start_time": "2022-05-24T12:16:19.999887Z"
    }
   },
   "outputs": [],
   "source": [
    "sigma[:A.shape[1], :A.shape[1]] = diag(s)"
   ]
  },
  {
   "cell_type": "code",
   "execution_count": 20,
   "id": "7cd88297",
   "metadata": {
    "ExecuteTime": {
     "end_time": "2022-05-24T12:16:25.631312Z",
     "start_time": "2022-05-24T12:16:25.623353Z"
    }
   },
   "outputs": [
    {
     "data": {
      "text/plain": [
       "array([[1., 2.],\n",
       "       [3., 4.],\n",
       "       [5., 6.]])"
      ]
     },
     "execution_count": 20,
     "metadata": {},
     "output_type": "execute_result"
    }
   ],
   "source": [
    "u.dot(sigma.dot(vt))"
   ]
  },
  {
   "cell_type": "markdown",
   "id": "aaa32218",
   "metadata": {},
   "source": [
    "# Data Reduction"
   ]
  },
  {
   "cell_type": "code",
   "execution_count": 23,
   "id": "5aae9784",
   "metadata": {
    "ExecuteTime": {
     "end_time": "2022-05-24T12:18:37.126284Z",
     "start_time": "2022-05-24T12:18:37.119481Z"
    }
   },
   "outputs": [
    {
     "name": "stdout",
     "output_type": "stream",
     "text": [
      "[[ 1  2  3  4  5  6  7  8  9 10]\n",
      " [11 12 13 14 15 16 17 18 19 20]\n",
      " [21 22 23 24 25 26 27 28 29 30]]\n"
     ]
    }
   ],
   "source": [
    "A = array([\n",
    "\t[1,2,3,4,5,6,7,8,9,10],\n",
    "\t[11,12,13,14,15,16,17,18,19,20],\n",
    "\t[21,22,23,24,25,26,27,28,29,30]])\n",
    "\n",
    "print(A)"
   ]
  },
  {
   "cell_type": "code",
   "execution_count": 24,
   "id": "64df1102",
   "metadata": {
    "ExecuteTime": {
     "end_time": "2022-05-24T12:18:42.484463Z",
     "start_time": "2022-05-24T12:18:42.473363Z"
    }
   },
   "outputs": [
    {
     "name": "stdout",
     "output_type": "stream",
     "text": [
      "[[ 1.  2.  3.  4.  5.  6.  7.  8.  9. 10.]\n",
      " [11. 12. 13. 14. 15. 16. 17. 18. 19. 20.]\n",
      " [21. 22. 23. 24. 25. 26. 27. 28. 29. 30.]]\n"
     ]
    }
   ],
   "source": [
    "# Singular-value decomposition\n",
    "U, s, VT = svd(A)\n",
    "# create m x n Sigma matrix\n",
    "Sigma = zeros((A.shape[0], A.shape[1]))\n",
    "# populate Sigma with n x n diagonal matrix\n",
    "Sigma[:A.shape[0], :A.shape[0]] = diag(s)\n",
    "# select\n",
    "n_elements = 2\n",
    "Sigma = Sigma[:, :n_elements]\n",
    "VT = VT[:n_elements, :]\n",
    "# reconstruct\n",
    "B = U.dot(Sigma.dot(VT))\n",
    "print(B)"
   ]
  },
  {
   "cell_type": "code",
   "execution_count": 25,
   "id": "a251e11e",
   "metadata": {
    "ExecuteTime": {
     "end_time": "2022-05-24T12:18:49.357680Z",
     "start_time": "2022-05-24T12:18:49.352701Z"
    }
   },
   "outputs": [
    {
     "name": "stdout",
     "output_type": "stream",
     "text": [
      "[[-18.52157747  -6.47697214]\n",
      " [-49.81310011  -1.91182038]\n",
      " [-81.10462276   2.65333138]]\n"
     ]
    }
   ],
   "source": [
    "# transform\n",
    "T = U.dot(Sigma)\n",
    "print(T)"
   ]
  },
  {
   "cell_type": "code",
   "execution_count": 26,
   "id": "f19893da",
   "metadata": {
    "ExecuteTime": {
     "end_time": "2022-05-24T12:19:00.340920Z",
     "start_time": "2022-05-24T12:19:00.335689Z"
    }
   },
   "outputs": [
    {
     "name": "stdout",
     "output_type": "stream",
     "text": [
      "[[-18.52157747  -6.47697214]\n",
      " [-49.81310011  -1.91182038]\n",
      " [-81.10462276   2.65333138]]\n"
     ]
    }
   ],
   "source": [
    "T = A.dot(VT.T)\n",
    "print(T)"
   ]
  },
  {
   "cell_type": "markdown",
   "id": "04a0962b",
   "metadata": {},
   "source": [
    "## scikit-learn implementation"
   ]
  },
  {
   "cell_type": "code",
   "execution_count": 27,
   "id": "73aae485",
   "metadata": {
    "ExecuteTime": {
     "end_time": "2022-05-24T12:20:08.180723Z",
     "start_time": "2022-05-24T12:19:49.339677Z"
    }
   },
   "outputs": [
    {
     "name": "stdout",
     "output_type": "stream",
     "text": [
      "[[ 1  2  3  4  5  6  7  8  9 10]\n",
      " [11 12 13 14 15 16 17 18 19 20]\n",
      " [21 22 23 24 25 26 27 28 29 30]]\n",
      "[[18.52157747  6.47697214]\n",
      " [49.81310011  1.91182038]\n",
      " [81.10462276 -2.65333138]]\n"
     ]
    }
   ],
   "source": [
    "from sklearn.decomposition import TruncatedSVD\n",
    "# define array\n",
    "A = array([\n",
    "\t[1,2,3,4,5,6,7,8,9,10],\n",
    "\t[11,12,13,14,15,16,17,18,19,20],\n",
    "\t[21,22,23,24,25,26,27,28,29,30]])\n",
    "print(A)\n",
    "# svd\n",
    "svd = TruncatedSVD(n_components=2)\n",
    "svd.fit(A)\n",
    "result = svd.transform(A)\n",
    "print(result)"
   ]
  },
  {
   "cell_type": "code",
   "execution_count": null,
   "id": "75c8a7cc",
   "metadata": {},
   "outputs": [],
   "source": []
  }
 ],
 "metadata": {
  "kernelspec": {
   "display_name": "Python 3 (ipykernel)",
   "language": "python",
   "name": "python3"
  },
  "language_info": {
   "codemirror_mode": {
    "name": "ipython",
    "version": 3
   },
   "file_extension": ".py",
   "mimetype": "text/x-python",
   "name": "python",
   "nbconvert_exporter": "python",
   "pygments_lexer": "ipython3",
   "version": "3.7.2"
  },
  "toc": {
   "base_numbering": 1,
   "nav_menu": {},
   "number_sections": true,
   "sideBar": true,
   "skip_h1_title": false,
   "title_cell": "Table of Contents",
   "title_sidebar": "Contents",
   "toc_cell": false,
   "toc_position": {},
   "toc_section_display": true,
   "toc_window_display": false
  }
 },
 "nbformat": 4,
 "nbformat_minor": 5
}
