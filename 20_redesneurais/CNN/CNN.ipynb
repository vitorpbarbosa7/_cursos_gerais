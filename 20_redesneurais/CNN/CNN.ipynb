{
 "cells": [
  {
   "cell_type": "markdown",
   "metadata": {},
   "source": [
    "<h2> Este código classifica imagens </h2>"
   ]
  },
  {
   "cell_type": "code",
   "execution_count": 1,
   "metadata": {},
   "outputs": [
    {
     "name": "stderr",
     "output_type": "stream",
     "text": [
      "Using TensorFlow backend.\n"
     ]
    }
   ],
   "source": [
    "#Load the data to classify\n",
    "from keras.datasets import cifar10"
   ]
  },
  {
   "cell_type": "code",
   "execution_count": 2,
   "metadata": {},
   "outputs": [
    {
     "name": "stdout",
     "output_type": "stream",
     "text": [
      "Downloading data from https://www.cs.toronto.edu/~kriz/cifar-10-python.tar.gz\n",
      "170500096/170498071 [==============================] - 223s 1us/step\n"
     ]
    }
   ],
   "source": [
    "#Divisão da base:\n",
    "(x_train,y_train), (x_test, y_test) = cifar10.load_data()"
   ]
  },
  {
   "cell_type": "code",
   "execution_count": 3,
   "metadata": {
    "scrolled": true
   },
   "outputs": [
    {
     "name": "stdout",
     "output_type": "stream",
     "text": [
      "<class 'numpy.ndarray'>\n",
      "<class 'numpy.ndarray'>\n",
      "<class 'numpy.ndarray'>\n",
      "<class 'numpy.ndarray'>\n"
     ]
    }
   ],
   "source": [
    "#Podemos ver que todos são numpy arrays\n",
    "print(type(x_train))\n",
    "print(type(y_train))\n",
    "print(type(x_test))\n",
    "print(type(y_test))"
   ]
  },
  {
   "cell_type": "markdown",
   "metadata": {},
   "source": [
    "<h4> São 50000 imagens, com 32x32 pixels com profundidade de 3 (RGB) </h4>"
   ]
  },
  {
   "cell_type": "code",
   "execution_count": 4,
   "metadata": {},
   "outputs": [
    {
     "name": "stdout",
     "output_type": "stream",
     "text": [
      "x_train shape: (50000, 32, 32, 3)\n",
      "y_train shape: (50000, 1)\n",
      "x_test shape: (10000, 32, 32, 3)\n",
      "y_test shape: (10000, 1)\n"
     ]
    }
   ],
   "source": [
    "#Continuing to explore the data:\n",
    "#Get the shapes:\n",
    "print('x_train shape:', x_train.shape)\n",
    "print('y_train shape:', y_train.shape)\n",
    "print('x_test shape:', x_test.shape)\n",
    "print('y_test shape:', y_test.shape)"
   ]
  },
  {
   "cell_type": "code",
   "execution_count": 5,
   "metadata": {},
   "outputs": [],
   "source": [
    "#To see the first image (at index=0) in the training data set "
   ]
  },
  {
   "cell_type": "code",
   "execution_count": 6,
   "metadata": {
    "scrolled": true
   },
   "outputs": [
    {
     "data": {
      "text/plain": [
       "array([[[ 59,  62,  63],\n",
       "        [ 43,  46,  45],\n",
       "        [ 50,  48,  43],\n",
       "        ...,\n",
       "        [158, 132, 108],\n",
       "        [152, 125, 102],\n",
       "        [148, 124, 103]],\n",
       "\n",
       "       [[ 16,  20,  20],\n",
       "        [  0,   0,   0],\n",
       "        [ 18,   8,   0],\n",
       "        ...,\n",
       "        [123,  88,  55],\n",
       "        [119,  83,  50],\n",
       "        [122,  87,  57]],\n",
       "\n",
       "       [[ 25,  24,  21],\n",
       "        [ 16,   7,   0],\n",
       "        [ 49,  27,   8],\n",
       "        ...,\n",
       "        [118,  84,  50],\n",
       "        [120,  84,  50],\n",
       "        [109,  73,  42]],\n",
       "\n",
       "       ...,\n",
       "\n",
       "       [[208, 170,  96],\n",
       "        [201, 153,  34],\n",
       "        [198, 161,  26],\n",
       "        ...,\n",
       "        [160, 133,  70],\n",
       "        [ 56,  31,   7],\n",
       "        [ 53,  34,  20]],\n",
       "\n",
       "       [[180, 139,  96],\n",
       "        [173, 123,  42],\n",
       "        [186, 144,  30],\n",
       "        ...,\n",
       "        [184, 148,  94],\n",
       "        [ 97,  62,  34],\n",
       "        [ 83,  53,  34]],\n",
       "\n",
       "       [[177, 144, 116],\n",
       "        [168, 129,  94],\n",
       "        [179, 142,  87],\n",
       "        ...,\n",
       "        [216, 184, 140],\n",
       "        [151, 118,  84],\n",
       "        [123,  92,  72]]], dtype=uint8)"
      ]
     },
     "execution_count": 6,
     "metadata": {},
     "output_type": "execute_result"
    }
   ],
   "source": [
    "x_train[0]"
   ]
  },
  {
   "cell_type": "code",
   "execution_count": 7,
   "metadata": {
    "scrolled": true
   },
   "outputs": [
    {
     "data": {
      "image/png": "[encoded data removed]",
      "text/plain": [
       "<Figure size 432x288 with 1 Axes>"
      ]
     },
     "metadata": {
      "needs_background": "light"
     },
     "output_type": "display_data"
    }
   ],
   "source": [
    "#Show the image as a picture, not a sequence of arrays in RGB:\n",
    "import matplotlib.pyplot as plt\n",
    "img = plt.imshow(x_train[0])"
   ]
  },
  {
   "cell_type": "code",
   "execution_count": 8,
   "metadata": {},
   "outputs": [
    {
     "name": "stdout",
     "output_type": "stream",
     "text": [
      "The label is: [6]\n"
     ]
    }
   ],
   "source": [
    "#Print the label of the image\n",
    "print('The label is:', y_train[0])"
   ]
  },
  {
   "cell_type": "markdown",
   "metadata": {},
   "source": [
    "<h4> One Hot Encoder </h4>"
   ]
  },
  {
   "cell_type": "code",
   "execution_count": 9,
   "metadata": {},
   "outputs": [
    {
     "name": "stdout",
     "output_type": "stream",
     "text": [
      "[[0. 0. 0. ... 0. 0. 0.]\n",
      " [0. 0. 0. ... 0. 0. 1.]\n",
      " [0. 0. 0. ... 0. 0. 1.]\n",
      " ...\n",
      " [0. 0. 0. ... 0. 0. 1.]\n",
      " [0. 1. 0. ... 0. 0. 0.]\n",
      " [0. 1. 0. ... 0. 0. 0.]]\n"
     ]
    }
   ],
   "source": [
    "#Creating the y data set:\n",
    "#One-Hot Encoding: Conver the labels into a set of 10 numbers to input into the neural network:\n",
    "\n",
    "from keras.utils import to_categorical\n",
    "y_train_one_hot = to_categorical(y_train)\n",
    "y_test_one_hot = to_categorical(y_test)\n",
    "\n",
    "#Print the labels for the training dataset:\n",
    "print(y_train_one_hot)\n"
   ]
  },
  {
   "cell_type": "code",
   "execution_count": 10,
   "metadata": {},
   "outputs": [
    {
     "data": {
      "text/plain": [
       "(50000, 10)"
      ]
     },
     "execution_count": 10,
     "metadata": {},
     "output_type": "execute_result"
    }
   ],
   "source": [
    "y_train_one_hot.shape"
   ]
  },
  {
   "cell_type": "code",
   "execution_count": 11,
   "metadata": {},
   "outputs": [
    {
     "name": "stdout",
     "output_type": "stream",
     "text": [
      "The one hot label is: [0. 0. 0. 0. 0. 0. 1. 0. 0. 0.]\n"
     ]
    }
   ],
   "source": [
    "#Print an example of the new labels:\n",
    "print('The one hot label is:', y_train_one_hot[0])"
   ]
  },
  {
   "cell_type": "markdown",
   "metadata": {},
   "source": [
    "<h4> Número de GPUs disponíveis </h4>\n",
    "(Quando rodo no Linux dá 0 porque o CUDA não está instalado, mas no Windows dá 1, porque CUDA e cuDNN estão devidamente instalados)"
   ]
  },
  {
   "cell_type": "code",
   "execution_count": 12,
   "metadata": {},
   "outputs": [],
   "source": [
    "import tensorflow as tf"
   ]
  },
  {
   "cell_type": "code",
   "execution_count": 13,
   "metadata": {},
   "outputs": [
    {
     "name": "stdout",
     "output_type": "stream",
     "text": [
      "Num GPUs Available:  1\n"
     ]
    }
   ],
   "source": [
    "from __future__ import absolute_import, division, print_function, unicode_literals\n",
    "print(\"Num GPUs Available: \", len(tf.config.experimental.list_physical_devices('GPU')))"
   ]
  },
  {
   "cell_type": "markdown",
   "metadata": {},
   "source": [
    "<h4> Normalização nos previsores</h4>"
   ]
  },
  {
   "cell_type": "code",
   "execution_count": 14,
   "metadata": {},
   "outputs": [],
   "source": [
    "#Normalize the pixels in the images to be values between 0 and 1\n",
    "x_train = x_train/255\n",
    "x_test = x_test/255"
   ]
  },
  {
   "cell_type": "markdown",
   "metadata": {},
   "source": [
    "<h4> Construção da CNN </h4>"
   ]
  },
  {
   "cell_type": "code",
   "execution_count": 15,
   "metadata": {},
   "outputs": [],
   "source": [
    "#Arquitetura\n",
    "from keras.models import Sequential \n",
    "#Tipo de camada:\n",
    "from keras.layers import Dense, Flatten, Conv2D, MaxPooling2D\n",
    "\n",
    "#Create the architecture\n",
    "model = Sequential()\n",
    "\n",
    "#Convolution layer\n",
    "#5x5 dimensão do filtro\n",
    "#A dimensão só é necessária ser informada na primeira camada que recebe a iamgem\n",
    "#Aplicarei 32 filtros \n",
    "# Número de linhas no kernel de convolução : 5\n",
    "# Número de colunas do kernel de convolução : 5\n",
    "#Dimensão da entrada: 32x32 imagem RGB. Espacialmente é tridimensional\n",
    "# Função de ativação utilizada : Unidade linear retificada (ReLu)\n",
    "model.add(Conv2D(32, (5,5), activation = 'relu', input_shape=(32,32,3)))\n"
   ]
  },
  {
   "cell_type": "code",
   "execution_count": 16,
   "metadata": {},
   "outputs": [],
   "source": [
    "#MaxPooling layer\n",
    "#Se a imagem era originalmente de 32x32 ela será reduzida para 16x16\n",
    "model.add(MaxPooling2D(pool_size = (2,2)))\n",
    "\n",
    "#Próxima camada de convolução :\n",
    "model.add(Conv2D(32, (5,5), activation = 'relu'))\n",
    "\n",
    "#Próxima camada de MaxPooling:\n",
    "model.add(MaxPooling2D(pool_size = (2,2)))\n",
    "\n",
    "#Flatten Layer:\n",
    "model.add(Flatten())\n",
    "\n",
    "#Create the neural network\n",
    "model.add(Dense(1000,activation='relu'))\n"
   ]
  },
  {
   "cell_type": "code",
   "execution_count": 17,
   "metadata": {},
   "outputs": [],
   "source": [
    "import numpy as np\n",
    "#Last layer which is responsible to return probabilies:\n",
    "\n",
    "output_dimension= np.array(y_train_one_hot[0].shape)\n",
    "model.add(Dense(output_dimension[0], activation='softmax'))"
   ]
  },
  {
   "cell_type": "code",
   "execution_count": 18,
   "metadata": {},
   "outputs": [],
   "source": [
    "#Compile the model:\n",
    "#Categorical cross entropy is used when the output class is greater than two, \n",
    "#and it is our case here, where we have 10 different classes\n",
    "model.compile(loss='categorical_crossentropy',\n",
    "             optimizer = 'adam',\n",
    "             metrics = ['accuracy'])"
   ]
  },
  {
   "cell_type": "markdown",
   "metadata": {},
   "source": [
    "<h4>  Treinar o modelo </h4>"
   ]
  },
  {
   "cell_type": "code",
   "execution_count": 19,
   "metadata": {},
   "outputs": [
    {
     "name": "stdout",
     "output_type": "stream",
     "text": [
      "Train on 35000 samples, validate on 15000 samples\n",
      "Epoch 1/10\n",
      "35000/35000 [==============================] - 10s 293us/step - loss: 1.6968 - accuracy: 0.3868 - val_loss: 1.4838 - val_accuracy: 0.4689\n",
      "Epoch 2/10\n",
      "35000/35000 [==============================] - 7s 202us/step - loss: 1.3421 - accuracy: 0.5206 - val_loss: 1.3021 - val_accuracy: 0.5377\n",
      "Epoch 3/10\n",
      "35000/35000 [==============================] - 7s 202us/step - loss: 1.1962 - accuracy: 0.5780 - val_loss: 1.2228 - val_accuracy: 0.5674\n",
      "Epoch 4/10\n",
      "35000/35000 [==============================] - 7s 200us/step - loss: 1.0914 - accuracy: 0.6157 - val_loss: 1.1499 - val_accuracy: 0.5968\n",
      "Epoch 5/10\n",
      "35000/35000 [==============================] - 8s 217us/step - loss: 1.0064 - accuracy: 0.6473 - val_loss: 1.0542 - val_accuracy: 0.6336\n",
      "Epoch 6/10\n",
      "35000/35000 [==============================] - 8s 220us/step - loss: 0.9531 - accuracy: 0.6677 - val_loss: 1.0512 - val_accuracy: 0.6383\n",
      "Epoch 7/10\n",
      "35000/35000 [==============================] - 8s 216us/step - loss: 0.8755 - accuracy: 0.6961 - val_loss: 1.0341 - val_accuracy: 0.6423\n",
      "Epoch 8/10\n",
      "35000/35000 [==============================] - 8s 214us/step - loss: 0.8101 - accuracy: 0.7187 - val_loss: 1.0390 - val_accuracy: 0.6447\n",
      "Epoch 9/10\n",
      "35000/35000 [==============================] - 8s 219us/step - loss: 0.7447 - accuracy: 0.7411 - val_loss: 0.9850 - val_accuracy: 0.6605\n",
      "Epoch 10/10\n",
      "35000/35000 [==============================] - 8s 221us/step - loss: 0.6878 - accuracy: 0.7621 - val_loss: 0.9591 - val_accuracy: 0.6737\n"
     ]
    }
   ],
   "source": [
    "#Train (fit) the model\n",
    "hist = model.fit(x_train, y_train_one_hot,\n",
    "                 batch_size = 256,\n",
    "                 epochs = 10,\n",
    "                 validation_split = 0.3)"
   ]
  },
  {
   "cell_type": "code",
   "execution_count": 20,
   "metadata": {},
   "outputs": [],
   "source": [
    "model.save('cnn.h5')"
   ]
  },
  {
   "cell_type": "code",
   "execution_count": null,
   "metadata": {},
   "outputs": [],
   "source": []
  }
 ],
 "metadata": {
  "kernelspec": {
   "display_name": "Python 3",
   "language": "python",
   "name": "python3"
  },
  "language_info": {
   "codemirror_mode": {
    "name": "ipython",
    "version": 3
   },
   "file_extension": ".py",
   "mimetype": "text/x-python",
   "name": "python",
   "nbconvert_exporter": "python",
   "pygments_lexer": "ipython3",
   "version": "3.7.6"
  }
 },
 "nbformat": 4,
 "nbformat_minor": 2
}
