{
 "cells": [
  {
   "cell_type": "code",
   "execution_count": 1,
   "id": "cd49cf37",
   "metadata": {},
   "outputs": [],
   "source": [
    "import saspy"
   ]
  },
  {
   "cell_type": "code",
   "execution_count": 4,
   "id": "90b4cfe9",
   "metadata": {},
   "outputs": [
    {
     "data": {
      "text/plain": [
       "<module 'saspy' from 'C:\\\\Users\\\\vitor\\\\anaconda3\\\\lib\\\\site-packages\\\\saspy\\\\__init__.py'>"
      ]
     },
     "execution_count": 4,
     "metadata": {},
     "output_type": "execute_result"
    }
   ],
   "source": [
    "saspy"
   ]
  },
  {
   "cell_type": "code",
   "execution_count": null,
   "id": "0347c5fd",
   "metadata": {},
   "outputs": [],
   "source": [
    "sas = saspy.SASsession(cfgfile='C:\\\\Users\\\\vitor\\\\anaconda3\\\\Lib\\\\site-packages\\\\saspy\\\\sascfg_personal.py'')"
   ]
  }
 ],
 "metadata": {
  "kernelspec": {
   "display_name": "Python 3",
   "language": "python",
   "name": "python3"
  },
  "language_info": {
   "codemirror_mode": {
    "name": "ipython",
    "version": 3
   },
   "file_extension": ".py",
   "mimetype": "text/x-python",
   "name": "python",
   "nbconvert_exporter": "python",
   "pygments_lexer": "ipython3",
   "version": "3.8.5"
  }
 },
 "nbformat": 4,
 "nbformat_minor": 5
}
