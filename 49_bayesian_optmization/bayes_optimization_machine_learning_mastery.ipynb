{
 "cells": [
  {
   "cell_type": "markdown",
   "id": "670f215c",
   "metadata": {},
   "source": [
    "# https://machinelearningmastery.com/what-is-bayesian-optimization/"
   ]
  },
  {
   "cell_type": "code",
   "execution_count": 1,
   "id": "c1a5bf97",
   "metadata": {
    "ExecuteTime": {
     "end_time": "2023-06-26T22:02:07.267970Z",
     "start_time": "2023-06-26T22:02:05.844446Z"
    }
   },
   "outputs": [],
   "source": [
    "from numpy import array as ar\n",
    "import numpy as np \n",
    "import matplotlib.pyplot as plt\n",
    "\n",
    "# To understand how a GaussianProcessRegressor works:\n",
    "# https://www.youtube.com/watch?v=R-NUdqxKjos&list=PLl8OlHZGYOQ7bkVbuRthEsaLr7bONzbXS&index=26&ab_channel=KilianWeinberger\n",
    "# https://www.cs.cornell.edu/courses/cs4780/2018fa/lectures/lecturenote15.html\n",
    "# https://towardsdatascience.com/implement-a-gaussian-process-from-scratch-2a074a470bce\n",
    "from sklearn.gaussian_process import GaussianProcessRegressor\n",
    "\n",
    "from scipy.stats import norm"
   ]
  },
  {
   "cell_type": "code",
   "execution_count": 2,
   "id": "a3c458c2",
   "metadata": {
    "ExecuteTime": {
     "end_time": "2023-06-26T22:02:14.557509Z",
     "start_time": "2023-06-26T22:02:14.549941Z"
    }
   },
   "outputs": [],
   "source": [
    "def objective(x, noise = 0.1):\n",
    "\tnoise = np.random.normal(loc=0, scale = noise)\n",
    "\tmultimodal = (x**2 * np.sin(5*np.pi*x)**6) + noise\n",
    "\treturn multimodal"
   ]
  },
  {
   "cell_type": "code",
   "execution_count": 3,
   "id": "58af316f",
   "metadata": {
    "ExecuteTime": {
     "end_time": "2023-06-26T22:02:14.746939Z",
     "start_time": "2023-06-26T22:02:14.739110Z"
    }
   },
   "outputs": [],
   "source": [
    "# The grid-base:\n",
    "hyperparameter_inferior_limit = 0\n",
    "hyperparameter_superior_limit = 1\n",
    "step = 0.01"
   ]
  },
  {
   "cell_type": "code",
   "execution_count": 4,
   "id": "cb388c11",
   "metadata": {
    "ExecuteTime": {
     "end_time": "2023-06-26T22:02:14.956700Z",
     "start_time": "2023-06-26T22:02:14.946760Z"
    }
   },
   "outputs": [],
   "source": [
    "X = np.arange(hyperparameter_inferior_limit,hyperparameter_superior_limit,step)\n",
    "multimodal = objective(X)"
   ]
  },
  {
   "cell_type": "code",
   "execution_count": 5,
   "id": "05591a51",
   "metadata": {
    "ExecuteTime": {
     "end_time": "2023-06-26T22:02:16.304723Z",
     "start_time": "2023-06-26T22:02:16.106657Z"
    }
   },
   "outputs": [
    {
     "data": {
      "image/png": "[encoded data removed]",
      "text/plain": [
       "<Figure size 432x288 with 1 Axes>"
      ]
     },
     "metadata": {
      "needs_background": "light"
     },
     "output_type": "display_data"
    },
    {
     "data": {
      "image/png": "[encoded data removed]",
      "text/plain": [
       "<Figure size 432x288 with 1 Axes>"
      ]
     },
     "metadata": {
      "needs_background": "light"
     },
     "output_type": "display_data"
    }
   ],
   "source": [
    "def plot_one(X,multimodal):\n",
    "\tplt.scatter(x = X, y = multimodal)\n",
    "\tplt.show()\n",
    "# evaluate without noise\n",
    "y = [objective(x,0) for x in X]\n",
    "y_noise = [objective(x) for x in X]\n",
    "plot_one(X,y)\n",
    "plot_one(X,y_noise)"
   ]
  },
  {
   "cell_type": "code",
   "execution_count": 6,
   "id": "ac1ffc42",
   "metadata": {
    "ExecuteTime": {
     "end_time": "2023-06-26T22:02:19.725085Z",
     "start_time": "2023-06-26T22:02:19.714193Z"
    }
   },
   "outputs": [
    {
     "name": "stdout",
     "output_type": "stream",
     "text": [
      "Optima value is (X = 0.9,y = 0.81)\n"
     ]
    }
   ],
   "source": [
    "argument_index_maximizes_function = np.argmax(y)\n",
    "idx = argument_index_maximizes_function\n",
    "print(f'Optima value is (X = {X[idx]},y = {y[idx]})')"
   ]
  },
  {
   "cell_type": "code",
   "execution_count": 7,
   "id": "f5f1dbe9",
   "metadata": {
    "ExecuteTime": {
     "end_time": "2023-06-26T22:02:23.158010Z",
     "start_time": "2023-06-26T22:02:23.134042Z"
    },
    "code_folding": []
   },
   "outputs": [],
   "source": [
    "#surrogate or approximation for the objective function\n",
    "# since we do not have its shape, we will use some way to find the intermediate points\n",
    "# Gaussian Process Regressor\n",
    "model = GaussianProcessRegressor()\n",
    "X = X.reshape(-1,1)\n",
    "# fit the model\n",
    "model.fit(X, y)\n",
    "def surrogate(model, X):\n",
    "\treturn model.predict(X, return_std=True)\n",
    "\n",
    "#nao eh yhat probabilidade, eh yhat valor? valor mesmo, regressao, qual valor provavel, o valor e seu desvio padrao sao retornados\n",
    "y_hat = surrogate(model, X)"
   ]
  },
  {
   "cell_type": "code",
   "execution_count": 8,
   "id": "f64ce910",
   "metadata": {
    "ExecuteTime": {
     "end_time": "2023-06-26T22:02:24.645812Z",
     "start_time": "2023-06-26T22:02:24.535933Z"
    }
   },
   "outputs": [
    {
     "data": {
      "image/png": "[encoded data removed]",
      "text/plain": [
       "<Figure size 432x288 with 1 Axes>"
      ]
     },
     "metadata": {
      "needs_background": "light"
     },
     "output_type": "display_data"
    }
   ],
   "source": [
    "# tem um desvio padrao nessa curva que nao estou plotando\n",
    "# X dominio\n",
    "# y valor predito pelo GaussianProcessRegressor\n",
    "plt.scatter(x = X, y = y_hat[0]);"
   ]
  },
  {
   "cell_type": "code",
   "execution_count": 9,
   "id": "4537baf0",
   "metadata": {
    "ExecuteTime": {
     "end_time": "2023-06-26T22:02:26.006106Z",
     "start_time": "2023-06-26T22:02:25.998351Z"
    }
   },
   "outputs": [],
   "source": [
    "def plot(X, y, model):\n",
    "    '''\n",
    "    X: real values of hyperparameters which were already tested\n",
    "    y: real objective values (already evaluated)\n",
    "    model: gaussian model, which was fitted using the X and y values\n",
    "    \n",
    "    >> From this model we will have an estimation of the function (which we do not know their format, NEVER KNOW !!!!)\n",
    "\n",
    "    > Scatter points are from real values\n",
    "    > Line belongs to predicted surrogate model, which is only an estimate of how the function works\n",
    "    '''\n",
    "    \n",
    "    # scatter plot of inputs and real objective function\n",
    "    plt.scatter(X, y)\n",
    "\n",
    "    # line plot of surrogate function across domain\n",
    "    Xsamples = np.asarray(np.arange(0, 1, 0.001))\n",
    "    Xsamples = Xsamples.reshape(len(Xsamples), 1)\n",
    "    ysamples, _ = surrogate(model, Xsamples)\n",
    "    plt.plot(Xsamples, ysamples)\n",
    "    # show the plot\n",
    "    plt.show()"
   ]
  },
  {
   "cell_type": "code",
   "execution_count": 10,
   "id": "7861bc7d",
   "metadata": {
    "ExecuteTime": {
     "end_time": "2023-06-26T22:02:26.322893Z",
     "start_time": "2023-06-26T22:02:26.314746Z"
    }
   },
   "outputs": [],
   "source": [
    "# Amostrar do dominio esparso com disturbio\n",
    "# a nao didatica aqui eh que o dominio vai de 0 ate 1, por isso o default dessa querida funcao da certo\n",
    "X = np.random.random(100)"
   ]
  },
  {
   "cell_type": "code",
   "execution_count": 11,
   "id": "a7931935",
   "metadata": {
    "ExecuteTime": {
     "end_time": "2023-06-26T22:02:29.835544Z",
     "start_time": "2023-06-26T22:02:29.712830Z"
    }
   },
   "outputs": [
    {
     "data": {
      "image/png": "[encoded data removed]",
      "text/plain": [
       "<Figure size 432x288 with 1 Axes>"
      ]
     },
     "metadata": {
      "needs_background": "light"
     },
     "output_type": "display_data"
    }
   ],
   "source": [
    "# line is the real function (which generally we do not know, actually, WE NEVER KNOW !!!!!!!)\n",
    "# points are the estimates of the surrogate_function with the grid passed, the grid was a random sample between 0 and 1 \n",
    "\n",
    "# Para valores aleatorios entre 0 e 1, rode a objective function, nao a surrogate, e plote o resultado\n",
    "y = np.asarray([objective(x) for x in X])\n",
    "# reshape into rows and cols\n",
    "X = X.reshape(len(X), 1)\n",
    "y = y.reshape(len(y), 1)\n",
    "# define the model\n",
    "model = GaussianProcessRegressor()\n",
    "# fit the model\n",
    "model.fit(X, y)\n",
    "# plot the surrogate function\n",
    "plot(X, y, model)"
   ]
  },
  {
   "cell_type": "code",
   "execution_count": 12,
   "id": "44740098",
   "metadata": {
    "ExecuteTime": {
     "end_time": "2023-06-26T22:02:39.655632Z",
     "start_time": "2023-06-26T22:02:39.647568Z"
    }
   },
   "outputs": [],
   "source": [
    "# otimizar a funcao de aquisicao\n",
    "def otimizar_funcao_aquisicao(X, y, model):\n",
    "\t# random search, gerar amostras aleatórias\n",
    "\t# no optuna essa distribuicao já não está disponível do range que passamos?\n",
    "    \n",
    "    #TODO\n",
    "    # teria que parametrizar isso aqui, alias melhor utilizar random.uniform\n",
    "    # o dominio dessa porcaria eh entre 0 e 1 \n",
    "\tXsamples = np.random.random(100)\n",
    "\n",
    "\tXsamples = Xsamples.reshape(len(Xsamples), 1)\n",
    "\n",
    "\t# Calcular a funcao de aquisicao \n",
    "    # aqui podem retornar varios\n",
    "    # mas la em baixo soh pegamos o argmax\n",
    "\tscores = funcao_aquisicao(X, Xsamples, model)\n",
    "\n",
    "\t# localizar o indice com maior socre da funcao de aquisicao\n",
    "    # ou seja, qual o proximo queridinho que vale a pena jogarmos no modelo pra ver se presta, e retornar outro\n",
    "    # valor na objective_function\n",
    "\tidx = np.argmax(scores)\n",
    "\n",
    "\t# Retorne a partir da amostra aleatória, qual dos valores que maximiza a funcao de aquisicao\n",
    "    # justamente aqui, o valor do queridinho\n",
    "\treturn Xsamples[idx, 0]"
   ]
  },
  {
   "cell_type": "code",
   "execution_count": 13,
   "id": "c3bf72c1",
   "metadata": {
    "ExecuteTime": {
     "end_time": "2023-06-26T22:02:41.412062Z",
     "start_time": "2023-06-26T22:02:41.405301Z"
    }
   },
   "outputs": [],
   "source": [
    "def funcao_aquisicao(X, Xsamples, model):\n",
    "    '''\n",
    "    X - grid do espaco que ja foi rodado a surrogate function?\n",
    "    Xsamples - novas samples que podemos ver qual sera o resultado da model?\n",
    "    model -  o modelo que foi fitado com o grid existente, com valores que já existem de parametros testados, \n",
    "    e o valor final da surrogate function (average_precision, por exemplo?)\n",
    "    '''\n",
    "    # calculate the best surrogate score found so far\n",
    "    yhat, _ = surrogate(model, X)\n",
    "    best = max(yhat)\n",
    "    # calculate mean and stdev via surrogate function\n",
    "    mu, std = surrogate(model, Xsamples)\n",
    "    # calculate the probability of improvement\n",
    "    probs = norm.cdf((mu - best) / (std+1E-9))\n",
    "    return probs"
   ]
  },
  {
   "cell_type": "code",
   "execution_count": 14,
   "id": "7a498ad6",
   "metadata": {
    "ExecuteTime": {
     "end_time": "2023-06-26T22:02:54.503351Z",
     "start_time": "2023-06-26T22:02:54.497389Z"
    }
   },
   "outputs": [],
   "source": [
    "X_aleatorio = np.random.random(100)"
   ]
  },
  {
   "cell_type": "code",
   "execution_count": 15,
   "id": "512b63c2",
   "metadata": {
    "ExecuteTime": {
     "end_time": "2023-06-26T22:02:54.989924Z",
     "start_time": "2023-06-26T22:02:54.882823Z"
    }
   },
   "outputs": [
    {
     "data": {
      "image/png": "[encoded data removed]",
      "text/plain": [
       "<Figure size 432x288 with 1 Axes>"
      ]
     },
     "metadata": {
      "needs_background": "light"
     },
     "output_type": "display_data"
    }
   ],
   "source": [
    "y = np.asarray([objective(x) for x in X_aleatorio])\n",
    "# reshape into rows and cols\n",
    "X = X_aleatorio.reshape(len(X_aleatorio), 1)\n",
    "y = y.reshape(len(y), 1)\n",
    "# define the model\n",
    "model = GaussianProcessRegressor()\n",
    "# fit the model\n",
    "model.fit(X, y)\n",
    "# plot before hand\n",
    "plot(X, y, model)"
   ]
  },
  {
   "cell_type": "code",
   "execution_count": 16,
   "id": "f68dd6e3",
   "metadata": {
    "ExecuteTime": {
     "end_time": "2023-06-26T22:02:56.191238Z",
     "start_time": "2023-06-26T22:02:56.184690Z"
    }
   },
   "outputs": [],
   "source": [
    "yhat, _ = surrogate(model, X)"
   ]
  },
  {
   "cell_type": "code",
   "execution_count": 17,
   "id": "10012f31",
   "metadata": {
    "ExecuteTime": {
     "end_time": "2023-06-26T22:02:56.447788Z",
     "start_time": "2023-06-26T22:02:56.443689Z"
    }
   },
   "outputs": [],
   "source": [
    "media, desvio_padrao = surrogate(model, X)"
   ]
  },
  {
   "cell_type": "code",
   "execution_count": 18,
   "id": "8fadff73",
   "metadata": {
    "ExecuteTime": {
     "end_time": "2023-06-26T22:02:56.730812Z",
     "start_time": "2023-06-26T22:02:56.662704Z"
    }
   },
   "outputs": [
    {
     "data": {
      "text/plain": [
       "<matplotlib.collections.PathCollection at 0x7fb17ad50760>"
      ]
     },
     "execution_count": 18,
     "metadata": {},
     "output_type": "execute_result"
    },
    {
     "data": {
      "image/png": "[encoded data removed]",
      "text/plain": [
       "<Figure size 432x288 with 1 Axes>"
      ]
     },
     "metadata": {
      "needs_background": "light"
     },
     "output_type": "display_data"
    }
   ],
   "source": [
    "plt.scatter(x = X, y = media)"
   ]
  },
  {
   "cell_type": "code",
   "execution_count": 19,
   "id": "bbb09cdb",
   "metadata": {
    "ExecuteTime": {
     "end_time": "2023-06-26T22:02:57.821038Z",
     "start_time": "2023-06-26T22:02:57.816325Z"
    }
   },
   "outputs": [],
   "source": [
    "maior_valor_estimado_surrogate = max(yhat)"
   ]
  },
  {
   "cell_type": "code",
   "execution_count": 20,
   "id": "6ae3f41b",
   "metadata": {
    "ExecuteTime": {
     "end_time": "2023-06-26T22:02:58.132615Z",
     "start_time": "2023-06-26T22:02:58.127628Z"
    }
   },
   "outputs": [
    {
     "name": "stdout",
     "output_type": "stream",
     "text": [
      "0.43085479736328125\n"
     ]
    }
   ],
   "source": [
    "# sabemos que na funcao objetivo mesmo, o valor é superior\n",
    "print(maior_valor_estimado_surrogate)"
   ]
  },
  {
   "cell_type": "code",
   "execution_count": 21,
   "id": "a8e9af3e",
   "metadata": {
    "ExecuteTime": {
     "end_time": "2023-06-26T22:02:58.381985Z",
     "start_time": "2023-06-26T22:02:58.374465Z"
    }
   },
   "outputs": [],
   "source": [
    "argmax_surrogate = np.argmax(yhat)"
   ]
  },
  {
   "cell_type": "code",
   "execution_count": 22,
   "id": "41677696",
   "metadata": {
    "ExecuteTime": {
     "end_time": "2023-06-26T22:02:58.637414Z",
     "start_time": "2023-06-26T22:02:58.630801Z"
    }
   },
   "outputs": [
    {
     "name": "stdout",
     "output_type": "stream",
     "text": [
      "[0.90445593]\n"
     ]
    }
   ],
   "source": [
    "print(X[argmax_surrogate])"
   ]
  },
  {
   "cell_type": "code",
   "execution_count": 23,
   "id": "e0d16810",
   "metadata": {
    "ExecuteTime": {
     "end_time": "2023-06-26T22:02:59.541718Z",
     "start_time": "2023-06-26T22:02:59.538281Z"
    }
   },
   "outputs": [],
   "source": [
    "# Se formos olhar lah em cima, o maior valor da funcao objetivo foi de 0.81 e o valor que maximizava isso era o de 0.91, entao estamos bem proximos"
   ]
  },
  {
   "cell_type": "code",
   "execution_count": 24,
   "id": "0cc7c99e",
   "metadata": {
    "ExecuteTime": {
     "end_time": "2023-06-26T22:02:59.918122Z",
     "start_time": "2023-06-26T22:02:59.911162Z"
    }
   },
   "outputs": [],
   "source": [
    "# media eh o valor predito pela GaussianRegressor\n",
    "# nome ruim\n",
    "media_menos_maior_valor = (media - maior_valor_estimado_surrogate)\n",
    "valores_normalizados = media_menos_maior_valor/(desvio_padrao)"
   ]
  },
  {
   "cell_type": "code",
   "execution_count": 25,
   "id": "d70c7901",
   "metadata": {
    "ExecuteTime": {
     "end_time": "2023-06-26T22:03:01.287362Z",
     "start_time": "2023-06-26T22:03:01.191720Z"
    }
   },
   "outputs": [
    {
     "data": {
      "text/plain": [
       "<matplotlib.collections.PathCollection at 0x7fb1689eb250>"
      ]
     },
     "execution_count": 25,
     "metadata": {},
     "output_type": "execute_result"
    },
    {
     "data": {
      "image/png": "[encoded data removed]",
      "text/plain": [
       "<Figure size 432x288 with 1 Axes>"
      ]
     },
     "metadata": {
      "needs_background": "light"
     },
     "output_type": "display_data"
    }
   ],
   "source": [
    "plt.scatter(x = X, y = media_menos_maior_valor)"
   ]
  },
  {
   "cell_type": "code",
   "execution_count": 26,
   "id": "6d81c92e",
   "metadata": {
    "ExecuteTime": {
     "end_time": "2023-06-26T22:03:01.516550Z",
     "start_time": "2023-06-26T22:03:01.439739Z"
    }
   },
   "outputs": [
    {
     "data": {
      "text/plain": [
       "<matplotlib.collections.PathCollection at 0x7fb1689fd4f0>"
      ]
     },
     "execution_count": 26,
     "metadata": {},
     "output_type": "execute_result"
    },
    {
     "data": {
      "image/png": "[encoded data removed]",
      "text/plain": [
       "<Figure size 432x288 with 1 Axes>"
      ]
     },
     "metadata": {
      "needs_background": "light"
     },
     "output_type": "display_data"
    }
   ],
   "source": [
    "# negativo para todos, menos o maior valor\n",
    "# MAS CALMAAA, AQUI PODE RETORNAR MAIS DE UM VALOR QUE SERA MAIOR QUE ZERO, DADO QUE TEMOS O DESVIO PADRAO DE CADA PONTO DA\n",
    "# PREDICAO DO GAUSSIANPROCESSREGRESSOR()\n",
    "plt.scatter(x = X, y = valores_normalizados)"
   ]
  },
  {
   "cell_type": "code",
   "execution_count": 27,
   "id": "74730678",
   "metadata": {
    "ExecuteTime": {
     "end_time": "2023-06-26T22:03:02.752601Z",
     "start_time": "2023-06-26T22:03:02.747819Z"
    }
   },
   "outputs": [
    {
     "name": "stdout",
     "output_type": "stream",
     "text": [
      "<class 'numpy.ndarray'>\n"
     ]
    }
   ],
   "source": [
    "print(type(valores_normalizados))"
   ]
  },
  {
   "cell_type": "code",
   "execution_count": 28,
   "id": "8e5c333c",
   "metadata": {
    "ExecuteTime": {
     "end_time": "2023-06-26T22:03:03.074546Z",
     "start_time": "2023-06-26T22:03:03.066395Z"
    }
   },
   "outputs": [],
   "source": [
    "# quando fazemos a acumulada pegamos quais sao menores que zero e quais sao maiores?\n",
    "# mas precisa da acumulada pra isso?\n",
    "acumulada = norm.cdf(x = valores_normalizados)"
   ]
  },
  {
   "cell_type": "code",
   "execution_count": 29,
   "id": "6f335d7c",
   "metadata": {
    "ExecuteTime": {
     "end_time": "2023-06-26T22:03:03.570992Z",
     "start_time": "2023-06-26T22:03:03.395712Z"
    }
   },
   "outputs": [
    {
     "data": {
      "text/plain": [
       "[<matplotlib.lines.Line2D at 0x7fb198d96a90>]"
      ]
     },
     "execution_count": 29,
     "metadata": {},
     "output_type": "execute_result"
    },
    {
     "data": {
      "image/png": "[encoded data removed]",
      "text/plain": [
       "<Figure size 432x288 with 1 Axes>"
      ]
     },
     "metadata": {
      "needs_background": "light"
     },
     "output_type": "display_data"
    }
   ],
   "source": [
    "plt.plot(acumulada)"
   ]
  },
  {
   "cell_type": "code",
   "execution_count": 30,
   "id": "07f7fe0f",
   "metadata": {
    "ExecuteTime": {
     "end_time": "2023-06-26T22:03:05.251940Z",
     "start_time": "2023-06-26T22:03:05.247368Z"
    }
   },
   "outputs": [],
   "source": [
    "probs = norm.cdf(x = valores_normalizados)"
   ]
  },
  {
   "cell_type": "code",
   "execution_count": 31,
   "id": "bd93a0eb",
   "metadata": {
    "ExecuteTime": {
     "end_time": "2023-06-26T22:03:05.489371Z",
     "start_time": "2023-06-26T22:03:05.481204Z"
    }
   },
   "outputs": [
    {
     "data": {
      "text/plain": [
       "array([0. , 0. , 0. , 0. , 0. , 0. , 0. , 0. , 0. , 0. , 0. , 0. , 0. ,\n",
       "       0. , 0. , 0. , 0. , 0. , 0. , 0. , 0. , 0. , 0. , 0. , 0. , 0. ,\n",
       "       0. , 0. , 0. , 0. , 0. , 0. , 0. , 0. , 0. , 0. , 0. , 0. , 0. ,\n",
       "       0. , 0. , 0. , 0. , 0.5, 0. , 0. , 0. , 0. , 0. , 0. , 0. , 0. ,\n",
       "       0. , 0. , 0. , 0. , 0. , 0. , 0. , 0. , 0. , 0. , 0. , 0. , 0. ,\n",
       "       0. , 0. , 0. , 0. , 0. , 0. , 0. , 0. , 0. , 0. , 0. , 0. , 0. ,\n",
       "       0. , 0. , 0. , 0. , 0. , 0. , 0. , 0. , 0. , 0. , 0. , 0. , 0. ,\n",
       "       0. , 0. , 0. , 0. , 0. , 0. , 0. , 0. , 0. ])"
      ]
     },
     "execution_count": 31,
     "metadata": {},
     "output_type": "execute_result"
    }
   ],
   "source": [
    "probs"
   ]
  },
  {
   "cell_type": "markdown",
   "id": "e6fb28c4",
   "metadata": {},
   "source": [
    "# opt"
   ]
  },
  {
   "cell_type": "code",
   "execution_count": 32,
   "id": "c099f089",
   "metadata": {
    "ExecuteTime": {
     "end_time": "2023-06-26T22:03:06.358436Z",
     "start_time": "2023-06-26T22:03:06.355017Z"
    }
   },
   "outputs": [],
   "source": [
    "# Entao com X ja temos os valores, ate o momento, no optuna, avaliados quanto a performance"
   ]
  },
  {
   "cell_type": "markdown",
   "id": "080680b3",
   "metadata": {
    "ExecuteTime": {
     "end_time": "2023-03-11T14:09:05.461916Z",
     "start_time": "2023-03-11T14:09:05.453560Z"
    }
   },
   "source": [
    "print(X)"
   ]
  },
  {
   "cell_type": "code",
   "execution_count": 33,
   "id": "60a313d9",
   "metadata": {
    "ExecuteTime": {
     "end_time": "2023-06-26T22:03:08.064640Z",
     "start_time": "2023-06-26T22:03:08.061400Z"
    }
   },
   "outputs": [],
   "source": [
    "# Com y ja temos quao bem eles foram "
   ]
  },
  {
   "cell_type": "code",
   "execution_count": 34,
   "id": "ca6dbb92",
   "metadata": {
    "ExecuteTime": {
     "end_time": "2023-06-26T22:03:08.416183Z",
     "start_time": "2023-06-26T22:03:08.315464Z"
    }
   },
   "outputs": [
    {
     "data": {
      "text/plain": [
       "<matplotlib.collections.PathCollection at 0x7fb198bfa5e0>"
      ]
     },
     "execution_count": 34,
     "metadata": {},
     "output_type": "execute_result"
    },
    {
     "data": {
      "image/png": "[encoded data removed]",
      "text/plain": [
       "<Figure size 432x288 with 1 Axes>"
      ]
     },
     "metadata": {
      "needs_background": "light"
     },
     "output_type": "display_data"
    }
   ],
   "source": [
    "plt.scatter(x = X, y = y)"
   ]
  },
  {
   "cell_type": "markdown",
   "id": "a9420bd5",
   "metadata": {
    "ExecuteTime": {
     "end_time": "2023-03-11T14:10:30.787313Z",
     "start_time": "2023-03-11T14:10:30.779499Z"
    }
   },
   "source": [
    "- agora vamos realizar a otimizacao, para saber qual valor, dentre todos estes ja avaliados, \n",
    "vale a pena seguir pra testar e adicionar no array de ja testados e valor ja avaliado pela objective_function"
   ]
  },
  {
   "cell_type": "code",
   "execution_count": 35,
   "id": "f9edef71",
   "metadata": {
    "ExecuteTime": {
     "end_time": "2023-06-26T22:03:09.295825Z",
     "start_time": "2023-06-26T22:03:09.292270Z"
    }
   },
   "outputs": [],
   "source": [
    "N_TRIALS = 50"
   ]
  },
  {
   "cell_type": "code",
   "execution_count": 36,
   "id": "f45323a0",
   "metadata": {
    "ExecuteTime": {
     "end_time": "2023-06-26T22:03:09.631043Z",
     "start_time": "2023-06-26T22:03:09.627006Z"
    }
   },
   "outputs": [],
   "source": [
    "# vamos super que as duas primeiras vezes que rodei o optuna, vai dar determinado resultado\n",
    "INITIAL_SIZE = 2"
   ]
  },
  {
   "cell_type": "code",
   "execution_count": 37,
   "id": "70cc3ea4",
   "metadata": {
    "ExecuteTime": {
     "end_time": "2023-06-26T22:03:10.199152Z",
     "start_time": "2023-06-26T22:03:10.097987Z"
    }
   },
   "outputs": [
    {
     "data": {
      "image/png": "[encoded data removed]",
      "text/plain": [
       "<Figure size 432x288 with 1 Axes>"
      ]
     },
     "metadata": {
      "needs_background": "light"
     },
     "output_type": "display_data"
    }
   ],
   "source": [
    "# sample the domain sparsely with noise\n",
    "X = np.random.random(INITIAL_SIZE)\n",
    "y = np.asarray([objective(x) for x in X])\n",
    "# reshape into rows and cols\n",
    "X = X.reshape(len(X), 1)\n",
    "y = y.reshape(len(y), 1)\n",
    "# define the model\n",
    "model = GaussianProcessRegressor()\n",
    "# fit the model\n",
    "model.fit(X, y)\n",
    "# plot before hand\n",
    "plot(X, y, model)"
   ]
  },
  {
   "cell_type": "code",
   "execution_count": 38,
   "id": "032d3c4d",
   "metadata": {
    "ExecuteTime": {
     "end_time": "2023-06-26T22:03:10.819236Z",
     "start_time": "2023-06-26T22:03:10.719087Z"
    },
    "scrolled": true
   },
   "outputs": [
    {
     "name": "stdout",
     "output_type": "stream",
     "text": [
      "\n",
      "\n",
      "Proximo queridinho que vale a pena testar: 0.9101444540227952\n",
      "\n",
      "Testando o queridinho 0.9101444540227952 no optuna o resultado foi de 0.9016908502541866\n",
      "\n",
      "A partir de x=0.9101444540227952 a funcao objetivo retornou y_real=0.9016908502541866 e a surrogate_function retornou yhat = 0.814412858530424\n",
      "\n",
      "\n",
      "Proximo queridinho que vale a pena testar: 0.9203797802398539\n",
      "\n",
      "Testando o queridinho 0.9203797802398539 no optuna o resultado foi de 0.6562321296550392\n",
      "\n",
      "A partir de x=0.9203797802398539 a funcao objetivo retornou y_real=0.6562321296550392 e a surrogate_function retornou yhat = 0.9583815910496014\n",
      "\n",
      "\n",
      "Proximo queridinho que vale a pena testar: 0.16363975807432352\n",
      "\n",
      "Testando o queridinho 0.16363975807432352 no optuna o resultado foi de -0.11964973887730916\n",
      "\n",
      "A partir de x=0.16363975807432352 a funcao objetivo retornou y_real=-0.11964973887730916 e a surrogate_function retornou yhat = 38.01081980019808\n",
      "\n",
      "\n",
      "Proximo queridinho que vale a pena testar: 0.8967723836549221\n",
      "\n",
      "Testando o queridinho 0.8967723836549221 no optuna o resultado foi de 0.8111773181794402\n",
      "\n",
      "A partir de x=0.8967723836549221 a funcao objetivo retornou y_real=0.8111773181794402 e a surrogate_function retornou yhat = 0.8814165510702878\n",
      "\n",
      "\n",
      "Proximo queridinho que vale a pena testar: 0.9037474134863502\n",
      "\n",
      "Testando o queridinho 0.9037474134863502 no optuna o resultado foi de 0.8302937579981547\n",
      "\n",
      "A partir de x=0.9037474134863502 a funcao objetivo retornou y_real=0.8302937579981547 e a surrogate_function retornou yhat = 0.8736822009086609\n",
      "\n",
      "\n",
      "Proximo queridinho que vale a pena testar: 0.923045070663223\n",
      "\n",
      "Testando o queridinho 0.923045070663223 no optuna o resultado foi de 0.5915582429551516\n",
      "\n",
      "A partir de x=0.923045070663223 a funcao objetivo retornou y_real=0.5915582429551516 e a surrogate_function retornou yhat = 0.6309014558792114\n",
      "\n",
      "\n",
      "Proximo queridinho que vale a pena testar: 0.9021014056742417\n",
      "\n",
      "Testando o queridinho 0.9021014056742417 no optuna o resultado foi de 0.851492613088074\n",
      "\n",
      "A partir de x=0.9021014056742417 a funcao objetivo retornou y_real=0.851492613088074 e a surrogate_function retornou yhat = 0.8602709472179413\n",
      "\n",
      "\n",
      "Proximo queridinho que vale a pena testar: 0.8418864686325634\n",
      "\n",
      "Testando o queridinho 0.8418864686325634 no optuna o resultado foi de -0.08869349568645551\n",
      "\n",
      "A partir de x=0.8418864686325634 a funcao objetivo retornou y_real=-0.08869349568645551 e a surrogate_function retornou yhat = -0.8903134018182755\n",
      "\n",
      "\n",
      "Proximo queridinho que vale a pena testar: 0.7938620475059406\n",
      "\n",
      "Testando o queridinho 0.7938620475059406 no optuna o resultado foi de -0.03458760072573941\n",
      "\n",
      "A partir de x=0.7938620475059406 a funcao objetivo retornou y_real=-0.03458760072573941 e a surrogate_function retornou yhat = -1.9234638065099716\n",
      "\n",
      "\n",
      "Proximo queridinho que vale a pena testar: 0.6795714898465487\n",
      "\n",
      "Testando o queridinho 0.6795714898465487 no optuna o resultado foi de 0.45463409878395783\n",
      "\n",
      "A partir de x=0.6795714898465487 a funcao objetivo retornou y_real=0.45463409878395783 e a surrogate_function retornou yhat = 1.489532232284546\n",
      "\n",
      "\n",
      "Proximo queridinho que vale a pena testar: 0.09631750174167908\n",
      "\n",
      "Testando o queridinho 0.09631750174167908 no optuna o resultado foi de -0.11518767693784471\n",
      "\n",
      "A partir de x=0.09631750174167908 a funcao objetivo retornou y_real=-0.11518767693784471 e a surrogate_function retornou yhat = 3.8450865745544434\n",
      "\n",
      "\n",
      "Proximo queridinho que vale a pena testar: 0.5907834409078478\n",
      "\n",
      "Testando o queridinho 0.5907834409078478 no optuna o resultado foi de 0.13064763440605356\n",
      "\n",
      "A partir de x=0.5907834409078478 a funcao objetivo retornou y_real=0.13064763440605356 e a surrogate_function retornou yhat = 1.381636917591095\n",
      "\n",
      "\n",
      "Proximo queridinho que vale a pena testar: 0.9526114002264677\n",
      "\n",
      "Testando o queridinho 0.9526114002264677 no optuna o resultado foi de 0.08563120416141745\n",
      "\n",
      "A partir de x=0.9526114002264677 a funcao objetivo retornou y_real=0.08563120416141745 e a surrogate_function retornou yhat = 1.218864917755127\n",
      "\n",
      "\n",
      "Proximo queridinho que vale a pena testar: 0.4967512052204428\n",
      "\n",
      "Testando o queridinho 0.4967512052204428 no optuna o resultado foi de 0.3378988719740834\n",
      "\n",
      "A partir de x=0.4967512052204428 a funcao objetivo retornou y_real=0.3378988719740834 e a surrogate_function retornou yhat = 0.6968603134155273\n",
      "\n",
      "\n",
      "Proximo queridinho que vale a pena testar: 0.82168001214645\n",
      "\n",
      "Testando o queridinho 0.82168001214645 no optuna o resultado foi de 0.04965654474370061\n",
      "\n",
      "A partir de x=0.82168001214645 a funcao objetivo retornou y_real=0.04965654474370061 e a surrogate_function retornou yhat = 0.32650041580200195\n",
      "\n",
      "\n",
      "Proximo queridinho que vale a pena testar: 0.7094931992814191\n",
      "\n",
      "Testando o queridinho 0.7094931992814191 no optuna o resultado foi de 0.4059809347288158\n",
      "\n",
      "A partir de x=0.7094931992814191 a funcao objetivo retornou y_real=0.4059809347288158 e a surrogate_function retornou yhat = -0.07060122489929199\n",
      "\n",
      "\n",
      "Proximo queridinho que vale a pena testar: 0.5266736470117273\n",
      "\n",
      "Testando o queridinho 0.5266736470117273 no optuna o resultado foi de 0.2783034768186296\n",
      "\n",
      "A partir de x=0.5266736470117273 a funcao objetivo retornou y_real=0.2783034768186296 e a surrogate_function retornou yhat = 0.4176473617553711\n",
      "\n",
      "\n",
      "Proximo queridinho que vale a pena testar: 0.9076268927117328\n",
      "\n",
      "Testando o queridinho 0.9076268927117328 no optuna o resultado foi de 0.6453904276174973\n",
      "\n",
      "A partir de x=0.9076268927117328 a funcao objetivo retornou y_real=0.6453904276174973 e a surrogate_function retornou yhat = 0.6513872146606445\n",
      "\n",
      "\n",
      "Proximo queridinho que vale a pena testar: 0.35719246765680535\n",
      "\n",
      "Testando o queridinho 0.35719246765680535 no optuna o resultado foi de -0.004386434491469993\n",
      "\n",
      "A partir de x=0.35719246765680535 a funcao objetivo retornou y_real=-0.004386434491469993 e a surrogate_function retornou yhat = -0.08593115210533142\n",
      "\n",
      "\n",
      "Proximo queridinho que vale a pena testar: 0.051081157905935703\n",
      "\n",
      "Testando o queridinho 0.051081157905935703 no optuna o resultado foi de 0.10925077878574986\n",
      "\n",
      "A partir de x=0.051081157905935703 a funcao objetivo retornou y_real=0.10925077878574986 e a surrogate_function retornou yhat = -0.8435642719268799\n",
      "\n",
      "\n",
      "Proximo queridinho que vale a pena testar: 0.9092132182397785\n",
      "\n",
      "Testando o queridinho 0.9092132182397785 no optuna o resultado foi de 0.8022853745446719\n",
      "\n",
      "A partir de x=0.9092132182397785 a funcao objetivo retornou y_real=0.8022853745446719 e a surrogate_function retornou yhat = 0.6400574445724487\n",
      "\n",
      "\n",
      "Proximo queridinho que vale a pena testar: 0.8344541869861646\n",
      "\n",
      "Testando o queridinho 0.8344541869861646 no optuna o resultado foi de 0.0050846060806693846\n",
      "\n",
      "A partir de x=0.8344541869861646 a funcao objetivo retornou y_real=0.0050846060806693846 e a surrogate_function retornou yhat = 0.4108235836029053\n",
      "\n",
      "\n",
      "Proximo queridinho que vale a pena testar: 0.9168079117888314\n",
      "\n",
      "Testando o queridinho 0.9168079117888314 no optuna o resultado foi de 0.45976141235043955\n",
      "\n",
      "A partir de x=0.9168079117888314 a funcao objetivo retornou y_real=0.45976141235043955 e a surrogate_function retornou yhat = 0.6440439224243164\n",
      "\n",
      "\n",
      "Proximo queridinho que vale a pena testar: 0.2509752120977713\n",
      "\n",
      "Testando o queridinho 0.2509752120977713 no optuna o resultado foi de -0.03688783453479104\n",
      "\n",
      "A partir de x=0.2509752120977713 a funcao objetivo retornou y_real=-0.03688783453479104 e a surrogate_function retornou yhat = -0.16744160652160645\n",
      "\n",
      "\n",
      "Proximo queridinho que vale a pena testar: 0.9517216607937987\n",
      "\n",
      "Testando o queridinho 0.9517216607937987 no optuna o resultado foi de 0.2275494832093775\n",
      "\n",
      "A partir de x=0.9517216607937987 a funcao objetivo retornou y_real=0.2275494832093775 e a surrogate_function retornou yhat = 0.5006488561630249\n",
      "\n",
      "\n",
      "Proximo queridinho que vale a pena testar: 0.17958199322105672\n",
      "\n",
      "Testando o queridinho 0.17958199322105672 no optuna o resultado foi de 0.008483509638291137\n",
      "\n",
      "A partir de x=0.17958199322105672 a funcao objetivo retornou y_real=0.008483509638291137 e a surrogate_function retornou yhat = -0.08851790428161621\n",
      "\n",
      "\n",
      "Proximo queridinho que vale a pena testar: 0.2358674484205443\n",
      "\n",
      "Testando o queridinho 0.2358674484205443 no optuna o resultado foi de -0.10463673055673713\n",
      "\n",
      "A partir de x=0.2358674484205443 a funcao objetivo retornou y_real=-0.10463673055673713 e a surrogate_function retornou yhat = -0.1165769100189209\n",
      "\n",
      "\n",
      "Proximo queridinho que vale a pena testar: 0.7043250873252939\n",
      "\n",
      "Testando o queridinho 0.7043250873252939 no optuna o resultado foi de 0.43834010426406433\n",
      "\n",
      "A partir de x=0.7043250873252939 a funcao objetivo retornou y_real=0.43834010426406433 e a surrogate_function retornou yhat = 0.04676026105880737\n",
      "\n",
      "\n",
      "Proximo queridinho que vale a pena testar: 0.9067742659840045\n",
      "\n",
      "Testando o queridinho 0.9067742659840045 no optuna o resultado foi de 0.6739049385678412\n",
      "\n",
      "A partir de x=0.9067742659840045 a funcao objetivo retornou y_real=0.6739049385678412 e a surrogate_function retornou yhat = 0.601254940032959\n",
      "\n",
      "\n",
      "Proximo queridinho que vale a pena testar: 0.9076597352269052\n",
      "\n",
      "Testando o queridinho 0.9076597352269052 no optuna o resultado foi de 0.6773413302296585\n",
      "\n",
      "A partir de x=0.9076597352269052 a funcao objetivo retornou y_real=0.6773413302296585 e a surrogate_function retornou yhat = 0.607027530670166\n",
      "\n",
      "\n",
      "Proximo queridinho que vale a pena testar: 0.27249505211547487\n",
      "\n",
      "Testando o queridinho 0.27249505211547487 no optuna o resultado foi de 0.023263759732026396\n",
      "\n",
      "A partir de x=0.27249505211547487 a funcao objetivo retornou y_real=0.023263759732026396 e a surrogate_function retornou yhat = -0.09816932678222656\n",
      "\n",
      "\n",
      "Proximo queridinho que vale a pena testar: 0.8848458503321806\n",
      "\n",
      "Testando o queridinho 0.8848458503321806 no optuna o resultado foi de 0.6299362244498147\n",
      "\n",
      "A partir de x=0.8848458503321806 a funcao objetivo retornou y_real=0.6299362244498147 e a surrogate_function retornou yhat = 0.5826774835586548\n",
      "\n",
      "\n",
      "Proximo queridinho que vale a pena testar: 0.9045618419818503\n",
      "\n",
      "Testando o queridinho 0.9045618419818503 no optuna o resultado foi de 0.7607778753955536\n",
      "\n",
      "A partir de x=0.9045618419818503 a funcao objetivo retornou y_real=0.7607778753955536 e a surrogate_function retornou yhat = 0.6143808364868164\n",
      "\n",
      "\n",
      "Proximo queridinho que vale a pena testar: 0.6050111853721897\n",
      "\n",
      "Testando o queridinho 0.6050111853721897 no optuna o resultado foi de 0.08045122333108676\n",
      "\n",
      "A partir de x=0.6050111853721897 a funcao objetivo retornou y_real=0.08045122333108676 e a surrogate_function retornou yhat = 0.28440189361572266\n",
      "\n",
      "\n",
      "Proximo queridinho que vale a pena testar: 0.7747834097830781\n",
      "\n",
      "Testando o queridinho 0.7747834097830781 no optuna o resultado foi de 0.1521684226413794\n",
      "\n",
      "A partir de x=0.7747834097830781 a funcao objetivo retornou y_real=0.1521684226413794 e a surrogate_function retornou yhat = 0.19049310684204102\n",
      "\n",
      "\n",
      "Proximo queridinho que vale a pena testar: 0.5673906117873788\n",
      "\n",
      "Testando o queridinho 0.5673906117873788 no optuna o resultado foi de -0.05287481470978051\n",
      "\n",
      "A partir de x=0.5673906117873788 a funcao objetivo retornou y_real=-0.05287481470978051 e a surrogate_function retornou yhat = 0.30687081813812256\n",
      "\n",
      "\n",
      "Proximo queridinho que vale a pena testar: 0.7979874472630035\n",
      "\n",
      "Testando o queridinho 0.7979874472630035 no optuna o resultado foi de -0.0005361171698722883\n",
      "\n",
      "A partir de x=0.7979874472630035 a funcao objetivo retornou y_real=-0.0005361171698722883 e a surrogate_function retornou yhat = 0.2670588493347168\n",
      "\n",
      "\n",
      "Proximo queridinho que vale a pena testar: 0.3762256867689059\n",
      "\n",
      "Testando o queridinho 0.3762256867689059 no optuna o resultado foi de 0.08598665343123471\n",
      "\n",
      "A partir de x=0.3762256867689059 a funcao objetivo retornou y_real=0.08598665343123471 e a surrogate_function retornou yhat = 0.13122296333312988\n",
      "\n",
      "\n",
      "Proximo queridinho que vale a pena testar: 0.5623955517691456\n",
      "\n",
      "Testando o queridinho 0.5623955517691456 no optuna o resultado foi de -0.008606379399586604\n",
      "\n",
      "A partir de x=0.5623955517691456 a funcao objetivo retornou y_real=-0.008606379399586604 e a surrogate_function retornou yhat = 0.2490830421447754\n",
      "\n",
      "\n",
      "Proximo queridinho que vale a pena testar: 0.49012919671869093\n",
      "\n",
      "Testando o queridinho 0.49012919671869093 no optuna o resultado foi de 0.30581792026193066\n",
      "\n",
      "A partir de x=0.49012919671869093 a funcao objetivo retornou y_real=0.30581792026193066 e a surrogate_function retornou yhat = 0.2493290901184082\n",
      "\n",
      "\n",
      "Proximo queridinho que vale a pena testar: 0.7909476328974991\n",
      "\n",
      "Testando o queridinho 0.7909476328974991 no optuna o resultado foi de -0.1831916756153134\n",
      "\n",
      "A partir de x=0.7909476328974991 a funcao objetivo retornou y_real=-0.1831916756153134 e a surrogate_function retornou yhat = 0.2099323868751526\n",
      "\n",
      "\n",
      "Proximo queridinho que vale a pena testar: 0.11682155454063914\n",
      "\n",
      "Testando o queridinho 0.11682155454063914 no optuna o resultado foi de -0.016237350719284296\n",
      "\n",
      "A partir de x=0.11682155454063914 a funcao objetivo retornou y_real=-0.016237350719284296 e a surrogate_function retornou yhat = 0.03417634963989258\n",
      "\n",
      "\n",
      "Proximo queridinho que vale a pena testar: 0.34706569246261054\n",
      "\n",
      "Testando o queridinho 0.34706569246261054 no optuna o resultado foi de 0.15319273191787056\n",
      "\n",
      "A partir de x=0.34706569246261054 a funcao objetivo retornou y_real=0.15319273191787056 e a surrogate_function retornou yhat = 0.05791276693344116\n",
      "\n",
      "\n",
      "Proximo queridinho que vale a pena testar: 0.8560866046832954\n",
      "\n",
      "Testando o queridinho 0.8560866046832954 no optuna o resultado foi de 0.014571375101872591\n",
      "\n",
      "A partir de x=0.8560866046832954 a funcao objetivo retornou y_real=0.014571375101872591 e a surrogate_function retornou yhat = 0.4639551639556885\n",
      "\n",
      "\n",
      "Proximo queridinho que vale a pena testar: 0.8099342006160828\n",
      "\n",
      "Testando o queridinho 0.8099342006160828 no optuna o resultado foi de 0.005457873745383334\n",
      "\n",
      "A partir de x=0.8099342006160828 a funcao objetivo retornou y_real=0.005457873745383334 e a surrogate_function retornou yhat = 0.21306324005126953\n",
      "\n",
      "\n",
      "Proximo queridinho que vale a pena testar: 0.9173699530342909\n",
      "\n",
      "Testando o queridinho 0.9173699530342909 no optuna o resultado foi de 0.5506035026978959\n",
      "\n",
      "A partir de x=0.9173699530342909 a funcao objetivo retornou y_real=0.5506035026978959 e a surrogate_function retornou yhat = 0.6018099784851074\n",
      "\n",
      "\n",
      "Proximo queridinho que vale a pena testar: 0.5068371974673329\n",
      "\n",
      "Testando o queridinho 0.5068371974673329 no optuna o resultado foi de 0.26064763117758033\n",
      "\n",
      "A partir de x=0.5068371974673329 a funcao objetivo retornou y_real=0.26064763117758033 e a surrogate_function retornou yhat = 0.2808380126953125\n",
      "\n",
      "\n",
      "Proximo queridinho que vale a pena testar: 0.5895955305636086\n",
      "\n",
      "Testando o queridinho 0.5895955305636086 no optuna o resultado foi de -0.06935246091339295\n",
      "\n",
      "A partir de x=0.5895955305636086 a funcao objetivo retornou y_real=-0.06935246091339295 e a surrogate_function retornou yhat = 0.1756584644317627\n"
     ]
    }
   ],
   "source": [
    "TRIALS_AFTER_FIRST_ONES = N_TRIALS - INITIAL_SIZE\n",
    "# perform the optimization process\n",
    "xs = []\n",
    "actuals = []\n",
    "estimativas = []\n",
    "for i in range(TRIALS_AFTER_FIRST_ONES):\n",
    "    # select the next point to sample\n",
    "    x = otimizar_funcao_aquisicao(X, y, model)\n",
    "    xs.append(x)\n",
    "    print(f'\\n\\nProximo queridinho que vale a pena testar: {x}')\n",
    "    \n",
    "    # sample the point\n",
    "    \n",
    "    actual = objective(x)\n",
    "    actuals.append(actual)\n",
    "    print(f'\\nTestando o queridinho {x} no optuna o resultado foi de {actual}')\n",
    "    \n",
    "    # summarize the finding\n",
    "    estimativa_queridinho, _ = surrogate(model, [[x]])\n",
    "    estimativas.append(estimativa_queridinho[0])\n",
    "    \n",
    "    print(f'\\nA partir de x={x} a funcao objetivo retornou y_real={actual} e a surrogate_function retornou yhat = {estimativa_queridinho[0]}')\n",
    "          \n",
    "    # adiciona o novo queridinho que testamos ao dataset de tentativas e respostas, para conseguirmos continuar na otimizacao\n",
    "          \n",
    "    # add the data to the dataset\n",
    "    X = np.vstack((X, [[x]]))\n",
    "    y = np.vstack((y, [[actual]]))\n",
    "    # update the model\n",
    "    model.fit(X, y)"
   ]
  },
  {
   "cell_type": "code",
   "execution_count": 39,
   "id": "1304b918",
   "metadata": {
    "ExecuteTime": {
     "end_time": "2023-06-26T22:03:11.454303Z",
     "start_time": "2023-06-26T22:03:11.357319Z"
    }
   },
   "outputs": [
    {
     "data": {
      "image/png": "[encoded data removed]",
      "text/plain": [
       "<Figure size 432x288 with 1 Axes>"
      ]
     },
     "metadata": {
      "needs_background": "light"
     },
     "output_type": "display_data"
    }
   ],
   "source": [
    "# deve ter maior concentracao de x onde a funcao objetivo é maior, ou seja, proximo de 0.9\n",
    "plt.hist(xs, bins = 20);"
   ]
  },
  {
   "cell_type": "code",
   "execution_count": 40,
   "id": "df91c2a6",
   "metadata": {
    "ExecuteTime": {
     "end_time": "2023-06-26T22:03:12.058095Z",
     "start_time": "2023-06-26T22:03:11.946906Z"
    }
   },
   "outputs": [
    {
     "data": {
      "image/png": "[encoded data removed]",
      "text/plain": [
       "<Figure size 432x288 with 1 Axes>"
      ]
     },
     "metadata": {
      "needs_background": "light"
     },
     "output_type": "display_data"
    }
   ],
   "source": [
    "# o comportamento da funcao objetivo esta fazendo sentido\n",
    "plt.scatter(x = xs, y = actuals)\n",
    "plt.xlabel('valores testados do hiperparametro x')\n",
    "plt.ylabel('valores resultantes reais da funcao objetivo a partir do hiperparametro x')\n",
    "plt.show()"
   ]
  },
  {
   "cell_type": "code",
   "execution_count": 41,
   "id": "432ea7fe",
   "metadata": {
    "ExecuteTime": {
     "end_time": "2023-06-26T22:03:12.841329Z",
     "start_time": "2023-06-26T22:03:12.463661Z"
    }
   },
   "outputs": [
    {
     "ename": "NameError",
     "evalue": "name 'pair_values' is not defined",
     "output_type": "error",
     "traceback": [
      "\u001b[0;31m---------------------------------------------------------------------------\u001b[0m",
      "\u001b[0;31mNameError\u001b[0m                                 Traceback (most recent call last)",
      "Input \u001b[0;32mIn [41]\u001b[0m, in \u001b[0;36m<cell line: 1>\u001b[0;34m()\u001b[0m\n\u001b[0;32m----> 1\u001b[0m pair_values \u001b[38;5;241m=\u001b[39m np\u001b[38;5;241m.\u001b[39marray(\u001b[43mpair_values\u001b[49m)\n",
      "\u001b[0;31mNameError\u001b[0m: name 'pair_values' is not defined"
     ]
    }
   ],
   "source": [
    "pair_values = np.array(pair_values)"
   ]
  },
  {
   "cell_type": "code",
   "execution_count": 42,
   "id": "a7073922",
   "metadata": {
    "ExecuteTime": {
     "end_time": "2023-06-26T22:03:12.944916Z",
     "start_time": "2023-06-26T22:03:12.930739Z"
    }
   },
   "outputs": [
    {
     "ename": "NameError",
     "evalue": "name 'pair_values' is not defined",
     "output_type": "error",
     "traceback": [
      "\u001b[0;31m---------------------------------------------------------------------------\u001b[0m",
      "\u001b[0;31mNameError\u001b[0m                                 Traceback (most recent call last)",
      "Input \u001b[0;32mIn [42]\u001b[0m, in \u001b[0;36m<cell line: 1>\u001b[0;34m()\u001b[0m\n\u001b[0;32m----> 1\u001b[0m _xs \u001b[38;5;241m=\u001b[39m \u001b[43mpair_values\u001b[49m[:,\u001b[38;5;241m0\u001b[39m]\n",
      "\u001b[0;31mNameError\u001b[0m: name 'pair_values' is not defined"
     ]
    }
   ],
   "source": [
    "_xs = pair_values[:,0]"
   ]
  },
  {
   "cell_type": "code",
   "execution_count": 43,
   "id": "a6abb6c1",
   "metadata": {
    "ExecuteTime": {
     "end_time": "2023-06-26T22:03:13.290679Z",
     "start_time": "2023-06-26T22:03:13.263252Z"
    }
   },
   "outputs": [
    {
     "ename": "NameError",
     "evalue": "name 'pair_values' is not defined",
     "output_type": "error",
     "traceback": [
      "\u001b[0;31m---------------------------------------------------------------------------\u001b[0m",
      "\u001b[0;31mNameError\u001b[0m                                 Traceback (most recent call last)",
      "Input \u001b[0;32mIn [43]\u001b[0m, in \u001b[0;36m<cell line: 1>\u001b[0;34m()\u001b[0m\n\u001b[0;32m----> 1\u001b[0m _ests \u001b[38;5;241m=\u001b[39m \u001b[43mpair_values\u001b[49m[:,\u001b[38;5;241m1\u001b[39m]\n",
      "\u001b[0;31mNameError\u001b[0m: name 'pair_values' is not defined"
     ]
    }
   ],
   "source": [
    "_ests = pair_values[:,1]"
   ]
  },
  {
   "cell_type": "code",
   "execution_count": 44,
   "id": "8a6b3df8",
   "metadata": {
    "ExecuteTime": {
     "end_time": "2023-06-26T22:03:13.485045Z",
     "start_time": "2023-06-26T22:03:13.459436Z"
    }
   },
   "outputs": [
    {
     "ename": "NameError",
     "evalue": "name '_xs' is not defined",
     "output_type": "error",
     "traceback": [
      "\u001b[0;31m---------------------------------------------------------------------------\u001b[0m",
      "\u001b[0;31mNameError\u001b[0m                                 Traceback (most recent call last)",
      "Input \u001b[0;32mIn [44]\u001b[0m, in \u001b[0;36m<cell line: 3>\u001b[0;34m()\u001b[0m\n\u001b[1;32m      1\u001b[0m \u001b[38;5;66;03m# porque as estimativas da surrogate function, possuem um formato parecido com os valores obtidos da objective function real, \u001b[39;00m\n\u001b[1;32m      2\u001b[0m \u001b[38;5;66;03m# a otimizacao deve funcionar\\\u001b[39;00m\n\u001b[0;32m----> 3\u001b[0m plt\u001b[38;5;241m.\u001b[39mscatter(x \u001b[38;5;241m=\u001b[39m \u001b[43m_xs\u001b[49m, y \u001b[38;5;241m=\u001b[39m _ests)\n",
      "\u001b[0;31mNameError\u001b[0m: name '_xs' is not defined"
     ]
    }
   ],
   "source": [
    "# porque as estimativas da surrogate function, possuem um formato parecido com os valores obtidos da objective function real, \n",
    "# a otimizacao deve funcionar\\\n",
    "plt.scatter(x = _xs, y = _ests)"
   ]
  },
  {
   "cell_type": "code",
   "execution_count": 45,
   "id": "2bdc67de",
   "metadata": {
    "ExecuteTime": {
     "end_time": "2023-06-26T22:03:13.840849Z",
     "start_time": "2023-06-26T22:03:13.836441Z"
    }
   },
   "outputs": [],
   "source": [
    "model = GaussianProcessRegressor()"
   ]
  },
  {
   "cell_type": "code",
   "execution_count": 46,
   "id": "b1ecbdc8",
   "metadata": {
    "ExecuteTime": {
     "end_time": "2023-06-26T22:03:14.943855Z",
     "start_time": "2023-06-26T22:03:14.928583Z"
    }
   },
   "outputs": [
    {
     "data": {
      "text/html": [
       "<style>#sk-container-id-1 {color: black;background-color: white;}#sk-container-id-1 pre{padding: 0;}#sk-container-id-1 div.sk-toggleable {background-color: white;}#sk-container-id-1 label.sk-toggleable__label {cursor: pointer;display: block;width: 100%;margin-bottom: 0;padding: 0.3em;box-sizing: border-box;text-align: center;}#sk-container-id-1 label.sk-toggleable__label-arrow:before {content: \"▸\";float: left;margin-right: 0.25em;color: #696969;}#sk-container-id-1 label.sk-toggleable__label-arrow:hover:before {color: black;}#sk-container-id-1 div.sk-estimator:hover label.sk-toggleable__label-arrow:before {color: black;}#sk-container-id-1 div.sk-toggleable__content {max-height: 0;max-width: 0;overflow: hidden;text-align: left;background-color: #f0f8ff;}#sk-container-id-1 div.sk-toggleable__content pre {margin: 0.2em;color: black;border-radius: 0.25em;background-color: #f0f8ff;}#sk-container-id-1 input.sk-toggleable__control:checked~div.sk-toggleable__content {max-height: 200px;max-width: 100%;overflow: auto;}#sk-container-id-1 input.sk-toggleable__control:checked~label.sk-toggleable__label-arrow:before {content: \"▾\";}#sk-container-id-1 div.sk-estimator input.sk-toggleable__control:checked~label.sk-toggleable__label {background-color: #d4ebff;}#sk-container-id-1 div.sk-label input.sk-toggleable__control:checked~label.sk-toggleable__label {background-color: #d4ebff;}#sk-container-id-1 input.sk-hidden--visually {border: 0;clip: rect(1px 1px 1px 1px);clip: rect(1px, 1px, 1px, 1px);height: 1px;margin: -1px;overflow: hidden;padding: 0;position: absolute;width: 1px;}#sk-container-id-1 div.sk-estimator {font-family: monospace;background-color: #f0f8ff;border: 1px dotted black;border-radius: 0.25em;box-sizing: border-box;margin-bottom: 0.5em;}#sk-container-id-1 div.sk-estimator:hover {background-color: #d4ebff;}#sk-container-id-1 div.sk-parallel-item::after {content: \"\";width: 100%;border-bottom: 1px solid gray;flex-grow: 1;}#sk-container-id-1 div.sk-label:hover label.sk-toggleable__label {background-color: #d4ebff;}#sk-container-id-1 div.sk-serial::before {content: \"\";position: absolute;border-left: 1px solid gray;box-sizing: border-box;top: 0;bottom: 0;left: 50%;z-index: 0;}#sk-container-id-1 div.sk-serial {display: flex;flex-direction: column;align-items: center;background-color: white;padding-right: 0.2em;padding-left: 0.2em;position: relative;}#sk-container-id-1 div.sk-item {position: relative;z-index: 1;}#sk-container-id-1 div.sk-parallel {display: flex;align-items: stretch;justify-content: center;background-color: white;position: relative;}#sk-container-id-1 div.sk-item::before, #sk-container-id-1 div.sk-parallel-item::before {content: \"\";position: absolute;border-left: 1px solid gray;box-sizing: border-box;top: 0;bottom: 0;left: 50%;z-index: -1;}#sk-container-id-1 div.sk-parallel-item {display: flex;flex-direction: column;z-index: 1;position: relative;background-color: white;}#sk-container-id-1 div.sk-parallel-item:first-child::after {align-self: flex-end;width: 50%;}#sk-container-id-1 div.sk-parallel-item:last-child::after {align-self: flex-start;width: 50%;}#sk-container-id-1 div.sk-parallel-item:only-child::after {width: 0;}#sk-container-id-1 div.sk-dashed-wrapped {border: 1px dashed gray;margin: 0 0.4em 0.5em 0.4em;box-sizing: border-box;padding-bottom: 0.4em;background-color: white;}#sk-container-id-1 div.sk-label label {font-family: monospace;font-weight: bold;display: inline-block;line-height: 1.2em;}#sk-container-id-1 div.sk-label-container {text-align: center;}#sk-container-id-1 div.sk-container {/* jupyter's `normalize.less` sets `[hidden] { display: none; }` but bootstrap.min.css set `[hidden] { display: none !important; }` so we also need the `!important` here to be able to override the default hidden behavior on the sphinx rendered scikit-learn.org. See: https://github.com/scikit-learn/scikit-learn/issues/21755 */display: inline-block !important;position: relative;}#sk-container-id-1 div.sk-text-repr-fallback {display: none;}</style><div id=\"sk-container-id-1\" class=\"sk-top-container\"><div class=\"sk-text-repr-fallback\"><pre>GaussianProcessRegressor()</pre><b>In a Jupyter environment, please rerun this cell to show the HTML representation or trust the notebook. <br />On GitHub, the HTML representation is unable to render, please try loading this page with nbviewer.org.</b></div><div class=\"sk-container\" hidden><div class=\"sk-item\"><div class=\"sk-estimator sk-toggleable\"><input class=\"sk-toggleable__control sk-hidden--visually\" id=\"sk-estimator-id-1\" type=\"checkbox\" checked><label for=\"sk-estimator-id-1\" class=\"sk-toggleable__label sk-toggleable__label-arrow\">GaussianProcessRegressor</label><div class=\"sk-toggleable__content\"><pre>GaussianProcessRegressor()</pre></div></div></div></div></div>"
      ],
      "text/plain": [
       "GaussianProcessRegressor()"
      ]
     },
     "execution_count": 46,
     "metadata": {},
     "output_type": "execute_result"
    }
   ],
   "source": [
    "model.fit(X = np.array(xs).reshape(-1,1), y = np.array(actuals))"
   ]
  },
  {
   "cell_type": "code",
   "execution_count": 47,
   "id": "d973605f",
   "metadata": {
    "ExecuteTime": {
     "end_time": "2023-06-26T22:03:15.204919Z",
     "start_time": "2023-06-26T22:03:15.112028Z"
    }
   },
   "outputs": [
    {
     "data": {
      "image/png": "[encoded data removed]",
      "text/plain": [
       "<Figure size 432x288 with 1 Axes>"
      ]
     },
     "metadata": {
      "needs_background": "light"
     },
     "output_type": "display_data"
    }
   ],
   "source": [
    "plot(X, y, model)"
   ]
  }
 ],
 "metadata": {
  "kernelspec": {
   "display_name": "Python 3 (ipykernel)",
   "language": "python",
   "name": "python3"
  },
  "language_info": {
   "codemirror_mode": {
    "name": "ipython",
    "version": 3
   },
   "file_extension": ".py",
   "mimetype": "text/x-python",
   "name": "python",
   "nbconvert_exporter": "python",
   "pygments_lexer": "ipython3",
   "version": "3.8.15"
  },
  "toc": {
   "base_numbering": 1,
   "nav_menu": {},
   "number_sections": true,
   "sideBar": true,
   "skip_h1_title": false,
   "title_cell": "Table of Contents",
   "title_sidebar": "Contents",
   "toc_cell": false,
   "toc_position": {},
   "toc_section_display": true,
   "toc_window_display": false
  }
 },
 "nbformat": 4,
 "nbformat_minor": 5
}
