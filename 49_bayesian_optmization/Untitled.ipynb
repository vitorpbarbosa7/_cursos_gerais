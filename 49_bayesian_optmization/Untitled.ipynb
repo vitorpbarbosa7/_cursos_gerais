{
 "cells": [
  {
   "cell_type": "code",
   "execution_count": 1,
   "id": "c1a5bf97",
   "metadata": {
    "ExecuteTime": {
     "end_time": "2023-03-11T14:18:07.883406Z",
     "start_time": "2023-03-11T14:18:06.704568Z"
    }
   },
   "outputs": [],
   "source": [
    "from numpy import array as ar\n",
    "import numpy as np \n",
    "import matplotlib.pyplot as plt\n",
    "from sklearn.gaussian_process import GaussianProcessRegressor\n",
    "from scipy.stats import norm"
   ]
  },
  {
   "cell_type": "code",
   "execution_count": 2,
   "id": "a3c458c2",
   "metadata": {
    "ExecuteTime": {
     "end_time": "2023-03-11T14:18:07.887258Z",
     "start_time": "2023-03-11T14:18:07.885131Z"
    }
   },
   "outputs": [],
   "source": [
    "def objective(x, noise = 0.1):\n",
    "\tnoise = np.random.normal(loc=0, scale = noise)\n",
    "\tmultimodal = (x**2 * np.sin(5*np.pi*x)**6) + noise\n",
    "\treturn multimodal"
   ]
  },
  {
   "cell_type": "code",
   "execution_count": 3,
   "id": "58af316f",
   "metadata": {
    "ExecuteTime": {
     "end_time": "2023-03-11T14:18:07.893217Z",
     "start_time": "2023-03-11T14:18:07.891567Z"
    }
   },
   "outputs": [],
   "source": [
    "# The grid-base:\n",
    "hyperparameter_inferior_limit = 0\n",
    "hyperparameter_superior_limit = 1\n",
    "step = 0.01"
   ]
  },
  {
   "cell_type": "code",
   "execution_count": 4,
   "id": "cb388c11",
   "metadata": {
    "ExecuteTime": {
     "end_time": "2023-03-11T14:18:07.898766Z",
     "start_time": "2023-03-11T14:18:07.895360Z"
    }
   },
   "outputs": [],
   "source": [
    "X = np.arange(hyperparameter_inferior_limit,hyperparameter_superior_limit,step)\n",
    "multimodal = objective(X)"
   ]
  },
  {
   "cell_type": "code",
   "execution_count": 5,
   "id": "05591a51",
   "metadata": {
    "ExecuteTime": {
     "end_time": "2023-03-11T14:18:08.051633Z",
     "start_time": "2023-03-11T14:18:07.899821Z"
    }
   },
   "outputs": [
    {
     "data": {
      "image/png": "[encoded data removed]",
      "text/plain": [
       "<Figure size 432x288 with 1 Axes>"
      ]
     },
     "metadata": {
      "needs_background": "light"
     },
     "output_type": "display_data"
    },
    {
     "data": {
      "image/png": "[encoded data removed]",
      "text/plain": [
       "<Figure size 432x288 with 1 Axes>"
      ]
     },
     "metadata": {
      "needs_background": "light"
     },
     "output_type": "display_data"
    }
   ],
   "source": [
    "def plot_one(X,multimodal):\n",
    "\tplt.scatter(x = X, y = multimodal)\n",
    "\tplt.show()\n",
    "# evaluate without noise\n",
    "y = [objective(x,0) for x in X]\n",
    "y_noise = [objective(x) for x in X]\n",
    "plot_one(X,y)\n",
    "plot_one(X,y_noise)"
   ]
  },
  {
   "cell_type": "code",
   "execution_count": 6,
   "id": "ac1ffc42",
   "metadata": {
    "ExecuteTime": {
     "end_time": "2023-03-11T14:18:08.057051Z",
     "start_time": "2023-03-11T14:18:08.053194Z"
    }
   },
   "outputs": [
    {
     "name": "stdout",
     "output_type": "stream",
     "text": [
      "Optima value is (X = 0.9,y = 0.81)\n"
     ]
    }
   ],
   "source": [
    "argument_index_maximizes_function = np.argmax(y)\n",
    "idx = argument_index_maximizes_function\n",
    "print(f'Optima value is (X = {X[idx]},y = {y[idx]})')"
   ]
  },
  {
   "cell_type": "code",
   "execution_count": 7,
   "id": "f5f1dbe9",
   "metadata": {
    "ExecuteTime": {
     "end_time": "2023-03-11T14:18:08.067144Z",
     "start_time": "2023-03-11T14:18:08.058576Z"
    },
    "code_folding": []
   },
   "outputs": [],
   "source": [
    "#surrogate or approximation for the objective function\n",
    "# since we do not have its shape, we will use some way to find the intermediate points\n",
    "# Gaussian Process Regressor\n",
    "model = GaussianProcessRegressor()\n",
    "X = X.reshape(-1,1)\n",
    "# fit the model\n",
    "model.fit(X, y)\n",
    "def surrogate(model, X):\n",
    "\treturn model.predict(X, return_std=True)\n",
    "\n",
    "#nao eh yhat probabilidade, eh yhat valor? valor mesmo, regressao, qual valor provavel, o valor e seu desvio padrao sao retornados\n",
    "y_hat = surrogate(model, X)"
   ]
  },
  {
   "cell_type": "code",
   "execution_count": 8,
   "id": "f64ce910",
   "metadata": {
    "ExecuteTime": {
     "end_time": "2023-03-11T14:18:08.135587Z",
     "start_time": "2023-03-11T14:18:08.068697Z"
    }
   },
   "outputs": [
    {
     "data": {
      "image/png": "[encoded data removed]",
      "text/plain": [
       "<Figure size 432x288 with 1 Axes>"
      ]
     },
     "metadata": {
      "needs_background": "light"
     },
     "output_type": "display_data"
    }
   ],
   "source": [
    "# tem um desvio padrao nessa curva que nao estou plotando\n",
    "# X dominio\n",
    "# y valor predito pelo GaussianProcessRegressor\n",
    "plt.scatter(x = X, y = y_hat[0]);"
   ]
  },
  {
   "cell_type": "code",
   "execution_count": 9,
   "id": "4537baf0",
   "metadata": {
    "ExecuteTime": {
     "end_time": "2023-03-11T14:18:08.141277Z",
     "start_time": "2023-03-11T14:18:08.137533Z"
    }
   },
   "outputs": [],
   "source": [
    "def plot(X, y, model):\n",
    "    '''\n",
    "    X: real values of hyperparameters which were already tested\n",
    "    y: real objective values (already evaluated)\n",
    "    model: gaussian model, which was fitted using the X and y values\n",
    "    \n",
    "    >> From this model we will have an estimation of the function (which we do not know their format, NEVER KNOW !!!!)\n",
    "\n",
    "    > Scatter points are from real values\n",
    "    > Line belongs to predicted surrogate model, which is only an estimate of how the function works\n",
    "    '''\n",
    "    \n",
    "    # scatter plot of inputs and real objective function\n",
    "    plt.scatter(X, y)\n",
    "\n",
    "    # line plot of surrogate function across domain\n",
    "    Xsamples = np.asarray(np.arange(0, 1, 0.001))\n",
    "    Xsamples = Xsamples.reshape(len(Xsamples), 1)\n",
    "    ysamples, _ = surrogate(model, Xsamples)\n",
    "    plt.plot(Xsamples, ysamples)\n",
    "    # show the plot\n",
    "    plt.show()"
   ]
  },
  {
   "cell_type": "code",
   "execution_count": 10,
   "id": "7861bc7d",
   "metadata": {
    "ExecuteTime": {
     "end_time": "2023-03-11T14:18:08.145757Z",
     "start_time": "2023-03-11T14:18:08.142961Z"
    }
   },
   "outputs": [],
   "source": [
    "# Amostrar do dominio esparso com disturbio\n",
    "# a nao didatica aqui eh que o dominio vai de 0 ate 1, por isso o default dessa querida funcao da certo\n",
    "X = np.random.random(100)"
   ]
  },
  {
   "cell_type": "code",
   "execution_count": 11,
   "id": "a7931935",
   "metadata": {
    "ExecuteTime": {
     "end_time": "2023-03-11T14:18:08.225259Z",
     "start_time": "2023-03-11T14:18:08.152263Z"
    }
   },
   "outputs": [
    {
     "data": {
      "image/png": "[encoded data removed]",
      "text/plain": [
       "<Figure size 432x288 with 1 Axes>"
      ]
     },
     "metadata": {
      "needs_background": "light"
     },
     "output_type": "display_data"
    }
   ],
   "source": [
    "# line is the real function (which generally we do not know, actually, WE NEVER KNOW !!!!!!!)\n",
    "# points are the estimates of the surrogate_function with the grid passed, the grid was a random sample between 0 and 1 \n",
    "\n",
    "# Para valores aleatorios entre 0 e 1, rode a objective function, nao a surrogate, e plote o resultado\n",
    "y = np.asarray([objective(x) for x in X])\n",
    "# reshape into rows and cols\n",
    "X = X.reshape(len(X), 1)\n",
    "y = y.reshape(len(y), 1)\n",
    "# define the model\n",
    "model = GaussianProcessRegressor()\n",
    "# fit the model\n",
    "model.fit(X, y)\n",
    "# plot the surrogate function\n",
    "plot(X, y, model)"
   ]
  },
  {
   "cell_type": "code",
   "execution_count": 12,
   "id": "44740098",
   "metadata": {
    "ExecuteTime": {
     "end_time": "2023-03-11T14:18:08.230431Z",
     "start_time": "2023-03-11T14:18:08.226985Z"
    }
   },
   "outputs": [],
   "source": [
    "# otimizar a funcao de aquisicao\n",
    "def otimizar_funcao_aquisicao(X, y, model):\n",
    "\t# random search, gerar amostras aleatórias\n",
    "\t# no optuna essa distribuicao já não está disponível do range que passamos?\n",
    "    \n",
    "    #TODO\n",
    "    # teria que parametrizar isso aqui, alias melhor utilizar random.uniform\n",
    "    # o dominio dessa porcaria eh entre 0 e 1 \n",
    "\tXsamples = np.random.random(100)\n",
    "\n",
    "\tXsamples = Xsamples.reshape(len(Xsamples), 1)\n",
    "\n",
    "\t# Calcular a funcao de aquisicao \n",
    "    # aqui podem retornar varios\n",
    "    # mas la em baixo soh pegamos o argmax\n",
    "\tscores = funcao_aquisicao(X, Xsamples, model)\n",
    "\n",
    "\t# localizar o indice com maior socre da funcao de aquisicao\n",
    "    # ou seja, qual o proximo queridinho que vale a pena jogarmos no modelo pra ver se presta, e retornar outro\n",
    "    # valor na objective_function\n",
    "\tidx = np.argmax(scores)\n",
    "\n",
    "\t# Retorne a partir da amostra aleatória, qual dos valores que maximiza a funcao de aquisicao\n",
    "    # justamente aqui, o valor do queridinho\n",
    "\treturn Xsamples[idx, 0]"
   ]
  },
  {
   "cell_type": "code",
   "execution_count": 13,
   "id": "c3bf72c1",
   "metadata": {
    "ExecuteTime": {
     "end_time": "2023-03-11T14:18:08.235404Z",
     "start_time": "2023-03-11T14:18:08.232086Z"
    }
   },
   "outputs": [],
   "source": [
    "def funcao_aquisicao(X, Xsamples, model):\n",
    "    '''\n",
    "    X - grid do espaco que ja foi rodado a surrogate function?\n",
    "    Xsamples - novas samples que podemos ver qual sera o resultado da model?\n",
    "    model -  o modelo que foi fitado com o grid existente, com valores que já existem de parametros testados, \n",
    "    e o valor final da surrogate function (average_precision, por exemplo?)\n",
    "    '''\n",
    "    # calculate the best surrogate score found so far\n",
    "    yhat, _ = surrogate(model, X)\n",
    "    best = max(yhat)\n",
    "    # calculate mean and stdev via surrogate function\n",
    "    mu, std = surrogate(model, Xsamples)\n",
    "    # calculate the probability of improvement\n",
    "    probs = norm.cdf((mu - best) / (std+1E-9))\n",
    "    return probs"
   ]
  },
  {
   "cell_type": "code",
   "execution_count": 14,
   "id": "7a498ad6",
   "metadata": {
    "ExecuteTime": {
     "end_time": "2023-03-11T14:18:08.240627Z",
     "start_time": "2023-03-11T14:18:08.237905Z"
    }
   },
   "outputs": [],
   "source": [
    "X_aleatorio = np.random.random(100)"
   ]
  },
  {
   "cell_type": "code",
   "execution_count": 15,
   "id": "512b63c2",
   "metadata": {
    "ExecuteTime": {
     "end_time": "2023-03-11T14:18:08.311161Z",
     "start_time": "2023-03-11T14:18:08.242646Z"
    }
   },
   "outputs": [
    {
     "data": {
      "image/png": "[encoded data removed]",
      "text/plain": [
       "<Figure size 432x288 with 1 Axes>"
      ]
     },
     "metadata": {
      "needs_background": "light"
     },
     "output_type": "display_data"
    }
   ],
   "source": [
    "y = np.asarray([objective(x) for x in X_aleatorio])\n",
    "# reshape into rows and cols\n",
    "X = X_aleatorio.reshape(len(X_aleatorio), 1)\n",
    "y = y.reshape(len(y), 1)\n",
    "# define the model\n",
    "model = GaussianProcessRegressor()\n",
    "# fit the model\n",
    "model.fit(X, y)\n",
    "# plot before hand\n",
    "plot(X, y, model)"
   ]
  },
  {
   "cell_type": "code",
   "execution_count": 16,
   "id": "f68dd6e3",
   "metadata": {
    "ExecuteTime": {
     "end_time": "2023-03-11T14:18:08.317048Z",
     "start_time": "2023-03-11T14:18:08.313263Z"
    }
   },
   "outputs": [],
   "source": [
    "yhat, _ = surrogate(model, X)"
   ]
  },
  {
   "cell_type": "code",
   "execution_count": 17,
   "id": "10012f31",
   "metadata": {
    "ExecuteTime": {
     "end_time": "2023-03-11T14:18:08.322070Z",
     "start_time": "2023-03-11T14:18:08.319139Z"
    }
   },
   "outputs": [],
   "source": [
    "media, desvio_padrao = surrogate(model, X)"
   ]
  },
  {
   "cell_type": "code",
   "execution_count": 18,
   "id": "8fadff73",
   "metadata": {
    "ExecuteTime": {
     "end_time": "2023-03-11T14:18:08.434984Z",
     "start_time": "2023-03-11T14:18:08.323973Z"
    }
   },
   "outputs": [
    {
     "data": {
      "text/plain": [
       "<matplotlib.collections.PathCollection at 0x7fc758b1e910>"
      ]
     },
     "execution_count": 18,
     "metadata": {},
     "output_type": "execute_result"
    },
    {
     "data": {
      "image/png": "[encoded data removed]",
      "text/plain": [
       "<Figure size 432x288 with 1 Axes>"
      ]
     },
     "metadata": {
      "needs_background": "light"
     },
     "output_type": "display_data"
    }
   ],
   "source": [
    "plt.scatter(x = X, y = media)"
   ]
  },
  {
   "cell_type": "code",
   "execution_count": 19,
   "id": "bbb09cdb",
   "metadata": {
    "ExecuteTime": {
     "end_time": "2023-03-11T14:18:08.439029Z",
     "start_time": "2023-03-11T14:18:08.436539Z"
    }
   },
   "outputs": [],
   "source": [
    "maior_valor_estimado_surrogate = max(yhat)"
   ]
  },
  {
   "cell_type": "code",
   "execution_count": 20,
   "id": "6ae3f41b",
   "metadata": {
    "ExecuteTime": {
     "end_time": "2023-03-11T14:18:08.443670Z",
     "start_time": "2023-03-11T14:18:08.440632Z"
    }
   },
   "outputs": [
    {
     "name": "stdout",
     "output_type": "stream",
     "text": [
      "0.42084789276123047\n"
     ]
    }
   ],
   "source": [
    "# sabemos que na funcao objetivo mesmo, o valor é superior\n",
    "print(maior_valor_estimado_surrogate)"
   ]
  },
  {
   "cell_type": "code",
   "execution_count": 21,
   "id": "a8e9af3e",
   "metadata": {
    "ExecuteTime": {
     "end_time": "2023-03-11T14:18:08.448355Z",
     "start_time": "2023-03-11T14:18:08.445264Z"
    }
   },
   "outputs": [],
   "source": [
    "argmax_surrogate = np.argmax(yhat)"
   ]
  },
  {
   "cell_type": "code",
   "execution_count": 22,
   "id": "41677696",
   "metadata": {
    "ExecuteTime": {
     "end_time": "2023-03-11T14:18:08.453294Z",
     "start_time": "2023-03-11T14:18:08.449685Z"
    }
   },
   "outputs": [
    {
     "name": "stdout",
     "output_type": "stream",
     "text": [
      "[0.91216127]\n"
     ]
    }
   ],
   "source": [
    "print(X[argmax_surrogate])"
   ]
  },
  {
   "cell_type": "code",
   "execution_count": 23,
   "id": "e0d16810",
   "metadata": {
    "ExecuteTime": {
     "end_time": "2023-03-11T14:18:08.457410Z",
     "start_time": "2023-03-11T14:18:08.455395Z"
    }
   },
   "outputs": [],
   "source": [
    "# Se formos olhar lah em cima, o maior valor da funcao objetivo foi de 0.81 e o valor que maximizava isso era o de 0.91, entao estamos bem proximos"
   ]
  },
  {
   "cell_type": "code",
   "execution_count": 24,
   "id": "0cc7c99e",
   "metadata": {
    "ExecuteTime": {
     "end_time": "2023-03-11T14:18:08.461783Z",
     "start_time": "2023-03-11T14:18:08.459114Z"
    }
   },
   "outputs": [],
   "source": [
    "# media eh o valor predito pela GaussianRegressor\n",
    "# nome ruim\n",
    "media_menos_maior_valor = (media - maior_valor_estimado_surrogate)\n",
    "valores_normalizados = media_menos_maior_valor/(desvio_padrao)"
   ]
  },
  {
   "cell_type": "code",
   "execution_count": 25,
   "id": "d70c7901",
   "metadata": {
    "ExecuteTime": {
     "end_time": "2023-03-11T14:18:08.538614Z",
     "start_time": "2023-03-11T14:18:08.463724Z"
    }
   },
   "outputs": [
    {
     "data": {
      "text/plain": [
       "<matplotlib.collections.PathCollection at 0x7fc77b3e0f40>"
      ]
     },
     "execution_count": 25,
     "metadata": {},
     "output_type": "execute_result"
    },
    {
     "data": {
      "image/png": "[encoded data removed]",
      "text/plain": [
       "<Figure size 432x288 with 1 Axes>"
      ]
     },
     "metadata": {
      "needs_background": "light"
     },
     "output_type": "display_data"
    }
   ],
   "source": [
    "plt.scatter(x = X, y = media_menos_maior_valor)"
   ]
  },
  {
   "cell_type": "code",
   "execution_count": 26,
   "id": "6d81c92e",
   "metadata": {
    "ExecuteTime": {
     "end_time": "2023-03-11T14:18:08.613609Z",
     "start_time": "2023-03-11T14:18:08.540504Z"
    }
   },
   "outputs": [
    {
     "data": {
      "text/plain": [
       "<matplotlib.collections.PathCollection at 0x7fc76849ad30>"
      ]
     },
     "execution_count": 26,
     "metadata": {},
     "output_type": "execute_result"
    },
    {
     "data": {
      "image/png": "[encoded data removed]",
      "text/plain": [
       "<Figure size 432x288 with 1 Axes>"
      ]
     },
     "metadata": {
      "needs_background": "light"
     },
     "output_type": "display_data"
    }
   ],
   "source": [
    "# negativo para todos, menos o maior valor\n",
    "# MAS CALMAAA, AQUI PODE RETORNAR MAIS DE UM VALOR QUE SERA MAIOR QUE ZERO, DADO QUE TEMOS O DESVIO PADRAO DE CADA PONTO DA\n",
    "# PREDICAO DO GAUSSIANPROCESSREGRESSOR()\n",
    "plt.scatter(x = X, y = valores_normalizados)"
   ]
  },
  {
   "cell_type": "code",
   "execution_count": 27,
   "id": "74730678",
   "metadata": {
    "ExecuteTime": {
     "end_time": "2023-03-11T14:18:08.618619Z",
     "start_time": "2023-03-11T14:18:08.615776Z"
    }
   },
   "outputs": [
    {
     "name": "stdout",
     "output_type": "stream",
     "text": [
      "<class 'numpy.ndarray'>\n"
     ]
    }
   ],
   "source": [
    "print(type(valores_normalizados))"
   ]
  },
  {
   "cell_type": "code",
   "execution_count": 28,
   "id": "8e5c333c",
   "metadata": {
    "ExecuteTime": {
     "end_time": "2023-03-11T14:18:08.623102Z",
     "start_time": "2023-03-11T14:18:08.620060Z"
    }
   },
   "outputs": [],
   "source": [
    "# quando fazemos a acumulada pegamos quais sao menores que zero e quais sao maiores?\n",
    "# mas precisa da acumulada pra isso?\n",
    "acumulada = norm.cdf(x = valores_normalizados)"
   ]
  },
  {
   "cell_type": "code",
   "execution_count": 29,
   "id": "6f335d7c",
   "metadata": {
    "ExecuteTime": {
     "end_time": "2023-03-11T14:18:08.688047Z",
     "start_time": "2023-03-11T14:18:08.624910Z"
    }
   },
   "outputs": [
    {
     "data": {
      "text/plain": [
       "[<matplotlib.lines.Line2D at 0x7fc77b3f5250>]"
      ]
     },
     "execution_count": 29,
     "metadata": {},
     "output_type": "execute_result"
    },
    {
     "data": {
      "image/png": "[encoded data removed]",
      "text/plain": [
       "<Figure size 432x288 with 1 Axes>"
      ]
     },
     "metadata": {
      "needs_background": "light"
     },
     "output_type": "display_data"
    }
   ],
   "source": [
    "plt.plot(acumulada)"
   ]
  },
  {
   "cell_type": "code",
   "execution_count": 30,
   "id": "07f7fe0f",
   "metadata": {
    "ExecuteTime": {
     "end_time": "2023-03-11T14:18:08.692799Z",
     "start_time": "2023-03-11T14:18:08.690326Z"
    }
   },
   "outputs": [],
   "source": [
    "probs = norm.cdf(x = valores_normalizados)"
   ]
  },
  {
   "cell_type": "code",
   "execution_count": 31,
   "id": "bd93a0eb",
   "metadata": {
    "ExecuteTime": {
     "end_time": "2023-03-11T14:18:08.698557Z",
     "start_time": "2023-03-11T14:18:08.694330Z"
    }
   },
   "outputs": [
    {
     "data": {
      "text/plain": [
       "array([0. , 0. , 0. , 0. , 0. , 0. , 0. , 0. , 0. , 0. , 0. , 0. , 0. ,\n",
       "       0. , 0. , 0. , 0. , 0. , 0. , 0. , 0. , 0. , 0. , 0. , 0. , 0. ,\n",
       "       0. , 0. , 0. , 0. , 0. , 0. , 0. , 0. , 0. , 0. , 0. , 0. , 0. ,\n",
       "       0. , 0. , 0. , 0. , 0. , 0. , 0. , 0. , 0. , 0. , 0. , 0. , 0. ,\n",
       "       0. , 0. , 0. , 0. , 0. , 0. , 0. , 0. , 0. , 0. , 0. , 0. , 0. ,\n",
       "       0. , 0. , 0. , 0. , 0. , 0. , 0. , 0. , 0. , 0. , 0. , 0. , 0. ,\n",
       "       0. , 0. , 0. , 0. , 0. , 0. , 0. , 0. , 0. , 0. , 0.5, 0. , 0. ,\n",
       "       0. , 0. , 0. , 0. , 0. , 0. , 0. , 0. , 0. ])"
      ]
     },
     "execution_count": 31,
     "metadata": {},
     "output_type": "execute_result"
    }
   ],
   "source": [
    "probs"
   ]
  },
  {
   "cell_type": "markdown",
   "id": "e6fb28c4",
   "metadata": {},
   "source": [
    "# opt"
   ]
  },
  {
   "cell_type": "code",
   "execution_count": 32,
   "id": "c099f089",
   "metadata": {
    "ExecuteTime": {
     "end_time": "2023-03-11T14:18:08.702999Z",
     "start_time": "2023-03-11T14:18:08.700575Z"
    }
   },
   "outputs": [],
   "source": [
    "# Entao com X ja temos os valores, ate o momento, no optuna, avaliados quanto a performance"
   ]
  },
  {
   "cell_type": "markdown",
   "id": "080680b3",
   "metadata": {
    "ExecuteTime": {
     "end_time": "2023-03-11T14:09:05.461916Z",
     "start_time": "2023-03-11T14:09:05.453560Z"
    }
   },
   "source": [
    "print(X)"
   ]
  },
  {
   "cell_type": "code",
   "execution_count": 33,
   "id": "60a313d9",
   "metadata": {
    "ExecuteTime": {
     "end_time": "2023-03-11T14:18:08.707690Z",
     "start_time": "2023-03-11T14:18:08.705078Z"
    }
   },
   "outputs": [],
   "source": [
    "# Com y ja temos quao bem eles foram "
   ]
  },
  {
   "cell_type": "code",
   "execution_count": 34,
   "id": "ca6dbb92",
   "metadata": {
    "ExecuteTime": {
     "end_time": "2023-03-11T14:18:08.781709Z",
     "start_time": "2023-03-11T14:18:08.710493Z"
    }
   },
   "outputs": [
    {
     "data": {
      "text/plain": [
       "<matplotlib.collections.PathCollection at 0x7fc768456d60>"
      ]
     },
     "execution_count": 34,
     "metadata": {},
     "output_type": "execute_result"
    },
    {
     "data": {
      "image/png": "[encoded data removed]",
      "text/plain": [
       "<Figure size 432x288 with 1 Axes>"
      ]
     },
     "metadata": {
      "needs_background": "light"
     },
     "output_type": "display_data"
    }
   ],
   "source": [
    "plt.scatter(x = X, y = y)"
   ]
  },
  {
   "cell_type": "markdown",
   "id": "a9420bd5",
   "metadata": {
    "ExecuteTime": {
     "end_time": "2023-03-11T14:10:30.787313Z",
     "start_time": "2023-03-11T14:10:30.779499Z"
    }
   },
   "source": [
    "- agora vamos realizar a otimizacao, para saber qual valor, dentre todos estes ja avaliados, \n",
    "vale a pena seguir pra testar e adicionar no array de ja testados e valor ja avaliado pela objective_function"
   ]
  },
  {
   "cell_type": "code",
   "execution_count": 223,
   "id": "f9edef71",
   "metadata": {
    "ExecuteTime": {
     "end_time": "2023-03-11T15:00:18.531645Z",
     "start_time": "2023-03-11T15:00:18.526295Z"
    }
   },
   "outputs": [],
   "source": [
    "N_TRIALS = 50"
   ]
  },
  {
   "cell_type": "code",
   "execution_count": 224,
   "id": "f45323a0",
   "metadata": {
    "ExecuteTime": {
     "end_time": "2023-03-11T15:00:18.539955Z",
     "start_time": "2023-03-11T15:00:18.536153Z"
    }
   },
   "outputs": [],
   "source": [
    "# vamos super que as duas primeiras vezes que rodei o optuna, vai dar determinado resultado\n",
    "INITIAL_SIZE = 2"
   ]
  },
  {
   "cell_type": "code",
   "execution_count": 225,
   "id": "70cc3ea4",
   "metadata": {
    "ExecuteTime": {
     "end_time": "2023-03-11T15:00:18.634307Z",
     "start_time": "2023-03-11T15:00:18.543592Z"
    }
   },
   "outputs": [
    {
     "data": {
      "image/png": "[encoded data removed]",
      "text/plain": [
       "<Figure size 432x288 with 1 Axes>"
      ]
     },
     "metadata": {
      "needs_background": "light"
     },
     "output_type": "display_data"
    }
   ],
   "source": [
    "# sample the domain sparsely with noise\n",
    "X = np.random.random(INITIAL_SIZE)\n",
    "y = np.asarray([objective(x) for x in X])\n",
    "# reshape into rows and cols\n",
    "X = X.reshape(len(X), 1)\n",
    "y = y.reshape(len(y), 1)\n",
    "# define the model\n",
    "model = GaussianProcessRegressor()\n",
    "# fit the model\n",
    "model.fit(X, y)\n",
    "# plot before hand\n",
    "plot(X, y, model)"
   ]
  },
  {
   "cell_type": "code",
   "execution_count": 226,
   "id": "032d3c4d",
   "metadata": {
    "ExecuteTime": {
     "end_time": "2023-03-11T15:00:18.701932Z",
     "start_time": "2023-03-11T15:00:18.636097Z"
    },
    "scrolled": true
   },
   "outputs": [
    {
     "name": "stdout",
     "output_type": "stream",
     "text": [
      "\n",
      "\n",
      "Proximo queridinho que vale a pena testar: 0.7651007513879955\n",
      "\n",
      "Testando o queridinho 0.7651007513879955 no optuna o resultado foi de 0.0446074139752881\n",
      "\n",
      "A partir de x=0.7651007513879955 a funcao objetivo retornou y_real=0.0446074139752881 e a surrogate_function retornou yhat = 0.29220190725558837\n",
      "\n",
      "\n",
      "Proximo queridinho que vale a pena testar: 0.7135488718411347\n",
      "\n",
      "Testando o queridinho 0.7135488718411347 no optuna o resultado foi de 0.459484444540781\n",
      "\n",
      "A partir de x=0.7135488718411347 a funcao objetivo retornou y_real=0.459484444540781 e a surrogate_function retornou yhat = 0.10406466086988075\n",
      "\n",
      "\n",
      "Proximo queridinho que vale a pena testar: 0.016966174992990135\n",
      "\n",
      "Testando o queridinho 0.016966174992990135 no optuna o resultado foi de 0.10586426773372234\n",
      "\n",
      "A partir de x=0.016966174992990135 a funcao objetivo retornou y_real=0.10586426773372234 e a surrogate_function retornou yhat = 135.12642976175994\n",
      "\n",
      "\n",
      "Proximo queridinho que vale a pena testar: 0.5036055165402596\n",
      "\n",
      "Testando o queridinho 0.5036055165402596 no optuna o resultado foi de 0.2572827311451093\n",
      "\n",
      "A partir de x=0.5036055165402596 a funcao objetivo retornou y_real=0.2572827311451093 e a surrogate_function retornou yhat = 0.8350307965447428\n",
      "\n",
      "\n",
      "Proximo queridinho que vale a pena testar: 0.033271484990733735\n",
      "\n",
      "Testando o queridinho 0.033271484990733735 no optuna o resultado foi de 0.042644262336548486\n",
      "\n",
      "A partir de x=0.033271484990733735 a funcao objetivo retornou y_real=0.042644262336548486 e a surrogate_function retornou yhat = 1.3792031556367874\n",
      "\n",
      "\n",
      "Proximo queridinho que vale a pena testar: 0.3938318633651551\n",
      "\n",
      "Testando o queridinho 0.3938318633651551 no optuna o resultado foi de 0.10977731487465958\n",
      "\n",
      "A partir de x=0.3938318633651551 a funcao objetivo retornou y_real=0.10977731487465958 e a surrogate_function retornou yhat = 1.5441264882683754\n",
      "\n",
      "\n",
      "Proximo queridinho que vale a pena testar: 0.7064774383871009\n",
      "\n",
      "Testando o queridinho 0.7064774383871009 no optuna o resultado foi de 0.42784387102727234\n",
      "\n",
      "A partir de x=0.7064774383871009 a funcao objetivo retornou y_real=0.42784387102727234 e a surrogate_function retornou yhat = 0.29863250255584717\n",
      "\n",
      "\n",
      "Proximo queridinho que vale a pena testar: 0.9655908374810415\n",
      "\n",
      "Testando o queridinho 0.9655908374810415 no optuna o resultado foi de -0.16926087463501693\n",
      "\n",
      "A partir de x=0.9655908374810415 a funcao objetivo retornou y_real=-0.16926087463501693 e a surrogate_function retornou yhat = -12.021631240844727\n",
      "\n",
      "\n",
      "Proximo queridinho que vale a pena testar: 0.23046046551398847\n",
      "\n",
      "Testando o queridinho 0.23046046551398847 no optuna o resultado foi de -0.05786685948694649\n",
      "\n",
      "A partir de x=0.23046046551398847 a funcao objetivo retornou y_real=-0.05786685948694649 e a surrogate_function retornou yhat = 0.289668932557106\n",
      "\n",
      "\n",
      "Proximo queridinho que vale a pena testar: 0.004871861716091552\n",
      "\n",
      "Testando o queridinho 0.004871861716091552 no optuna o resultado foi de -0.005412145322430175\n",
      "\n",
      "A partir de x=0.004871861716091552 a funcao objetivo retornou y_real=-0.005412145322430175 e a surrogate_function retornou yhat = 0.2748905122280121\n",
      "\n",
      "\n",
      "Proximo queridinho que vale a pena testar: 0.7224445405158394\n",
      "\n",
      "Testando o queridinho 0.7224445405158394 no optuna o resultado foi de 0.2043687576000414\n",
      "\n",
      "A partir de x=0.7224445405158394 a funcao objetivo retornou y_real=0.2043687576000414 e a surrogate_function retornou yhat = 0.25466257333755493\n",
      "\n",
      "\n",
      "Proximo queridinho que vale a pena testar: 0.45297962309887896\n",
      "\n",
      "Testando o queridinho 0.45297962309887896 no optuna o resultado foi de 0.09990761756862683\n",
      "\n",
      "A partir de x=0.45297962309887896 a funcao objetivo retornou y_real=0.09990761756862683 e a surrogate_function retornou yhat = 0.0964459776878357\n",
      "\n",
      "\n",
      "Proximo queridinho que vale a pena testar: 0.14650146296680588\n",
      "\n",
      "Testando o queridinho 0.14650146296680588 no optuna o resultado foi de 0.11165509972145335\n",
      "\n",
      "A partir de x=0.14650146296680588 a funcao objetivo retornou y_real=0.11165509972145335 e a surrogate_function retornou yhat = -0.03522738441824913\n",
      "\n",
      "\n",
      "Proximo queridinho que vale a pena testar: 0.7037319398116761\n",
      "\n",
      "Testando o queridinho 0.7037319398116761 no optuna o resultado foi de 0.6122214113481099\n",
      "\n",
      "A partir de x=0.7037319398116761 a funcao objetivo retornou y_real=0.6122214113481099 e a surrogate_function retornou yhat = 0.24370348453521729\n",
      "\n",
      "\n",
      "Proximo queridinho que vale a pena testar: 0.6899301764550234\n",
      "\n",
      "Testando o queridinho 0.6899301764550234 no optuna o resultado foi de 0.4796632733782832\n",
      "\n",
      "A partir de x=0.6899301764550234 a funcao objetivo retornou y_real=0.4796632733782832 e a surrogate_function retornou yhat = 0.31159353256225586\n",
      "\n",
      "\n",
      "Proximo queridinho que vale a pena testar: 0.6901505313241114\n",
      "\n",
      "Testando o queridinho 0.6901505313241114 no optuna o resultado foi de 0.3479305256102208\n",
      "\n",
      "A partir de x=0.6901505313241114 a funcao objetivo retornou y_real=0.3479305256102208 e a surrogate_function retornou yhat = 0.34056687355041504\n",
      "\n",
      "\n",
      "Proximo queridinho que vale a pena testar: 0.6877858783987489\n",
      "\n",
      "Testando o queridinho 0.6877858783987489 no optuna o resultado foi de 0.4916588769007443\n",
      "\n",
      "A partir de x=0.6877858783987489 a funcao objetivo retornou y_real=0.4916588769007443 e a surrogate_function retornou yhat = 0.34186262637376785\n",
      "\n",
      "\n",
      "Proximo queridinho que vale a pena testar: 0.6833914281074188\n",
      "\n",
      "Testando o queridinho 0.6833914281074188 no optuna o resultado foi de 0.58810493667381\n",
      "\n",
      "A partir de x=0.6833914281074188 a funcao objetivo retornou y_real=0.58810493667381 e a surrogate_function retornou yhat = 0.36208629608154297\n",
      "\n",
      "\n",
      "Proximo queridinho que vale a pena testar: 0.6665221827967004\n",
      "\n",
      "Testando o queridinho 0.6665221827967004 no optuna o resultado foi de 0.2584022455371708\n",
      "\n",
      "A partir de x=0.6665221827967004 a funcao objetivo retornou y_real=0.2584022455371708 e a surrogate_function retornou yhat = 0.3897519111633301\n",
      "\n",
      "\n",
      "Proximo queridinho que vale a pena testar: 0.6845152622491334\n",
      "\n",
      "Testando o queridinho 0.6845152622491334 no optuna o resultado foi de 0.6128716447951632\n",
      "\n",
      "A partir de x=0.6845152622491334 a funcao objetivo retornou y_real=0.6128716447951632 e a surrogate_function retornou yhat = 0.3744843006134033\n",
      "\n",
      "\n",
      "Proximo queridinho que vale a pena testar: 0.06438292502912979\n",
      "\n",
      "Testando o queridinho 0.06438292502912979 no optuna o resultado foi de 0.0672289116165983\n",
      "\n",
      "A partir de x=0.06438292502912979 a funcao objetivo retornou y_real=0.0672289116165983 e a surrogate_function retornou yhat = 0.0358891487121582\n",
      "\n",
      "\n",
      "Proximo queridinho que vale a pena testar: 0.6708994490091413\n",
      "\n",
      "Testando o queridinho 0.6708994490091413 no optuna o resultado foi de 0.09804728231498094\n",
      "\n",
      "A partir de x=0.6708994490091413 a funcao objetivo retornou y_real=0.09804728231498094 e a surrogate_function retornou yhat = 0.3972826600074768\n",
      "\n",
      "\n",
      "Proximo queridinho que vale a pena testar: 0.6852548491428038\n",
      "\n",
      "Testando o queridinho 0.6852548491428038 no optuna o resultado foi de 0.4155853303181457\n",
      "\n",
      "A partir de x=0.6852548491428038 a funcao objetivo retornou y_real=0.4155853303181457 e a surrogate_function retornou yhat = 0.3697524070739746\n",
      "\n",
      "\n",
      "Proximo queridinho que vale a pena testar: 0.695229046539464\n",
      "\n",
      "Testando o queridinho 0.695229046539464 no optuna o resultado foi de 0.5196567928595998\n",
      "\n",
      "A partir de x=0.695229046539464 a funcao objetivo retornou y_real=0.5196567928595998 e a surrogate_function retornou yhat = 0.3724827170372009\n",
      "\n",
      "\n",
      "Proximo queridinho que vale a pena testar: 0.6880191196082105\n",
      "\n",
      "Testando o queridinho 0.6880191196082105 no optuna o resultado foi de 0.4982244034874256\n",
      "\n",
      "A partir de x=0.6880191196082105 a funcao objetivo retornou y_real=0.4982244034874256 e a surrogate_function retornou yhat = 0.3835470676422119\n",
      "\n",
      "\n",
      "Proximo queridinho que vale a pena testar: 0.6843566438638375\n",
      "\n",
      "Testando o queridinho 0.6843566438638375 no optuna o resultado foi de 0.3901165145023469\n",
      "\n",
      "A partir de x=0.6843566438638375 a funcao objetivo retornou y_real=0.3901165145023469 e a surrogate_function retornou yhat = 0.3911726474761963\n",
      "\n",
      "\n",
      "Proximo queridinho que vale a pena testar: 0.6876547200415688\n",
      "\n",
      "Testando o queridinho 0.6876547200415688 no optuna o resultado foi de 0.5308277246477138\n",
      "\n",
      "A partir de x=0.6876547200415688 a funcao objetivo retornou y_real=0.5308277246477138 e a surrogate_function retornou yhat = 0.391153322532773\n",
      "\n",
      "\n",
      "Proximo queridinho que vale a pena testar: 0.23234967639189708\n",
      "\n",
      "Testando o queridinho 0.23234967639189708 no optuna o resultado foi de -0.06883323982274166\n",
      "\n",
      "A partir de x=0.23234967639189708 a funcao objetivo retornou y_real=-0.06883323982274166 e a surrogate_function retornou yhat = 0.05871105194091797\n",
      "\n",
      "\n",
      "Proximo queridinho que vale a pena testar: 0.9296365334971575\n",
      "\n",
      "Testando o queridinho 0.9296365334971575 no optuna o resultado foi de 0.39380054175671125\n",
      "\n",
      "A partir de x=0.9296365334971575 a funcao objetivo retornou y_real=0.39380054175671125 e a surrogate_function retornou yhat = -0.22211194038391113\n",
      "\n",
      "\n",
      "Proximo queridinho que vale a pena testar: 0.790417282594005\n",
      "\n",
      "Testando o queridinho 0.790417282594005 no optuna o resultado foi de 0.05226137078506197\n",
      "\n",
      "A partir de x=0.790417282594005 a funcao objetivo retornou y_real=0.05226137078506197 e a surrogate_function retornou yhat = 0.49518799781799316\n",
      "\n",
      "\n",
      "Proximo queridinho que vale a pena testar: 0.7005140658690929\n",
      "\n",
      "Testando o queridinho 0.7005140658690929 no optuna o resultado foi de 0.7359471781235543\n",
      "\n",
      "A partir de x=0.7005140658690929 a funcao objetivo retornou y_real=0.7359471781235543 e a surrogate_function retornou yhat = 0.37896156311035156\n",
      "\n",
      "\n",
      "Proximo queridinho que vale a pena testar: 0.27838966586796077\n",
      "\n",
      "Testando o queridinho 0.27838966586796077 no optuna o resultado foi de 0.16590141824474833\n",
      "\n",
      "A partir de x=0.27838966586796077 a funcao objetivo retornou y_real=0.16590141824474833 e a surrogate_function retornou yhat = -0.048067569732666016\n",
      "\n",
      "\n",
      "Proximo queridinho que vale a pena testar: 0.22779454552348155\n",
      "\n",
      "Testando o queridinho 0.22779454552348155 no optuna o resultado foi de -0.12663373696298102\n",
      "\n",
      "A partir de x=0.22779454552348155 a funcao objetivo retornou y_real=-0.12663373696298102 e a surrogate_function retornou yhat = 0.03364205360412598\n",
      "\n",
      "\n",
      "Proximo queridinho que vale a pena testar: 0.7128736018982499\n",
      "\n",
      "Testando o queridinho 0.7128736018982499 no optuna o resultado foi de 0.47542416409100074\n",
      "\n",
      "A partir de x=0.7128736018982499 a funcao objetivo retornou y_real=0.47542416409100074 e a surrogate_function retornou yhat = 0.39914917945861816\n",
      "\n",
      "\n",
      "Proximo queridinho que vale a pena testar: 0.8198032649942089\n",
      "\n",
      "Testando o queridinho 0.8198032649942089 no optuna o resultado foi de -0.012139035805153565\n",
      "\n",
      "A partir de x=0.8198032649942089 a funcao objetivo retornou y_real=-0.012139035805153565 e a surrogate_function retornou yhat = 0.33146023750305176\n",
      "\n",
      "\n",
      "Proximo queridinho que vale a pena testar: 0.6717087683988631\n",
      "\n",
      "Testando o queridinho 0.6717087683988631 no optuna o resultado foi de 0.12050607082861753\n",
      "\n",
      "A partir de x=0.6717087683988631 a funcao objetivo retornou y_real=0.12050607082861753 e a surrogate_function retornou yhat = 0.4020533561706543\n",
      "\n",
      "\n",
      "Proximo queridinho que vale a pena testar: 0.30005617376136484\n",
      "\n",
      "Testando o queridinho 0.30005617376136484 no optuna o resultado foi de 0.0352119946904516\n",
      "\n",
      "A partir de x=0.30005617376136484 a funcao objetivo retornou y_real=0.0352119946904516 e a surrogate_function retornou yhat = -0.019791603088378906\n",
      "\n",
      "\n",
      "Proximo queridinho que vale a pena testar: 0.07997530183016799\n",
      "\n",
      "Testando o queridinho 0.07997530183016799 no optuna o resultado foi de 0.0028855730853520863\n",
      "\n",
      "A partir de x=0.07997530183016799 a funcao objetivo retornou y_real=0.0028855730853520863 e a surrogate_function retornou yhat = 0.05758929252624512\n",
      "\n",
      "\n",
      "Proximo queridinho que vale a pena testar: 0.8827737763151612\n",
      "\n",
      "Testando o queridinho 0.8827737763151612 no optuna o resultado foi de 0.5243862243327367\n",
      "\n",
      "A partir de x=0.8827737763151612 a funcao objetivo retornou y_real=0.5243862243327367 e a surrogate_function retornou yhat = 0.07612806558609009\n",
      "\n",
      "\n",
      "Proximo queridinho que vale a pena testar: 0.7185608360604987\n",
      "\n",
      "Testando o queridinho 0.7185608360604987 no optuna o resultado foi de 0.09747161396146747\n",
      "\n",
      "A partir de x=0.7185608360604987 a funcao objetivo retornou y_real=0.09747161396146747 e a surrogate_function retornou yhat = 0.3817276954650879\n",
      "\n",
      "\n",
      "Proximo queridinho que vale a pena testar: 0.5788901155919572\n",
      "\n",
      "Testando o queridinho 0.5788901155919572 no optuna o resultado foi de 0.08898892333401236\n",
      "\n",
      "A partir de x=0.5788901155919572 a funcao objetivo retornou y_real=0.08898892333401236 e a surrogate_function retornou yhat = 0.29832935333251953\n",
      "\n",
      "\n",
      "Proximo queridinho que vale a pena testar: 0.737611104288315\n",
      "\n",
      "Testando o queridinho 0.737611104288315 no optuna o resultado foi de 0.0902297666958563\n",
      "\n",
      "A partir de x=0.737611104288315 a funcao objetivo retornou y_real=0.0902297666958563 e a surrogate_function retornou yhat = 0.36924123764038086\n",
      "\n",
      "\n",
      "Proximo queridinho que vale a pena testar: 0.5876955026552904\n",
      "\n",
      "Testando o queridinho 0.5876955026552904 no optuna o resultado foi de -0.03893368653125035\n",
      "\n",
      "A partir de x=0.5876955026552904 a funcao objetivo retornou y_real=-0.03893368653125035 e a surrogate_function retornou yhat = 0.28344202041625977\n",
      "\n",
      "\n",
      "Proximo queridinho que vale a pena testar: 0.7424408711423404\n",
      "\n",
      "Testando o queridinho 0.7424408711423404 no optuna o resultado foi de 0.16619128334472347\n",
      "\n",
      "A partir de x=0.7424408711423404 a funcao objetivo retornou y_real=0.16619128334472347 e a surrogate_function retornou yhat = 0.35773420333862305\n",
      "\n",
      "\n",
      "Proximo queridinho que vale a pena testar: 0.7347478986157302\n",
      "\n",
      "Testando o queridinho 0.7347478986157302 no optuna o resultado foi de 0.3572334190775247\n",
      "\n",
      "A partir de x=0.7347478986157302 a funcao objetivo retornou y_real=0.3572334190775247 e a surrogate_function retornou yhat = 0.34569597244262695\n",
      "\n",
      "\n",
      "Proximo queridinho que vale a pena testar: 0.7376715225063972\n",
      "\n",
      "Testando o queridinho 0.7376715225063972 no optuna o resultado foi de 0.3415607302344654\n",
      "\n",
      "A partir de x=0.7376715225063972 a funcao objetivo retornou y_real=0.3415607302344654 e a surrogate_function retornou yhat = 0.3463102877140045\n",
      "\n",
      "\n",
      "Proximo queridinho que vale a pena testar: 0.7335622310733836\n",
      "\n",
      "Testando o queridinho 0.7335622310733836 no optuna o resultado foi de 0.15901489282390247\n",
      "\n",
      "A partir de x=0.7335622310733836 a funcao objetivo retornou y_real=0.15901489282390247 e a surrogate_function retornou yhat = 0.3460564613342285\n",
      "\n",
      "\n",
      "Proximo queridinho que vale a pena testar: 0.7296192743055266\n",
      "\n",
      "Testando o queridinho 0.7296192743055266 no optuna o resultado foi de 0.28536452577530014\n",
      "\n",
      "A partir de x=0.7296192743055266 a funcao objetivo retornou y_real=0.28536452577530014 e a surrogate_function retornou yhat = 0.33718204498291016\n"
     ]
    }
   ],
   "source": [
    "TRIALS_AFTER_FIRST_ONES = N_TRIALS - INITIAL_SIZE\n",
    "# perform the optimization process\n",
    "xs = []\n",
    "actuals = []\n",
    "estimativas = []\n",
    "for i in range(TRIALS_AFTER_FIRST_ONES):\n",
    "    # select the next point to sample\n",
    "    x = otimizar_funcao_aquisicao(X, y, model)\n",
    "    xs.append(x)\n",
    "    print(f'\\n\\nProximo queridinho que vale a pena testar: {x}')\n",
    "    \n",
    "    # sample the point\n",
    "    \n",
    "    actual = objective(x)\n",
    "    actuals.append(actual)\n",
    "    print(f'\\nTestando o queridinho {x} no optuna o resultado foi de {actual}')\n",
    "    \n",
    "    # summarize the finding\n",
    "    estimativa_queridinho, _ = surrogate(model, [[x]])\n",
    "    estimativas.append(estimativa_queridinho[0])\n",
    "    \n",
    "    print(f'\\nA partir de x={x} a funcao objetivo retornou y_real={actual} e a surrogate_function retornou yhat = {estimativa_queridinho[0]}')\n",
    "          \n",
    "    # adiciona o novo queridinho que testamos ao dataset de tentativas e respostas, para conseguirmos continuar na otimizacao\n",
    "          \n",
    "    # add the data to the dataset\n",
    "    X = np.vstack((X, [[x]]))\n",
    "    y = np.vstack((y, [[actual]]))\n",
    "    # update the model\n",
    "    model.fit(X, y)"
   ]
  },
  {
   "cell_type": "code",
   "execution_count": 227,
   "id": "1304b918",
   "metadata": {
    "ExecuteTime": {
     "end_time": "2023-03-11T15:00:18.785878Z",
     "start_time": "2023-03-11T15:00:18.705745Z"
    }
   },
   "outputs": [
    {
     "data": {
      "image/png": "[encoded data removed]",
      "text/plain": [
       "<Figure size 432x288 with 1 Axes>"
      ]
     },
     "metadata": {
      "needs_background": "light"
     },
     "output_type": "display_data"
    }
   ],
   "source": [
    "# deve ter maior concentracao de x onde a funcao objetivo é maior, ou seja, proximo de 0.9\n",
    "plt.hist(xs, bins = 20);"
   ]
  },
  {
   "cell_type": "code",
   "execution_count": 228,
   "id": "df91c2a6",
   "metadata": {
    "ExecuteTime": {
     "end_time": "2023-03-11T15:00:18.864616Z",
     "start_time": "2023-03-11T15:00:18.788021Z"
    }
   },
   "outputs": [
    {
     "data": {
      "image/png": "[encoded data removed]",
      "text/plain": [
       "<Figure size 432x288 with 1 Axes>"
      ]
     },
     "metadata": {
      "needs_background": "light"
     },
     "output_type": "display_data"
    }
   ],
   "source": [
    "# o comportamento da funcao objetivo esta fazendo sentido\n",
    "plt.scatter(x = xs, y = actuals)\n",
    "plt.xlabel('valores testados do hiperparametro x')\n",
    "plt.ylabel('valores resultantes reais da funcao objetivo a partir do hiperparametro x')\n",
    "plt.show()"
   ]
  },
  {
   "cell_type": "code",
   "execution_count": 229,
   "id": "432ea7fe",
   "metadata": {
    "ExecuteTime": {
     "end_time": "2023-03-11T15:00:18.869416Z",
     "start_time": "2023-03-11T15:00:18.867254Z"
    }
   },
   "outputs": [],
   "source": [
    "pair_values = np.array(pair_values)"
   ]
  },
  {
   "cell_type": "code",
   "execution_count": 230,
   "id": "a7073922",
   "metadata": {
    "ExecuteTime": {
     "end_time": "2023-03-11T15:00:18.873587Z",
     "start_time": "2023-03-11T15:00:18.871163Z"
    }
   },
   "outputs": [],
   "source": [
    "_xs = pair_values[:,0]"
   ]
  },
  {
   "cell_type": "code",
   "execution_count": 231,
   "id": "a6abb6c1",
   "metadata": {
    "ExecuteTime": {
     "end_time": "2023-03-11T15:00:18.877776Z",
     "start_time": "2023-03-11T15:00:18.875399Z"
    }
   },
   "outputs": [],
   "source": [
    "_ests = pair_values[:,1]"
   ]
  },
  {
   "cell_type": "code",
   "execution_count": 232,
   "id": "8a6b3df8",
   "metadata": {
    "ExecuteTime": {
     "end_time": "2023-03-11T15:00:18.946255Z",
     "start_time": "2023-03-11T15:00:18.879567Z"
    }
   },
   "outputs": [
    {
     "data": {
      "text/plain": [
       "<matplotlib.collections.PathCollection at 0x7fc720616070>"
      ]
     },
     "execution_count": 232,
     "metadata": {},
     "output_type": "execute_result"
    },
    {
     "data": {
      "image/png": "[encoded data removed]",
      "text/plain": [
       "<Figure size 432x288 with 1 Axes>"
      ]
     },
     "metadata": {
      "needs_background": "light"
     },
     "output_type": "display_data"
    }
   ],
   "source": [
    "# porque as estimativas da surrogate function, possuem um formato parecido com os valores obtidos da objective function real, \n",
    "# a otimizacao deve funcionar\\\n",
    "plt.scatter(x = _xs, y = _ests)"
   ]
  },
  {
   "cell_type": "code",
   "execution_count": 233,
   "id": "2bdc67de",
   "metadata": {
    "ExecuteTime": {
     "end_time": "2023-03-11T15:00:18.950515Z",
     "start_time": "2023-03-11T15:00:18.948162Z"
    }
   },
   "outputs": [],
   "source": [
    "model = GaussianProcessRegressor()"
   ]
  },
  {
   "cell_type": "code",
   "execution_count": 234,
   "id": "b1ecbdc8",
   "metadata": {
    "ExecuteTime": {
     "end_time": "2023-03-11T15:00:18.958002Z",
     "start_time": "2023-03-11T15:00:18.952002Z"
    }
   },
   "outputs": [
    {
     "data": {
      "text/html": [
       "<style>#sk-container-id-3 {color: black;background-color: white;}#sk-container-id-3 pre{padding: 0;}#sk-container-id-3 div.sk-toggleable {background-color: white;}#sk-container-id-3 label.sk-toggleable__label {cursor: pointer;display: block;width: 100%;margin-bottom: 0;padding: 0.3em;box-sizing: border-box;text-align: center;}#sk-container-id-3 label.sk-toggleable__label-arrow:before {content: \"▸\";float: left;margin-right: 0.25em;color: #696969;}#sk-container-id-3 label.sk-toggleable__label-arrow:hover:before {color: black;}#sk-container-id-3 div.sk-estimator:hover label.sk-toggleable__label-arrow:before {color: black;}#sk-container-id-3 div.sk-toggleable__content {max-height: 0;max-width: 0;overflow: hidden;text-align: left;background-color: #f0f8ff;}#sk-container-id-3 div.sk-toggleable__content pre {margin: 0.2em;color: black;border-radius: 0.25em;background-color: #f0f8ff;}#sk-container-id-3 input.sk-toggleable__control:checked~div.sk-toggleable__content {max-height: 200px;max-width: 100%;overflow: auto;}#sk-container-id-3 input.sk-toggleable__control:checked~label.sk-toggleable__label-arrow:before {content: \"▾\";}#sk-container-id-3 div.sk-estimator input.sk-toggleable__control:checked~label.sk-toggleable__label {background-color: #d4ebff;}#sk-container-id-3 div.sk-label input.sk-toggleable__control:checked~label.sk-toggleable__label {background-color: #d4ebff;}#sk-container-id-3 input.sk-hidden--visually {border: 0;clip: rect(1px 1px 1px 1px);clip: rect(1px, 1px, 1px, 1px);height: 1px;margin: -1px;overflow: hidden;padding: 0;position: absolute;width: 1px;}#sk-container-id-3 div.sk-estimator {font-family: monospace;background-color: #f0f8ff;border: 1px dotted black;border-radius: 0.25em;box-sizing: border-box;margin-bottom: 0.5em;}#sk-container-id-3 div.sk-estimator:hover {background-color: #d4ebff;}#sk-container-id-3 div.sk-parallel-item::after {content: \"\";width: 100%;border-bottom: 1px solid gray;flex-grow: 1;}#sk-container-id-3 div.sk-label:hover label.sk-toggleable__label {background-color: #d4ebff;}#sk-container-id-3 div.sk-serial::before {content: \"\";position: absolute;border-left: 1px solid gray;box-sizing: border-box;top: 0;bottom: 0;left: 50%;z-index: 0;}#sk-container-id-3 div.sk-serial {display: flex;flex-direction: column;align-items: center;background-color: white;padding-right: 0.2em;padding-left: 0.2em;position: relative;}#sk-container-id-3 div.sk-item {position: relative;z-index: 1;}#sk-container-id-3 div.sk-parallel {display: flex;align-items: stretch;justify-content: center;background-color: white;position: relative;}#sk-container-id-3 div.sk-item::before, #sk-container-id-3 div.sk-parallel-item::before {content: \"\";position: absolute;border-left: 1px solid gray;box-sizing: border-box;top: 0;bottom: 0;left: 50%;z-index: -1;}#sk-container-id-3 div.sk-parallel-item {display: flex;flex-direction: column;z-index: 1;position: relative;background-color: white;}#sk-container-id-3 div.sk-parallel-item:first-child::after {align-self: flex-end;width: 50%;}#sk-container-id-3 div.sk-parallel-item:last-child::after {align-self: flex-start;width: 50%;}#sk-container-id-3 div.sk-parallel-item:only-child::after {width: 0;}#sk-container-id-3 div.sk-dashed-wrapped {border: 1px dashed gray;margin: 0 0.4em 0.5em 0.4em;box-sizing: border-box;padding-bottom: 0.4em;background-color: white;}#sk-container-id-3 div.sk-label label {font-family: monospace;font-weight: bold;display: inline-block;line-height: 1.2em;}#sk-container-id-3 div.sk-label-container {text-align: center;}#sk-container-id-3 div.sk-container {/* jupyter's `normalize.less` sets `[hidden] { display: none; }` but bootstrap.min.css set `[hidden] { display: none !important; }` so we also need the `!important` here to be able to override the default hidden behavior on the sphinx rendered scikit-learn.org. See: https://github.com/scikit-learn/scikit-learn/issues/21755 */display: inline-block !important;position: relative;}#sk-container-id-3 div.sk-text-repr-fallback {display: none;}</style><div id=\"sk-container-id-3\" class=\"sk-top-container\"><div class=\"sk-text-repr-fallback\"><pre>GaussianProcessRegressor()</pre><b>In a Jupyter environment, please rerun this cell to show the HTML representation or trust the notebook. <br />On GitHub, the HTML representation is unable to render, please try loading this page with nbviewer.org.</b></div><div class=\"sk-container\" hidden><div class=\"sk-item\"><div class=\"sk-estimator sk-toggleable\"><input class=\"sk-toggleable__control sk-hidden--visually\" id=\"sk-estimator-id-3\" type=\"checkbox\" checked><label for=\"sk-estimator-id-3\" class=\"sk-toggleable__label sk-toggleable__label-arrow\">GaussianProcessRegressor</label><div class=\"sk-toggleable__content\"><pre>GaussianProcessRegressor()</pre></div></div></div></div></div>"
      ],
      "text/plain": [
       "GaussianProcessRegressor()"
      ]
     },
     "execution_count": 234,
     "metadata": {},
     "output_type": "execute_result"
    }
   ],
   "source": [
    "model.fit(X = np.array(xs).reshape(-1,1), y = np.array(actuals))"
   ]
  },
  {
   "cell_type": "code",
   "execution_count": 235,
   "id": "d973605f",
   "metadata": {
    "ExecuteTime": {
     "end_time": "2023-03-11T15:00:19.023565Z",
     "start_time": "2023-03-11T15:00:18.959617Z"
    }
   },
   "outputs": [
    {
     "data": {
      "image/png": "[encoded data removed]",
      "text/plain": [
       "<Figure size 432x288 with 1 Axes>"
      ]
     },
     "metadata": {
      "needs_background": "light"
     },
     "output_type": "display_data"
    }
   ],
   "source": [
    "plot(X, y, model)"
   ]
  }
 ],
 "metadata": {
  "kernelspec": {
   "display_name": "Python 3 (ipykernel)",
   "language": "python",
   "name": "python3"
  },
  "language_info": {
   "codemirror_mode": {
    "name": "ipython",
    "version": 3
   },
   "file_extension": ".py",
   "mimetype": "text/x-python",
   "name": "python",
   "nbconvert_exporter": "python",
   "pygments_lexer": "ipython3",
   "version": "3.8.15"
  },
  "toc": {
   "base_numbering": 1,
   "nav_menu": {},
   "number_sections": true,
   "sideBar": true,
   "skip_h1_title": false,
   "title_cell": "Table of Contents",
   "title_sidebar": "Contents",
   "toc_cell": false,
   "toc_position": {},
   "toc_section_display": true,
   "toc_window_display": false
  }
 },
 "nbformat": 4,
 "nbformat_minor": 5
}
