{
 "cells": [
  {
   "cell_type": "code",
   "execution_count": 1,
   "metadata": {},
   "outputs": [],
   "source": [
    "%load_ext autoreload\n",
    "%autoreload 2"
   ]
  },
  {
   "cell_type": "code",
   "execution_count": 2,
   "metadata": {},
   "outputs": [],
   "source": [
    "class Node:\n",
    "    '''\n",
    "    Object for storing single node for linked list\n",
    "    Models two attributes - data and the link to the next node in the list\n",
    "    '''\n",
    "    \n",
    "    # Store data\n",
    "    data = None\n",
    "    \n",
    "    # Point to next node\n",
    "    next_node = None\n",
    "    \n",
    "    # Constructor of the object\n",
    "    def __init__(self, data):\n",
    "        self.data = data"
   ]
  },
  {
   "cell_type": "code",
   "execution_count": 3,
   "metadata": {},
   "outputs": [],
   "source": [
    "N1 = Node(10)"
   ]
  },
  {
   "cell_type": "code",
   "execution_count": 4,
   "metadata": {},
   "outputs": [
    {
     "data": {
      "text/plain": [
       "<__main__.Node at 0x7f2e78507990>"
      ]
     },
     "execution_count": 4,
     "metadata": {},
     "output_type": "execute_result"
    }
   ],
   "source": [
    "N1"
   ]
  },
  {
   "cell_type": "markdown",
   "metadata": {},
   "source": [
    "### Add representation of the object, because now it is not visualized by us"
   ]
  },
  {
   "cell_type": "code",
   "execution_count": 5,
   "metadata": {},
   "outputs": [],
   "source": [
    "class Node:\n",
    "    '''\n",
    "    Object for storing single node for linked list\n",
    "    Models two attributes - data and the link to the next node in the list\n",
    "    '''\n",
    "    \n",
    "    # Store data\n",
    "    data = None\n",
    "    \n",
    "    # Point to next node\n",
    "    next_node = None\n",
    "    \n",
    "    # Constructor of the object\n",
    "    def __init__(self, data):\n",
    "        self.data = data\n",
    "        \n",
    "    def __repr__(self):\n",
    "        return \"<Node data: %s>\" %self.data"
   ]
  },
  {
   "cell_type": "code",
   "execution_count": 6,
   "metadata": {},
   "outputs": [
    {
     "data": {
      "text/plain": [
       "<__main__.Node at 0x7f2e78507990>"
      ]
     },
     "execution_count": 6,
     "metadata": {},
     "output_type": "execute_result"
    }
   ],
   "source": [
    "N1"
   ]
  },
  {
   "cell_type": "code",
   "execution_count": 7,
   "metadata": {},
   "outputs": [],
   "source": [
    "N2 = Node(20)"
   ]
  },
  {
   "cell_type": "code",
   "execution_count": 8,
   "metadata": {},
   "outputs": [
    {
     "data": {
      "text/plain": [
       "<Node data: 20>"
      ]
     },
     "execution_count": 8,
     "metadata": {},
     "output_type": "execute_result"
    }
   ],
   "source": [
    "N2"
   ]
  },
  {
   "cell_type": "markdown",
   "metadata": {},
   "source": [
    "### Pointing to next node"
   ]
  },
  {
   "cell_type": "code",
   "execution_count": 9,
   "metadata": {},
   "outputs": [],
   "source": [
    "N1.next_node = N2"
   ]
  },
  {
   "cell_type": "code",
   "execution_count": 10,
   "metadata": {},
   "outputs": [
    {
     "data": {
      "text/plain": [
       "<__main__.Node at 0x7f2e78507990>"
      ]
     },
     "execution_count": 10,
     "metadata": {},
     "output_type": "execute_result"
    }
   ],
   "source": [
    "N1"
   ]
  },
  {
   "cell_type": "code",
   "execution_count": 11,
   "metadata": {},
   "outputs": [
    {
     "data": {
      "text/plain": [
       "<Node data: 20>"
      ]
     },
     "execution_count": 11,
     "metadata": {},
     "output_type": "execute_result"
    }
   ],
   "source": [
    "N1.next_node"
   ]
  },
  {
   "cell_type": "markdown",
   "metadata": {},
   "source": [
    "-  Nodes are the building blocks for lists, now we can create linked lists"
   ]
  },
  {
   "cell_type": "code",
   "execution_count": 12,
   "metadata": {},
   "outputs": [],
   "source": [
    "class Node:\n",
    "    '''\n",
    "    Object for storing single node for linked list\n",
    "    Models two attributes - data and the link to the next node in the list\n",
    "    '''\n",
    "    \n",
    "    # Two attributes\n",
    "    # Store data\n",
    "    data = None\n",
    "    \n",
    "    # Point to next node\n",
    "    next_node = None\n",
    "    \n",
    "    # Constructor of the object\n",
    "    def __init__(self, data):\n",
    "        self.data = data\n",
    "        \n",
    "    def __repr__(self):\n",
    "        return \"<Node data: %s>\" %self.data"
   ]
  },
  {
   "cell_type": "code",
   "execution_count": 33,
   "metadata": {},
   "outputs": [],
   "source": [
    "class LinkedList:\n",
    "    '''\n",
    "    Singly lisked list\n",
    "    '''\n",
    "    \n",
    "    # Constructor \n",
    "    def __init__(self):\n",
    "        self.head = None\n",
    "        \n",
    "    def is_empty(self):\n",
    "        '''Returns true if head is empty'''\n",
    "        return self.head == None\n",
    "    \n",
    "    def size(self):\n",
    "        '''Visit each node and hit next until heat tail node\n",
    "        the way is coded, it takes linear time, because goes one \n",
    "        step by step all over the list'''\n",
    "        current = self.head\n",
    "        sizevar = 0\n",
    "        \n",
    "        'While loop until there is no more node'\n",
    "        while current:\n",
    "            sizevar += 1\n",
    "            ' Enquanto vai para o próximo node, também vai incrementando o count'\n",
    "            'Tem que chegar ateh o tail node'\n",
    "            current = current.next_node\n",
    "            \n",
    "        'Retorna o tamanho da singly linked list'\n",
    "        return sizevar\n",
    "    \n",
    "    'Utilizando a classe de building blocks aqui dentro da classe linkedlist'\n",
    "    def add(self, data):\n",
    "        '''Adds a new node containing data at the head of the list '''\n",
    "        new_node = Node(data)\n",
    "        # previous head is shifted right\n",
    "        # No momento que adiciono, utilizo self.next_node to refer to this attribute\n",
    "        new_node.next_node = self.head\n",
    "        # new head element will be the node here used\n",
    "        self.head = new_node\n",
    "        \n",
    "    def __repr__(self):\n",
    "        '''\n",
    "        Returns a string representation of the list\n",
    "        Takes O(n) time\n",
    "        '''\n",
    "        \n",
    "        # Python list to help us to represent this likedlist\n",
    "        nodes = []\n",
    "        # Head is a building block\n",
    "        # Every element from the linked list comes from the building block Node\n",
    "        current = self.head\n",
    "        \n",
    "        'Finishes when current = None'\n",
    "        while current:\n",
    "            if current is self.head:\n",
    "                # Python list\n",
    "                nodes.append(\"[Head:%s]\" % current.data)\n",
    "                'tail'\n",
    "            elif current.next_node is None:\n",
    "                'current.data is actual data'\n",
    "                'current.next_node is next_node, accorgindg to the add function'\n",
    "                'current.next_node = self.head'\n",
    "                nodes.append(\"[Tail: %s]\" % current.data)\n",
    "                'significa que acabou'\n",
    "            else:\n",
    "                nodes.append(\"[%s]\" % current.data)\n",
    "                \n",
    "            current = current.next_node\n",
    "        \n",
    "        return '-> '.join(nodes)\n",
    "                \n",
    "            \n",
    "        \n",
    "            "
   ]
  },
  {
   "cell_type": "markdown",
   "metadata": {},
   "source": [
    "- Going to one node to another is called list traversal"
   ]
  },
  {
   "cell_type": "markdown",
   "metadata": {},
   "source": [
    "### Append or prepend (technically speaking is not inserting)\n",
    "- True inserting allows to insert at any index in the data\n",
    "- It is more efficient then the commom classic way of inserting data into arrays"
   ]
  },
  {
   "cell_type": "code",
   "execution_count": 34,
   "metadata": {},
   "outputs": [],
   "source": [
    "l = LinkedList()"
   ]
  },
  {
   "cell_type": "code",
   "execution_count": 35,
   "metadata": {},
   "outputs": [],
   "source": [
    "# building block of linkedlist"
   ]
  },
  {
   "cell_type": "code",
   "execution_count": 36,
   "metadata": {},
   "outputs": [],
   "source": [
    "N1 = Node(10)"
   ]
  },
  {
   "cell_type": "code",
   "execution_count": 37,
   "metadata": {},
   "outputs": [],
   "source": [
    "# Atribuo valor através do atributo\n",
    "l.head = N1"
   ]
  },
  {
   "cell_type": "code",
   "execution_count": 38,
   "metadata": {},
   "outputs": [
    {
     "data": {
      "text/plain": [
       "1"
      ]
     },
     "execution_count": 38,
     "metadata": {},
     "output_type": "execute_result"
    }
   ],
   "source": [
    "l.size()"
   ]
  },
  {
   "cell_type": "markdown",
   "metadata": {},
   "source": [
    "Adicionar mais elementos na lista"
   ]
  },
  {
   "cell_type": "code",
   "execution_count": 39,
   "metadata": {},
   "outputs": [],
   "source": [
    "l.add(2)"
   ]
  },
  {
   "cell_type": "code",
   "execution_count": 40,
   "metadata": {},
   "outputs": [
    {
     "data": {
      "text/plain": [
       "2"
      ]
     },
     "execution_count": 40,
     "metadata": {},
     "output_type": "execute_result"
    }
   ],
   "source": [
    "l.size()"
   ]
  },
  {
   "cell_type": "markdown",
   "metadata": {},
   "source": [
    "### agora com a representação da lista construída"
   ]
  },
  {
   "cell_type": "code",
   "execution_count": 41,
   "metadata": {},
   "outputs": [],
   "source": [
    "l = LinkedList()"
   ]
  },
  {
   "cell_type": "code",
   "execution_count": 42,
   "metadata": {},
   "outputs": [],
   "source": [
    "l.add(1)"
   ]
  },
  {
   "cell_type": "code",
   "execution_count": 43,
   "metadata": {},
   "outputs": [],
   "source": [
    "l.add(2)"
   ]
  },
  {
   "cell_type": "code",
   "execution_count": 44,
   "metadata": {},
   "outputs": [],
   "source": [
    "l.add(3)"
   ]
  },
  {
   "cell_type": "code",
   "execution_count": 31,
   "metadata": {},
   "outputs": [
    {
     "data": {
      "text/plain": [
       "3"
      ]
     },
     "execution_count": 31,
     "metadata": {},
     "output_type": "execute_result"
    }
   ],
   "source": [
    "l.size()"
   ]
  },
  {
   "cell_type": "code",
   "execution_count": 46,
   "metadata": {},
   "outputs": [
    {
     "data": {
      "text/plain": [
       "[Head:3]-> [2]-> [Tail: 1]"
      ]
     },
     "execution_count": 46,
     "metadata": {},
     "output_type": "execute_result"
    }
   ],
   "source": [
    "l"
   ]
  },
  {
   "cell_type": "code",
   "execution_count": null,
   "metadata": {},
   "outputs": [],
   "source": []
  }
 ],
 "metadata": {
  "kernelspec": {
   "display_name": "Python 3",
   "language": "python",
   "name": "python3"
  },
  "language_info": {
   "codemirror_mode": {
    "name": "ipython",
    "version": 3
   },
   "file_extension": ".py",
   "mimetype": "text/x-python",
   "name": "python",
   "nbconvert_exporter": "python",
   "pygments_lexer": "ipython3",
   "version": "3.7.6"
  }
 },
 "nbformat": 4,
 "nbformat_minor": 4
}
