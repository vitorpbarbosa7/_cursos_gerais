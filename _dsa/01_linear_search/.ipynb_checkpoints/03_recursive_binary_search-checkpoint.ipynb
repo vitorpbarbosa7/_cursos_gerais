{
 "cells": [
  {
   "cell_type": "code",
   "execution_count": 1,
   "metadata": {},
   "outputs": [
    {
     "name": "stdout",
     "output_type": "stream",
     "text": [
      "time: 417 µs (started: 2021-09-12 17:31:57 -03:00)\n"
     ]
    }
   ],
   "source": [
    "import pandas as pd \n",
    "import matplotlib.pyplot as plt \n",
    "import numpy as np\n",
    "import seaborn as sns\n",
    "import scipy.stats as stats\n",
    "import statsmodels.stats.api as sms\n",
    "\n",
    "from IPython.display import display\n",
    "from IPython.display import Markdown as md\n",
    "from IPython.core.interactiveshell import InteractiveShell\n",
    "InteractiveShell.ast_node_interactivity = \"all\"\n",
    "\n",
    "def f():\n",
    "    pd.set_option('display.max_columns', None)\n",
    "    pd.set_option('display.max_rows', None)\n",
    "    \n",
    "def nf():\n",
    "    pd.set_option('display.max_columns', None)\n",
    "    pd.set_option('display.max_rows', 4)\n",
    "\n",
    "import warnings\n",
    "warnings.filterwarnings('ignore')\n",
    "\n",
    "def dp(df, r = 5, c = None):\n",
    "    from IPython.display import display\n",
    "    with pd.option_context('display.max_rows', 4, 'display.max_columns', None):\n",
    "        display(df)\n",
    "\n",
    "def fg(w = 6, h = 4, dpi = 120):\n",
    "    plt.rcParams['figure.figsize'] = (w,h)\n",
    "    plt.rcParams['figure.dpi'] = dpi\n",
    "fg()\n",
    "\n",
    "import autotime\n",
    "%load_ext autoreload\n",
    "%autoreload 2\n",
    "%load_ext autotime"
   ]
  },
  {
   "cell_type": "code",
   "execution_count": 45,
   "metadata": {},
   "outputs": [
    {
     "name": "stdout",
     "output_type": "stream",
     "text": [
      "time: 1.82 ms (started: 2021-09-12 17:50:01 -03:00)\n"
     ]
    }
   ],
   "source": [
    "def recursive_binary_search(list_, target:int):\n",
    "    \"\"\"\n",
    "    Return only true or false if target value is in list\n",
    "    \"\"\"\n",
    "    \n",
    "    target = int(target)\n",
    "    if len(list_) == 0:\n",
    "        return False\n",
    "    else:\n",
    "        midpoint = (len(list_))//2\n",
    "#         print(f\"Atualizando midpoint {midpoint}\")\n",
    "#         print(f\"Valor atual ({list_[midpoint]}) e valor target ({target})\")\n",
    "        if list_[midpoint] == target:\n",
    "            return True\n",
    "        else:\n",
    "            if list_[midpoint] < target:\n",
    "                # Vamos utilizar a lista da frente\n",
    "#                 print(list_[midpoint+1:])\n",
    "                recursive_binary_search(list_[midpoint+1:], target)\n",
    "            else:\n",
    "#                 print(list_[:midpoint-1])\n",
    "                recursive_binary_search(list_[:midpoint-1], target)"
   ]
  },
  {
   "cell_type": "code",
   "execution_count": 46,
   "metadata": {},
   "outputs": [
    {
     "name": "stdout",
     "output_type": "stream",
     "text": [
      "time: 323 ms (started: 2021-09-12 17:50:01 -03:00)\n"
     ]
    }
   ],
   "source": [
    "list_ = list(range(0,int(1e7)))"
   ]
  },
  {
   "cell_type": "code",
   "execution_count": 47,
   "metadata": {},
   "outputs": [
    {
     "name": "stdout",
     "output_type": "stream",
     "text": [
      "time: 168 ms (started: 2021-09-12 17:50:02 -03:00)\n"
     ]
    }
   ],
   "source": [
    "recursive_binary_search(list_, int(1.5e6))"
   ]
  },
  {
   "cell_type": "markdown",
   "metadata": {},
   "source": [
    "### It was slower than the looping one in previous notebook"
   ]
  },
  {
   "cell_type": "code",
   "execution_count": null,
   "metadata": {},
   "outputs": [],
   "source": []
  }
 ],
 "metadata": {
  "kernelspec": {
   "display_name": "Python 3",
   "language": "python",
   "name": "python3"
  },
  "language_info": {
   "codemirror_mode": {
    "name": "ipython",
    "version": 3
   },
   "file_extension": ".py",
   "mimetype": "text/x-python",
   "name": "python",
   "nbconvert_exporter": "python",
   "pygments_lexer": "ipython3",
   "version": "3.7.6"
  }
 },
 "nbformat": 4,
 "nbformat_minor": 4
}
