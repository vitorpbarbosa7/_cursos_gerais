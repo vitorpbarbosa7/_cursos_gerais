{
 "cells": [
  {
   "cell_type": "code",
   "execution_count": 17,
   "metadata": {},
   "outputs": [],
   "source": [
    "import pandas as pd\n",
    "import numpy as np\n",
    "import matplotlib.pyplot as plt"
   ]
  },
  {
   "cell_type": "code",
   "execution_count": 18,
   "metadata": {},
   "outputs": [],
   "source": [
    "df = pd.DataFrame({'col1':range(1,6),\n",
    "                   'col2':[5,6,9,10,20],\n",
    "                   'col3':[\"a\",\"b\",\"b\",\"a\",\"a\"]})"
   ]
  },
  {
   "cell_type": "code",
   "execution_count": 19,
   "metadata": {},
   "outputs": [
    {
     "data": {
      "text/plain": [
       "col3\n",
       "a    3.333333\n",
       "b    2.500000\n",
       "Name: col1, dtype: float64"
      ]
     },
     "execution_count": 19,
     "metadata": {},
     "output_type": "execute_result"
    }
   ],
   "source": [
    "df.groupby('col3').mean().col1"
   ]
  },
  {
   "cell_type": "code",
   "execution_count": 24,
   "metadata": {},
   "outputs": [
    {
     "data": {
      "text/plain": [
       "([<matplotlib.patches.Wedge at 0x14f0fe79ac8>,\n",
       "  <matplotlib.patches.Wedge at 0x14f0fe79f98>,\n",
       "  <matplotlib.patches.Wedge at 0x14f0fe88470>,\n",
       "  <matplotlib.patches.Wedge at 0x14f0fe88908>,\n",
       "  <matplotlib.patches.Wedge at 0x14f0fe88da0>],\n",
       " [Text(1.0461621663333946, 0.3399186987098808, 'a'),\n",
       "  Text(0.5894094736073278, 0.9287607186040616, 'b'),\n",
       "  Text(-0.4049370232742901, 1.0227541284110062, 'b'),\n",
       "  Text(-1.0999999999999988, -5.149471622296949e-08, 'a'),\n",
       "  Text(0.33991877217145827, -1.046162142464278, 'a')])"
      ]
     },
     "execution_count": 24,
     "metadata": {},
     "output_type": "execute_result"
    },
    {
     "data": {
      "image/png": "[encoded data removed]",
      "text/plain": [
       "<Figure size 432x288 with 1 Axes>"
      ]
     },
     "metadata": {},
     "output_type": "display_data"
    }
   ],
   "source": [
    "plt.pie(df.col2,labels=df.col3)"
   ]
  },
  {
   "cell_type": "code",
   "execution_count": null,
   "metadata": {},
   "outputs": [],
   "source": []
  }
 ],
 "metadata": {
  "kernelspec": {
   "display_name": "Python 3",
   "language": "python",
   "name": "python3"
  },
  "language_info": {
   "codemirror_mode": {
    "name": "ipython",
    "version": 3
   },
   "file_extension": ".py",
   "mimetype": "text/x-python",
   "name": "python",
   "nbconvert_exporter": "python",
   "pygments_lexer": "ipython3",
   "version": "3.7.0"
  }
 },
 "nbformat": 4,
 "nbformat_minor": 2
}
