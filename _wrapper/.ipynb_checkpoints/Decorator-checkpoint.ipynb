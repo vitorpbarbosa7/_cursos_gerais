{
 "cells": [
  {
   "cell_type": "markdown",
   "id": "ee1b7a3e",
   "metadata": {},
   "source": [
    "https://towardsdatascience.com/3-great-design-patterns-for-data-science-workflows-d3bf162d74e6m"
   ]
  },
  {
   "cell_type": "markdown",
   "id": "5e0e0b7c",
   "metadata": {},
   "source": [
    "### Essentially, what you’re doing is capturing some state before your function runs, then capturing some state after it’s done. "
   ]
  },
  {
   "cell_type": "code",
   "execution_count": 1,
   "id": "b66cc57b",
   "metadata": {},
   "outputs": [],
   "source": [
    "from time import time"
   ]
  },
  {
   "cell_type": "code",
   "execution_count": 3,
   "id": "85c2b847",
   "metadata": {},
   "outputs": [],
   "source": [
    "\n",
    "def log_time(func):\n",
    "    '''Logs the time it took for func to execute'''\n",
    "    def wrapper(*args, **kwargs):\n",
    "        \n",
    "        start = time()\n",
    "        val = func(*args, **kwargs)\n",
    "        end = time()\n",
    "        \n",
    "        duration = end - start\n",
    "        print(f'{func.__name__} took {duration} seconds to run')\n",
    "        return val\n",
    "    return wrapper"
   ]
  },
  {
   "cell_type": "code",
   "execution_count": 4,
   "id": "857a7b3e",
   "metadata": {},
   "outputs": [],
   "source": [
    "# Uso\n",
    "@log_time\n",
    "def generate_list(init, end):\n",
    "    lista = list(range(init, end))\n",
    "    return lista"
   ]
  },
  {
   "cell_type": "code",
   "execution_count": 6,
   "id": "6f6d4022",
   "metadata": {},
   "outputs": [
    {
     "name": "stdout",
     "output_type": "stream",
     "text": [
      "generate_list took 3.5762786865234375e-06 seconds to run\n"
     ]
    }
   ],
   "source": [
    "# Executando explicitamente pelo terminal, por exemplo, com esse dunder\n",
    "if __name__ == '__main__':\n",
    "    lista = generate_list(10,30)"
   ]
  },
  {
   "cell_type": "code",
   "execution_count": 7,
   "id": "72d50fc4",
   "metadata": {},
   "outputs": [
    {
     "data": {
      "text/plain": [
       "[10,\n",
       " 11,\n",
       " 12,\n",
       " 13,\n",
       " 14,\n",
       " 15,\n",
       " 16,\n",
       " 17,\n",
       " 18,\n",
       " 19,\n",
       " 20,\n",
       " 21,\n",
       " 22,\n",
       " 23,\n",
       " 24,\n",
       " 25,\n",
       " 26,\n",
       " 27,\n",
       " 28,\n",
       " 29]"
      ]
     },
     "execution_count": 7,
     "metadata": {},
     "output_type": "execute_result"
    }
   ],
   "source": [
    "lista"
   ]
  },
  {
   "cell_type": "markdown",
   "id": "faac1d45",
   "metadata": {},
   "source": [
    "### Another example from \n",
    "https://realpython.com/primer-on-python-decorators/#simple-decorators"
   ]
  },
  {
   "cell_type": "code",
   "execution_count": 10,
   "id": "52813f1f",
   "metadata": {},
   "outputs": [],
   "source": [
    "def my_decorator(func):\n",
    "    def wrapper():\n",
    "        print(\"Something is happening before the function is called.\")\n",
    "        func()\n",
    "        print(\"Something is happening after the function is called.\")\n",
    "    return wrapper"
   ]
  },
  {
   "cell_type": "code",
   "execution_count": 12,
   "id": "0ee07d24",
   "metadata": {},
   "outputs": [],
   "source": [
    "@my_decorator\n",
    "def say_whee():\n",
    "    print(\"Whee!\")"
   ]
  },
  {
   "cell_type": "code",
   "execution_count": null,
   "id": "2a20bd52",
   "metadata": {},
   "outputs": [],
   "source": []
  }
 ],
 "metadata": {
  "kernelspec": {
   "display_name": "Python 3",
   "language": "python",
   "name": "python3"
  },
  "language_info": {
   "codemirror_mode": {
    "name": "ipython",
    "version": 3
   },
   "file_extension": ".py",
   "mimetype": "text/x-python",
   "name": "python",
   "nbconvert_exporter": "python",
   "pygments_lexer": "ipython3",
   "version": "3.7.11"
  },
  "varInspector": {
   "cols": {
    "lenName": 16,
    "lenType": 16,
    "lenVar": 40
   },
   "kernels_config": {
    "python": {
     "delete_cmd_postfix": "",
     "delete_cmd_prefix": "del ",
     "library": "var_list.py",
     "varRefreshCmd": "print(var_dic_list())"
    },
    "r": {
     "delete_cmd_postfix": ") ",
     "delete_cmd_prefix": "rm(",
     "library": "var_list.r",
     "varRefreshCmd": "cat(var_dic_list()) "
    }
   },
   "types_to_exclude": [
    "module",
    "function",
    "builtin_function_or_method",
    "instance",
    "_Feature"
   ],
   "window_display": false
  }
 },
 "nbformat": 4,
 "nbformat_minor": 5
}
