{
 "cells": [
  {
   "cell_type": "code",
   "execution_count": 1,
   "id": "e023e142",
   "metadata": {
    "ExecuteTime": {
     "end_time": "2023-02-27T11:20:38.390286Z",
     "start_time": "2023-02-27T11:20:36.410106Z"
    }
   },
   "outputs": [],
   "source": [
    "%load_ext autoreload\n",
    "%autoreload 2\n",
    "\n",
    "import pandas as pd\n",
    "import numpy as np \n",
    "import seaborn as sns\n",
    "import matplotlib.pyplot as plt\n",
    "from plotnine import *\n",
    "import lightgbm as lgbm"
   ]
  },
  {
   "cell_type": "code",
   "execution_count": 34,
   "id": "55210fd6",
   "metadata": {
    "ExecuteTime": {
     "end_time": "2023-02-27T11:31:07.630140Z",
     "start_time": "2023-02-27T11:31:07.499231Z"
    }
   },
   "outputs": [],
   "source": [
    "from typing import List, Dict, Union, Callable"
   ]
  },
  {
   "cell_type": "code",
   "execution_count": 2,
   "id": "e557bf8f",
   "metadata": {
    "ExecuteTime": {
     "end_time": "2023-02-27T11:20:38.454330Z",
     "start_time": "2023-02-27T11:20:38.391962Z"
    }
   },
   "outputs": [],
   "source": [
    "from sklearn.model_selection import train_test_split\n",
    "from sklearn.datasets import make_multilabel_classification"
   ]
  },
  {
   "cell_type": "code",
   "execution_count": 188,
   "id": "5b74b358",
   "metadata": {
    "ExecuteTime": {
     "end_time": "2023-02-27T12:13:33.614203Z",
     "start_time": "2023-02-27T12:13:33.505132Z"
    }
   },
   "outputs": [],
   "source": [
    "from sklearn.metrics import f1_score, precision_score, recall_score, classification_report, multilabel_confusion_matrix"
   ]
  },
  {
   "cell_type": "code",
   "execution_count": 3,
   "id": "347a8bf5",
   "metadata": {
    "ExecuteTime": {
     "end_time": "2023-02-27T11:20:38.485288Z",
     "start_time": "2023-02-27T11:20:38.457462Z"
    }
   },
   "outputs": [],
   "source": [
    "from libs.evaluation import Metrics"
   ]
  },
  {
   "cell_type": "code",
   "execution_count": 4,
   "id": "229e98d1",
   "metadata": {
    "ExecuteTime": {
     "end_time": "2023-02-27T11:20:39.282702Z",
     "start_time": "2023-02-27T11:20:38.486237Z"
    }
   },
   "outputs": [],
   "source": [
    "mlabel = make_multilabel_classification(n_samples = 10000,n_features = 20,n_classes = 3,allow_unlabeled=True)"
   ]
  },
  {
   "cell_type": "code",
   "execution_count": 105,
   "id": "81427b51",
   "metadata": {
    "ExecuteTime": {
     "end_time": "2023-02-27T11:50:49.779327Z",
     "start_time": "2023-02-27T11:50:49.712381Z"
    }
   },
   "outputs": [
    {
     "data": {
      "text/plain": [
       "array([[4., 4., 5., ..., 2., 2., 6.],\n",
       "       [4., 4., 5., ..., 4., 1., 0.],\n",
       "       [4., 2., 3., ..., 6., 1., 0.],\n",
       "       ...,\n",
       "       [4., 2., 8., ..., 5., 6., 2.],\n",
       "       [4., 4., 1., ..., 2., 3., 1.],\n",
       "       [4., 2., 7., ..., 3., 1., 3.]])"
      ]
     },
     "execution_count": 105,
     "metadata": {},
     "output_type": "execute_result"
    }
   ],
   "source": [
    "mlabel[0]"
   ]
  },
  {
   "cell_type": "code",
   "execution_count": 5,
   "id": "c33d1ebe",
   "metadata": {
    "ExecuteTime": {
     "end_time": "2023-02-27T11:20:39.312718Z",
     "start_time": "2023-02-27T11:20:39.283963Z"
    }
   },
   "outputs": [],
   "source": [
    "X = pd.DataFrame(mlabel[0])"
   ]
  },
  {
   "cell_type": "code",
   "execution_count": 6,
   "id": "254238fb",
   "metadata": {
    "ExecuteTime": {
     "end_time": "2023-02-27T11:20:39.337380Z",
     "start_time": "2023-02-27T11:20:39.313742Z"
    }
   },
   "outputs": [],
   "source": [
    "Y = pd.DataFrame(mlabel[1])"
   ]
  },
  {
   "cell_type": "code",
   "execution_count": 7,
   "id": "1e56e418",
   "metadata": {
    "ExecuteTime": {
     "end_time": "2023-02-27T11:20:39.363177Z",
     "start_time": "2023-02-27T11:20:39.338463Z"
    }
   },
   "outputs": [],
   "source": [
    "Y.columns = ['a','b','c']"
   ]
  },
  {
   "cell_type": "code",
   "execution_count": 8,
   "id": "26f28461",
   "metadata": {
    "ExecuteTime": {
     "end_time": "2023-02-27T11:20:39.395308Z",
     "start_time": "2023-02-27T11:20:39.364373Z"
    }
   },
   "outputs": [],
   "source": [
    "X_train, X_test, y_train, y_test = train_test_split(X,Y,test_size = 0.3)"
   ]
  },
  {
   "cell_type": "code",
   "execution_count": 9,
   "id": "6d0da141",
   "metadata": {
    "ExecuteTime": {
     "end_time": "2023-02-27T11:20:39.422198Z",
     "start_time": "2023-02-27T11:20:39.398190Z"
    }
   },
   "outputs": [],
   "source": [
    "model = lgbm.LGBMClassifier(boosting_type = 'dart', max_depth = 4, learning_rate = 0.01,objective='binary')"
   ]
  },
  {
   "cell_type": "code",
   "execution_count": 10,
   "id": "ce964d05",
   "metadata": {
    "ExecuteTime": {
     "end_time": "2023-02-27T11:20:39.447896Z",
     "start_time": "2023-02-27T11:20:39.423338Z"
    }
   },
   "outputs": [],
   "source": [
    "labels = list(Y)"
   ]
  },
  {
   "cell_type": "code",
   "execution_count": 11,
   "id": "23f01004",
   "metadata": {
    "ExecuteTime": {
     "end_time": "2023-02-27T11:20:40.709034Z",
     "start_time": "2023-02-27T11:20:39.448881Z"
    }
   },
   "outputs": [],
   "source": [
    "models = {}\n",
    "for label in labels:\n",
    "    model.fit(X = X_train, y = y_train[label])\n",
    "    models[f'{label}'] = model"
   ]
  },
  {
   "cell_type": "code",
   "execution_count": 12,
   "id": "64ae3594",
   "metadata": {
    "ExecuteTime": {
     "end_time": "2023-02-27T11:20:40.744688Z",
     "start_time": "2023-02-27T11:20:40.710181Z"
    }
   },
   "outputs": [
    {
     "data": {
      "text/plain": [
       "{'a': LGBMClassifier(boosting_type='dart', learning_rate=0.01, max_depth=4,\n",
       "                objective='binary'),\n",
       " 'b': LGBMClassifier(boosting_type='dart', learning_rate=0.01, max_depth=4,\n",
       "                objective='binary'),\n",
       " 'c': LGBMClassifier(boosting_type='dart', learning_rate=0.01, max_depth=4,\n",
       "                objective='binary')}"
      ]
     },
     "execution_count": 12,
     "metadata": {},
     "output_type": "execute_result"
    }
   ],
   "source": [
    "models"
   ]
  },
  {
   "cell_type": "code",
   "execution_count": 19,
   "id": "b89ca9a1",
   "metadata": {
    "ExecuteTime": {
     "end_time": "2023-02-27T11:22:13.067416Z",
     "start_time": "2023-02-27T11:22:12.994886Z"
    }
   },
   "outputs": [],
   "source": [
    "y_hats = pd.DataFrame()\n",
    "for label in labels:\n",
    "    model = models[f'{label}']\n",
    "    y_hats[f'{label}'] = model.predict_proba(X_test)[:,1]"
   ]
  },
  {
   "cell_type": "code",
   "execution_count": 24,
   "id": "c4230706",
   "metadata": {
    "ExecuteTime": {
     "end_time": "2023-02-27T11:22:58.749577Z",
     "start_time": "2023-02-27T11:22:58.591266Z"
    }
   },
   "outputs": [],
   "source": [
    "metrics = {}\n",
    "for label in labels:\n",
    "    y_test_ = y_test[label]\n",
    "    metrics[f'{label}'] = Metrics(y_real = y_test_, model_probs = y_hats[label])"
   ]
  },
  {
   "cell_type": "code",
   "execution_count": 28,
   "id": "4a6ea14b",
   "metadata": {
    "ExecuteTime": {
     "end_time": "2023-02-27T11:23:30.592182Z",
     "start_time": "2023-02-27T11:23:30.508916Z"
    }
   },
   "outputs": [
    {
     "name": "stdout",
     "output_type": "stream",
     "text": [
      "   accuracy  precision  recall    f1  auc  gini\n",
      "0      0.59       0.37    0.44  0.41  0.6   0.2\n",
      "   accuracy  precision  recall    f1   auc  gini\n",
      "0      0.46       0.87     0.4  0.55  0.58  0.16\n",
      "   accuracy  precision  recall    f1   auc  gini\n",
      "0      0.76       0.78    0.65  0.71  0.85   0.7\n"
     ]
    }
   ],
   "source": [
    "for label in labels:\n",
    "    print(metrics[label].scores)"
   ]
  },
  {
   "cell_type": "code",
   "execution_count": 30,
   "id": "bc0f3ec1",
   "metadata": {
    "ExecuteTime": {
     "end_time": "2023-02-27T11:26:49.040223Z",
     "start_time": "2023-02-27T11:26:48.960820Z"
    }
   },
   "outputs": [],
   "source": [
    "f1s = []\n",
    "for label in labels:\n",
    "    f1s.append(metrics[label].scores['f1'].values)"
   ]
  },
  {
   "cell_type": "code",
   "execution_count": 32,
   "id": "91420686",
   "metadata": {
    "ExecuteTime": {
     "end_time": "2023-02-27T11:27:04.245889Z",
     "start_time": "2023-02-27T11:27:04.192431Z"
    }
   },
   "outputs": [],
   "source": [
    "macro_average_f1 = np.mean(f1s)"
   ]
  },
  {
   "cell_type": "code",
   "execution_count": 33,
   "id": "27f5d28f",
   "metadata": {
    "ExecuteTime": {
     "end_time": "2023-02-27T11:27:08.535246Z",
     "start_time": "2023-02-27T11:27:08.479827Z"
    }
   },
   "outputs": [
    {
     "data": {
      "text/plain": [
       "0.5566666666666666"
      ]
     },
     "execution_count": 33,
     "metadata": {},
     "output_type": "execute_result"
    }
   ],
   "source": [
    "macro_average_f1"
   ]
  },
  {
   "cell_type": "code",
   "execution_count": 50,
   "id": "5979da8a",
   "metadata": {
    "ExecuteTime": {
     "end_time": "2023-02-27T11:39:00.476163Z",
     "start_time": "2023-02-27T11:39:00.410600Z"
    }
   },
   "outputs": [],
   "source": [
    "a = pd.DataFrame(columns = labels)"
   ]
  },
  {
   "cell_type": "code",
   "execution_count": 167,
   "id": "80b11469",
   "metadata": {
    "ExecuteTime": {
     "end_time": "2023-02-27T12:04:16.985305Z",
     "start_time": "2023-02-27T12:04:16.926188Z"
    }
   },
   "outputs": [],
   "source": [
    "def averages(y_tests, y_hats, labels:List[str], threshold:float = 0.5):\n",
    "    \n",
    "    scores = []\n",
    "    micro_scores = []\n",
    "    sample_scores = []\n",
    "    f1_scores = pd.DataFrame()\n",
    "    for label in labels:\n",
    "        y_test = y_tests[label]\n",
    "        y_hat = y_hats[label]\n",
    "        y_pred = np.where(y_hat > threshold, 1, 0)\n",
    "        score = f1_score(y_true = y_test, y_pred = y_pred)\n",
    "        scores.append(score)\n",
    "        \n",
    "        micro_score = f1_score(y_true = y_test, y_pred = y_pred, average = 'macro')\n",
    "        micro_scores.append(micro_score)\n",
    "        \n",
    "#         sample_score = f1_score(y_true = y_test, y_pred = y_pred, average = 'sample')\n",
    "#         sample_scores.append(sample_score)\n",
    "#         sample_scores.append('sample')\n",
    "        \n",
    "    scores = np.array([scores])\n",
    "    print(scores)\n",
    "    micro_scores = np.array([micro_scores])\n",
    "    print(micro_scores)\n",
    "#     sample_scores = np.array([sample_scores])\n",
    "    \n",
    "    f1_scores = pd.DataFrame(scores)\n",
    "    print(f1_scores)\n",
    "    micro_f1_df = pd.DataFrame(micro_scores)\n",
    "    print(micro_f1_df)\n",
    "    f1_scores = pd.concat([f1_scores,micro_f1_df], axis = 0)\n",
    "    \n",
    "    return f1_scores\n"
   ]
  },
  {
   "cell_type": "code",
   "execution_count": 168,
   "id": "4d20c007",
   "metadata": {
    "ExecuteTime": {
     "end_time": "2023-02-27T12:04:17.182997Z",
     "start_time": "2023-02-27T12:04:17.117473Z"
    }
   },
   "outputs": [
    {
     "name": "stdout",
     "output_type": "stream",
     "text": [
      "[[0.4059501  0.54960981 0.70673077]]\n",
      "[[0.54490559 0.4398132  0.74891333]]\n",
      "         0        1         2\n",
      "0  0.40595  0.54961  0.706731\n",
      "          0         1         2\n",
      "0  0.544906  0.439813  0.748913\n"
     ]
    }
   ],
   "source": [
    "f1_scores = averages(y_tests = y_test, y_hats = y_hats, labels = labels)"
   ]
  },
  {
   "cell_type": "code",
   "execution_count": 169,
   "id": "76b53d3a",
   "metadata": {
    "ExecuteTime": {
     "end_time": "2023-02-27T12:04:17.464130Z",
     "start_time": "2023-02-27T12:04:17.410271Z"
    }
   },
   "outputs": [
    {
     "data": {
      "text/html": [
       "<div>\n",
       "<style scoped>\n",
       "    .dataframe tbody tr th:only-of-type {\n",
       "        vertical-align: middle;\n",
       "    }\n",
       "\n",
       "    .dataframe tbody tr th {\n",
       "        vertical-align: top;\n",
       "    }\n",
       "\n",
       "    .dataframe thead th {\n",
       "        text-align: right;\n",
       "    }\n",
       "</style>\n",
       "<table border=\"1\" class=\"dataframe\">\n",
       "  <thead>\n",
       "    <tr style=\"text-align: right;\">\n",
       "      <th></th>\n",
       "      <th>0</th>\n",
       "      <th>1</th>\n",
       "      <th>2</th>\n",
       "    </tr>\n",
       "  </thead>\n",
       "  <tbody>\n",
       "    <tr>\n",
       "      <th>0</th>\n",
       "      <td>0.405950</td>\n",
       "      <td>0.549610</td>\n",
       "      <td>0.706731</td>\n",
       "    </tr>\n",
       "    <tr>\n",
       "      <th>0</th>\n",
       "      <td>0.544906</td>\n",
       "      <td>0.439813</td>\n",
       "      <td>0.748913</td>\n",
       "    </tr>\n",
       "  </tbody>\n",
       "</table>\n",
       "</div>"
      ],
      "text/plain": [
       "          0         1         2\n",
       "0  0.405950  0.549610  0.706731\n",
       "0  0.544906  0.439813  0.748913"
      ]
     },
     "execution_count": 169,
     "metadata": {},
     "output_type": "execute_result"
    }
   ],
   "source": [
    "f1_scores"
   ]
  },
  {
   "cell_type": "code",
   "execution_count": 172,
   "id": "ec877181",
   "metadata": {
    "ExecuteTime": {
     "end_time": "2023-02-27T12:05:48.627811Z",
     "start_time": "2023-02-27T12:05:48.572813Z"
    }
   },
   "outputs": [
    {
     "data": {
      "text/plain": [
       "array([[1, 1, 1],\n",
       "       [0, 0, 0],\n",
       "       [0, 1, 1],\n",
       "       ...,\n",
       "       [0, 1, 0],\n",
       "       [1, 1, 1],\n",
       "       [0, 1, 1]])"
      ]
     },
     "execution_count": 172,
     "metadata": {},
     "output_type": "execute_result"
    }
   ],
   "source": [
    "y_test.values"
   ]
  },
  {
   "cell_type": "code",
   "execution_count": 175,
   "id": "9beef919",
   "metadata": {
    "ExecuteTime": {
     "end_time": "2023-02-27T12:06:13.684785Z",
     "start_time": "2023-02-27T12:06:13.624842Z"
    }
   },
   "outputs": [],
   "source": [
    "y_preds = np.where(y_hats > 0.5, 1, 0)"
   ]
  },
  {
   "cell_type": "code",
   "execution_count": 177,
   "id": "ddca6a1e",
   "metadata": {
    "ExecuteTime": {
     "end_time": "2023-02-27T12:06:20.734970Z",
     "start_time": "2023-02-27T12:06:20.670261Z"
    }
   },
   "outputs": [
    {
     "name": "stderr",
     "output_type": "stream",
     "text": [
      "/Users/vpb/anaconda3/envs/ds/lib/python3.8/site-packages/sklearn/metrics/_classification.py:1599: UndefinedMetricWarning: F-score is ill-defined and being set to 0.0 in samples with no true nor predicted labels. Use `zero_division` parameter to control this behavior.\n"
     ]
    }
   ],
   "source": [
    "f1s = f1_score(y_test, y_preds, average = 'samples')"
   ]
  },
  {
   "cell_type": "code",
   "execution_count": 178,
   "id": "7573e2ec",
   "metadata": {
    "ExecuteTime": {
     "end_time": "2023-02-27T12:06:24.354476Z",
     "start_time": "2023-02-27T12:06:24.300182Z"
    }
   },
   "outputs": [
    {
     "data": {
      "text/plain": [
       "0.28826666666666667"
      ]
     },
     "execution_count": 178,
     "metadata": {},
     "output_type": "execute_result"
    }
   ],
   "source": [
    "f1s"
   ]
  },
  {
   "cell_type": "code",
   "execution_count": 196,
   "id": "bb1e9441",
   "metadata": {
    "ExecuteTime": {
     "end_time": "2023-02-27T12:17:13.180948Z",
     "start_time": "2023-02-27T12:17:13.120469Z"
    }
   },
   "outputs": [],
   "source": [
    "f1_score_raw = f1_score(y_test, y_preds, average = 'macro')"
   ]
  },
  {
   "cell_type": "code",
   "execution_count": 182,
   "id": "f4bf116f",
   "metadata": {
    "ExecuteTime": {
     "end_time": "2023-02-27T12:08:37.637811Z",
     "start_time": "2023-02-27T12:08:37.572337Z"
    }
   },
   "outputs": [
    {
     "name": "stderr",
     "output_type": "stream",
     "text": [
      "/Users/vpb/anaconda3/envs/ds/lib/python3.8/site-packages/sklearn/metrics/_classification.py:1334: UndefinedMetricWarning: Precision and F-score are ill-defined and being set to 0.0 in samples with no predicted labels. Use `zero_division` parameter to control this behavior.\n",
      "/Users/vpb/anaconda3/envs/ds/lib/python3.8/site-packages/sklearn/metrics/_classification.py:1334: UndefinedMetricWarning: Recall and F-score are ill-defined and being set to 0.0 in samples with no true labels. Use `zero_division` parameter to control this behavior.\n"
     ]
    }
   ],
   "source": [
    "report = classification_report(y_test, y_preds)"
   ]
  },
  {
   "cell_type": "code",
   "execution_count": 184,
   "id": "d04fb06f",
   "metadata": {
    "ExecuteTime": {
     "end_time": "2023-02-27T12:08:42.821292Z",
     "start_time": "2023-02-27T12:08:42.767549Z"
    }
   },
   "outputs": [
    {
     "name": "stdout",
     "output_type": "stream",
     "text": [
      "              precision    recall  f1-score   support\n",
      "\n",
      "           0       0.37      0.44      0.41       955\n",
      "           1       0.87      0.40      0.55      2459\n",
      "           2       0.78      0.65      0.71      1367\n",
      "\n",
      "   micro avg       0.68      0.48      0.56      4781\n",
      "   macro avg       0.68      0.50      0.55      4781\n",
      "weighted avg       0.75      0.48      0.57      4781\n",
      " samples avg       0.25      0.35      0.29      4781\n",
      "\n"
     ]
    }
   ],
   "source": [
    "print(report)"
   ]
  },
  {
   "cell_type": "code",
   "execution_count": 193,
   "id": "1bdc7993",
   "metadata": {
    "ExecuteTime": {
     "end_time": "2023-02-27T12:16:27.341296Z",
     "start_time": "2023-02-27T12:16:27.286880Z"
    }
   },
   "outputs": [
    {
     "data": {
      "text/plain": [
       "str"
      ]
     },
     "execution_count": 193,
     "metadata": {},
     "output_type": "execute_result"
    }
   ],
   "source": [
    "type(report)"
   ]
  },
  {
   "cell_type": "code",
   "execution_count": 191,
   "id": "e0a010dd",
   "metadata": {
    "ExecuteTime": {
     "end_time": "2023-02-27T12:13:50.574386Z",
     "start_time": "2023-02-27T12:13:50.516405Z"
    }
   },
   "outputs": [
    {
     "data": {
      "text/plain": [
       "array([[[1339,  706],\n",
       "        [ 532,  423]],\n",
       "\n",
       "       [[ 398,  143],\n",
       "        [1473,  986]],\n",
       "\n",
       "       [[1386,  247],\n",
       "        [ 485,  882]]])"
      ]
     },
     "execution_count": 191,
     "metadata": {},
     "output_type": "execute_result"
    }
   ],
   "source": [
    "multilabel_confusion_matrix(y_test,y_preds)"
   ]
  },
  {
   "cell_type": "code",
   "execution_count": 198,
   "id": "66e87df2",
   "metadata": {
    "ExecuteTime": {
     "end_time": "2023-02-27T12:17:58.653754Z",
     "start_time": "2023-02-27T12:17:58.535270Z"
    }
   },
   "outputs": [],
   "source": [
    "f1s = [0.41,0.55,0.71]"
   ]
  },
  {
   "cell_type": "code",
   "execution_count": 200,
   "id": "fab0b29e",
   "metadata": {
    "ExecuteTime": {
     "end_time": "2023-02-27T12:18:11.810663Z",
     "start_time": "2023-02-27T12:18:11.754896Z"
    }
   },
   "outputs": [
    {
     "name": "stdout",
     "output_type": "stream",
     "text": [
      "0.5566666666666666\n"
     ]
    }
   ],
   "source": [
    "macro_f1 = np.mean(f1s)\n",
    "print(macro_f1)"
   ]
  }
 ],
 "metadata": {
  "kernelspec": {
   "display_name": "Python 3 (ipykernel)",
   "language": "python",
   "name": "python3"
  },
  "language_info": {
   "codemirror_mode": {
    "name": "ipython",
    "version": 3
   },
   "file_extension": ".py",
   "mimetype": "text/x-python",
   "name": "python",
   "nbconvert_exporter": "python",
   "pygments_lexer": "ipython3",
   "version": "3.8.15"
  },
  "toc": {
   "base_numbering": 1,
   "nav_menu": {},
   "number_sections": true,
   "sideBar": true,
   "skip_h1_title": false,
   "title_cell": "Table of Contents",
   "title_sidebar": "Contents",
   "toc_cell": false,
   "toc_position": {},
   "toc_section_display": true,
   "toc_window_display": false
  }
 },
 "nbformat": 4,
 "nbformat_minor": 5
}
