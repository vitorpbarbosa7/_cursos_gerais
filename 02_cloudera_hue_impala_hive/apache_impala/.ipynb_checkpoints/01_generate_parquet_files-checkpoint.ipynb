{
 "cells": [
  {
   "cell_type": "markdown",
   "metadata": {},
   "source": [
    "# Boilerplate"
   ]
  },
  {
   "cell_type": "code",
   "execution_count": 2,
   "metadata": {},
   "outputs": [],
   "source": [
    "import pandas as pd \n",
    "import pandasql as ps\n",
    "import matplotlib.pyplot as plt \n",
    "import numpy as np\n",
    "import seaborn as sns\n",
    "import scipy.stats as stats\n",
    "import statsmodels.stats.api as sms\n",
    "\n",
    "from IPython.display import display\n",
    "from IPython.display import Markdown as md\n",
    "from IPython.core.interactiveshell import InteractiveShell\n",
    "InteractiveShell.ast_node_interactivity = \"all\"\n",
    "\n",
    "def f():\n",
    "    pd.set_option('display.max_columns', None)\n",
    "    pd.set_option('display.max_rows', None)\n",
    "    \n",
    "def nf():\n",
    "    pd.set_option('display.max_columns', None)\n",
    "    pd.set_option('display.max_rows', 4)\n",
    "\n",
    "import warnings\n",
    "warnings.filterwarnings('ignore')\n",
    "\n",
    "def dp(df, r = 5, c = None):\n",
    "    from IPython.display import display\n",
    "    with pd.option_context('display.max_rows', 4, 'display.max_columns', None):\n",
    "        display(df)\n",
    "\n",
    "def fg(w = 6, h = 4, dpi = 120):\n",
    "    plt.rcParams['figure.figsize'] = (w,h)\n",
    "    plt.rcParams['figure.dpi'] = dpi\n",
    "fg()\n",
    "\n",
    "%load_ext autoreload\n",
    "%autoreload 2"
   ]
  },
  {
   "cell_type": "markdown",
   "metadata": {},
   "source": [
    "# Load data"
   ]
  },
  {
   "cell_type": "code",
   "execution_count": 4,
   "metadata": {},
   "outputs": [],
   "source": [
    "df = pd.read_csv('data/catalog.csv')"
   ]
  },
  {
   "cell_type": "code",
   "execution_count": 5,
   "metadata": {},
   "outputs": [
    {
     "data": {
      "text/plain": [
       "(1693, 23)"
      ]
     },
     "execution_count": 5,
     "metadata": {},
     "output_type": "execute_result"
    }
   ],
   "source": [
    "df.shape"
   ]
  },
  {
   "cell_type": "code",
   "execution_count": 6,
   "metadata": {},
   "outputs": [
    {
     "data": {
      "text/html": [
       "<div>\n",
       "<style scoped>\n",
       "    .dataframe tbody tr th:only-of-type {\n",
       "        vertical-align: middle;\n",
       "    }\n",
       "\n",
       "    .dataframe tbody tr th {\n",
       "        vertical-align: top;\n",
       "    }\n",
       "\n",
       "    .dataframe thead th {\n",
       "        text-align: right;\n",
       "    }\n",
       "</style>\n",
       "<table border=\"1\" class=\"dataframe\">\n",
       "  <thead>\n",
       "    <tr style=\"text-align: right;\">\n",
       "      <th></th>\n",
       "      <th>id</th>\n",
       "      <th>date</th>\n",
       "      <th>time</th>\n",
       "      <th>continent_code</th>\n",
       "      <th>country_name</th>\n",
       "      <th>country_code</th>\n",
       "      <th>state/province</th>\n",
       "      <th>population</th>\n",
       "      <th>city/town</th>\n",
       "      <th>distance</th>\n",
       "      <th>...</th>\n",
       "      <th>geolocation</th>\n",
       "      <th>hazard_type</th>\n",
       "      <th>landslide_type</th>\n",
       "      <th>landslide_size</th>\n",
       "      <th>trigger</th>\n",
       "      <th>storm_name</th>\n",
       "      <th>injuries</th>\n",
       "      <th>fatalities</th>\n",
       "      <th>source_name</th>\n",
       "      <th>source_link</th>\n",
       "    </tr>\n",
       "  </thead>\n",
       "  <tbody>\n",
       "    <tr>\n",
       "      <th>0</th>\n",
       "      <td>34</td>\n",
       "      <td>3/2/07</td>\n",
       "      <td>Night</td>\n",
       "      <td>NaN</td>\n",
       "      <td>United States</td>\n",
       "      <td>US</td>\n",
       "      <td>Virginia</td>\n",
       "      <td>16000</td>\n",
       "      <td>Cherry Hill</td>\n",
       "      <td>3.40765</td>\n",
       "      <td>...</td>\n",
       "      <td>(38.600900000000003, -77.268199999999993)</td>\n",
       "      <td>Landslide</td>\n",
       "      <td>Landslide</td>\n",
       "      <td>Small</td>\n",
       "      <td>Rain</td>\n",
       "      <td>NaN</td>\n",
       "      <td>NaN</td>\n",
       "      <td>NaN</td>\n",
       "      <td>NBC 4 news</td>\n",
       "      <td>http://www.nbc4.com/news/11186871/detail.html</td>\n",
       "    </tr>\n",
       "    <tr>\n",
       "      <th>1</th>\n",
       "      <td>42</td>\n",
       "      <td>3/22/07</td>\n",
       "      <td>NaN</td>\n",
       "      <td>NaN</td>\n",
       "      <td>United States</td>\n",
       "      <td>US</td>\n",
       "      <td>Ohio</td>\n",
       "      <td>17288</td>\n",
       "      <td>New Philadelphia</td>\n",
       "      <td>3.33522</td>\n",
       "      <td>...</td>\n",
       "      <td>(40.517499999999998, -81.430499999999995)</td>\n",
       "      <td>Landslide</td>\n",
       "      <td>Landslide</td>\n",
       "      <td>Small</td>\n",
       "      <td>Rain</td>\n",
       "      <td>NaN</td>\n",
       "      <td>NaN</td>\n",
       "      <td>NaN</td>\n",
       "      <td>Canton Rep.com</td>\n",
       "      <td>http://www.cantonrep.com/index.php?ID=345054&amp;C...</td>\n",
       "    </tr>\n",
       "    <tr>\n",
       "      <th>2</th>\n",
       "      <td>56</td>\n",
       "      <td>4/6/07</td>\n",
       "      <td>NaN</td>\n",
       "      <td>NaN</td>\n",
       "      <td>United States</td>\n",
       "      <td>US</td>\n",
       "      <td>Pennsylvania</td>\n",
       "      <td>15930</td>\n",
       "      <td>Wilkinsburg</td>\n",
       "      <td>2.91977</td>\n",
       "      <td>...</td>\n",
       "      <td>(40.4377, -79.915999999999997)</td>\n",
       "      <td>Landslide</td>\n",
       "      <td>Landslide</td>\n",
       "      <td>Small</td>\n",
       "      <td>Rain</td>\n",
       "      <td>NaN</td>\n",
       "      <td>NaN</td>\n",
       "      <td>NaN</td>\n",
       "      <td>The Pittsburgh Channel.com</td>\n",
       "      <td>https://web.archive.org/web/20080423132842/htt...</td>\n",
       "    </tr>\n",
       "    <tr>\n",
       "      <th>3</th>\n",
       "      <td>59</td>\n",
       "      <td>4/14/07</td>\n",
       "      <td>NaN</td>\n",
       "      <td>NaN</td>\n",
       "      <td>Canada</td>\n",
       "      <td>CA</td>\n",
       "      <td>Quebec</td>\n",
       "      <td>42786</td>\n",
       "      <td>Châteauguay</td>\n",
       "      <td>2.98682</td>\n",
       "      <td>...</td>\n",
       "      <td>(45.322600000000001, -73.777100000000004)</td>\n",
       "      <td>Landslide</td>\n",
       "      <td>Riverbank collapse</td>\n",
       "      <td>Small</td>\n",
       "      <td>Rain</td>\n",
       "      <td>NaN</td>\n",
       "      <td>NaN</td>\n",
       "      <td>NaN</td>\n",
       "      <td>Le Soleil</td>\n",
       "      <td>http://www.hebdos.net/lsc/edition162007/articl...</td>\n",
       "    </tr>\n",
       "    <tr>\n",
       "      <th>4</th>\n",
       "      <td>61</td>\n",
       "      <td>4/15/07</td>\n",
       "      <td>NaN</td>\n",
       "      <td>NaN</td>\n",
       "      <td>United States</td>\n",
       "      <td>US</td>\n",
       "      <td>Kentucky</td>\n",
       "      <td>6903</td>\n",
       "      <td>Pikeville</td>\n",
       "      <td>5.66542</td>\n",
       "      <td>...</td>\n",
       "      <td>(37.432499999999997, -82.493099999999998)</td>\n",
       "      <td>Landslide</td>\n",
       "      <td>Landslide</td>\n",
       "      <td>Small</td>\n",
       "      <td>Downpour</td>\n",
       "      <td>NaN</td>\n",
       "      <td>NaN</td>\n",
       "      <td>0.0</td>\n",
       "      <td>Matthew Crawford (KGS)</td>\n",
       "      <td>NaN</td>\n",
       "    </tr>\n",
       "    <tr>\n",
       "      <th>...</th>\n",
       "      <td>...</td>\n",
       "      <td>...</td>\n",
       "      <td>...</td>\n",
       "      <td>...</td>\n",
       "      <td>...</td>\n",
       "      <td>...</td>\n",
       "      <td>...</td>\n",
       "      <td>...</td>\n",
       "      <td>...</td>\n",
       "      <td>...</td>\n",
       "      <td>...</td>\n",
       "      <td>...</td>\n",
       "      <td>...</td>\n",
       "      <td>...</td>\n",
       "      <td>...</td>\n",
       "      <td>...</td>\n",
       "      <td>...</td>\n",
       "      <td>...</td>\n",
       "      <td>...</td>\n",
       "      <td>...</td>\n",
       "      <td>...</td>\n",
       "    </tr>\n",
       "    <tr>\n",
       "      <th>1688</th>\n",
       "      <td>7535</td>\n",
       "      <td>12/7/15</td>\n",
       "      <td>NaN</td>\n",
       "      <td>NaN</td>\n",
       "      <td>United States</td>\n",
       "      <td>US</td>\n",
       "      <td>North Carolina</td>\n",
       "      <td>1646</td>\n",
       "      <td>Tryon</td>\n",
       "      <td>7.80866</td>\n",
       "      <td>...</td>\n",
       "      <td>(35.221899999999998, -82.322599999999994)</td>\n",
       "      <td>Landslide</td>\n",
       "      <td>Rockfall</td>\n",
       "      <td>Small</td>\n",
       "      <td>NaN</td>\n",
       "      <td>NaN</td>\n",
       "      <td>0.0</td>\n",
       "      <td>0.0</td>\n",
       "      <td>Tryon Daily Bulletin</td>\n",
       "      <td>http://www.tryondailybulletin.com/2016/02/26/u...</td>\n",
       "    </tr>\n",
       "    <tr>\n",
       "      <th>1689</th>\n",
       "      <td>7537</td>\n",
       "      <td>2/22/16</td>\n",
       "      <td>0:00</td>\n",
       "      <td>NaN</td>\n",
       "      <td>United States</td>\n",
       "      <td>US</td>\n",
       "      <td>West Virginia</td>\n",
       "      <td>51400</td>\n",
       "      <td>Charleston</td>\n",
       "      <td>6.84721</td>\n",
       "      <td>...</td>\n",
       "      <td>(38.398699999999998, -81.584800000000001)</td>\n",
       "      <td>Landslide</td>\n",
       "      <td>Mudslide</td>\n",
       "      <td>Small</td>\n",
       "      <td>Unknown</td>\n",
       "      <td>NaN</td>\n",
       "      <td>0.0</td>\n",
       "      <td>0.0</td>\n",
       "      <td>Charleston Gazette</td>\n",
       "      <td>http://www.wvgazettemail.com/news/20160222/us-...</td>\n",
       "    </tr>\n",
       "    <tr>\n",
       "      <th>1690</th>\n",
       "      <td>7539</td>\n",
       "      <td>2/23/16</td>\n",
       "      <td>NaN</td>\n",
       "      <td>NaN</td>\n",
       "      <td>United States</td>\n",
       "      <td>US</td>\n",
       "      <td>West Virginia</td>\n",
       "      <td>2406</td>\n",
       "      <td>Welch</td>\n",
       "      <td>14.19735</td>\n",
       "      <td>...</td>\n",
       "      <td>(37.409599999999998, -81.4268)</td>\n",
       "      <td>Landslide</td>\n",
       "      <td>Landslide</td>\n",
       "      <td>Small</td>\n",
       "      <td>Rain</td>\n",
       "      <td>NaN</td>\n",
       "      <td>0.0</td>\n",
       "      <td>0.0</td>\n",
       "      <td>Bluefield Daily Telegraph</td>\n",
       "      <td>http://www.bdtonline.com/news/officials-cautio...</td>\n",
       "    </tr>\n",
       "    <tr>\n",
       "      <th>1691</th>\n",
       "      <td>7540</td>\n",
       "      <td>2/26/16</td>\n",
       "      <td>21:06</td>\n",
       "      <td>NaN</td>\n",
       "      <td>United States</td>\n",
       "      <td>US</td>\n",
       "      <td>West Virginia</td>\n",
       "      <td>1048</td>\n",
       "      <td>Athens</td>\n",
       "      <td>12.00678</td>\n",
       "      <td>...</td>\n",
       "      <td>(37.501100000000001, -81.109300000000005)</td>\n",
       "      <td>Landslide</td>\n",
       "      <td>Rockfall</td>\n",
       "      <td>Small</td>\n",
       "      <td>Unknown</td>\n",
       "      <td>NaN</td>\n",
       "      <td>0.0</td>\n",
       "      <td>0.0</td>\n",
       "      <td>Bluefield Daily Telegraph</td>\n",
       "      <td>http://www.bdtonline.com/news/rockslide-snarls...</td>\n",
       "    </tr>\n",
       "    <tr>\n",
       "      <th>1692</th>\n",
       "      <td>7541</td>\n",
       "      <td>3/2/16</td>\n",
       "      <td>8:00</td>\n",
       "      <td>NaN</td>\n",
       "      <td>United States</td>\n",
       "      <td>US</td>\n",
       "      <td>Vermont</td>\n",
       "      <td>2066</td>\n",
       "      <td>Windsor</td>\n",
       "      <td>1.78429</td>\n",
       "      <td>...</td>\n",
       "      <td>(43.4771, -72.406599999999997)</td>\n",
       "      <td>Landslide</td>\n",
       "      <td>Rockfall</td>\n",
       "      <td>Small</td>\n",
       "      <td>Unknown</td>\n",
       "      <td>NaN</td>\n",
       "      <td>0.0</td>\n",
       "      <td>0.0</td>\n",
       "      <td>Valley News</td>\n",
       "      <td>http://www.vnews.com/home/21353539-95/loose-ledge</td>\n",
       "    </tr>\n",
       "  </tbody>\n",
       "</table>\n",
       "<p>1693 rows × 23 columns</p>\n",
       "</div>"
      ],
      "text/plain": [
       "        id     date   time continent_code   country_name country_code  \\\n",
       "0       34   3/2/07  Night            NaN  United States           US   \n",
       "1       42  3/22/07    NaN            NaN  United States           US   \n",
       "2       56   4/6/07    NaN            NaN  United States           US   \n",
       "3       59  4/14/07    NaN            NaN         Canada           CA   \n",
       "4       61  4/15/07    NaN            NaN  United States           US   \n",
       "...    ...      ...    ...            ...            ...          ...   \n",
       "1688  7535  12/7/15    NaN            NaN  United States           US   \n",
       "1689  7537  2/22/16   0:00            NaN  United States           US   \n",
       "1690  7539  2/23/16    NaN            NaN  United States           US   \n",
       "1691  7540  2/26/16  21:06            NaN  United States           US   \n",
       "1692  7541   3/2/16   8:00            NaN  United States           US   \n",
       "\n",
       "      state/province  population         city/town  distance  ...  \\\n",
       "0           Virginia       16000       Cherry Hill   3.40765  ...   \n",
       "1               Ohio       17288  New Philadelphia   3.33522  ...   \n",
       "2       Pennsylvania       15930       Wilkinsburg   2.91977  ...   \n",
       "3             Quebec       42786       Châteauguay   2.98682  ...   \n",
       "4           Kentucky        6903         Pikeville   5.66542  ...   \n",
       "...              ...         ...               ...       ...  ...   \n",
       "1688  North Carolina        1646             Tryon   7.80866  ...   \n",
       "1689   West Virginia       51400        Charleston   6.84721  ...   \n",
       "1690   West Virginia        2406             Welch  14.19735  ...   \n",
       "1691   West Virginia        1048            Athens  12.00678  ...   \n",
       "1692         Vermont        2066           Windsor   1.78429  ...   \n",
       "\n",
       "                                    geolocation  hazard_type  \\\n",
       "0     (38.600900000000003, -77.268199999999993)    Landslide   \n",
       "1     (40.517499999999998, -81.430499999999995)    Landslide   \n",
       "2                (40.4377, -79.915999999999997)    Landslide   \n",
       "3     (45.322600000000001, -73.777100000000004)    Landslide   \n",
       "4     (37.432499999999997, -82.493099999999998)    Landslide   \n",
       "...                                         ...          ...   \n",
       "1688  (35.221899999999998, -82.322599999999994)    Landslide   \n",
       "1689  (38.398699999999998, -81.584800000000001)    Landslide   \n",
       "1690             (37.409599999999998, -81.4268)    Landslide   \n",
       "1691  (37.501100000000001, -81.109300000000005)    Landslide   \n",
       "1692             (43.4771, -72.406599999999997)    Landslide   \n",
       "\n",
       "          landslide_type landslide_size   trigger storm_name injuries  \\\n",
       "0              Landslide          Small      Rain        NaN      NaN   \n",
       "1              Landslide          Small      Rain        NaN      NaN   \n",
       "2              Landslide          Small      Rain        NaN      NaN   \n",
       "3     Riverbank collapse          Small      Rain        NaN      NaN   \n",
       "4              Landslide          Small  Downpour        NaN      NaN   \n",
       "...                  ...            ...       ...        ...      ...   \n",
       "1688            Rockfall          Small       NaN        NaN      0.0   \n",
       "1689            Mudslide          Small   Unknown        NaN      0.0   \n",
       "1690           Landslide          Small      Rain        NaN      0.0   \n",
       "1691            Rockfall          Small   Unknown        NaN      0.0   \n",
       "1692            Rockfall          Small   Unknown        NaN      0.0   \n",
       "\n",
       "     fatalities                 source_name  \\\n",
       "0           NaN                  NBC 4 news   \n",
       "1           NaN              Canton Rep.com   \n",
       "2           NaN  The Pittsburgh Channel.com   \n",
       "3           NaN                   Le Soleil   \n",
       "4           0.0      Matthew Crawford (KGS)   \n",
       "...         ...                         ...   \n",
       "1688        0.0        Tryon Daily Bulletin   \n",
       "1689        0.0          Charleston Gazette   \n",
       "1690        0.0   Bluefield Daily Telegraph   \n",
       "1691        0.0   Bluefield Daily Telegraph   \n",
       "1692        0.0                 Valley News   \n",
       "\n",
       "                                            source_link  \n",
       "0         http://www.nbc4.com/news/11186871/detail.html  \n",
       "1     http://www.cantonrep.com/index.php?ID=345054&C...  \n",
       "2     https://web.archive.org/web/20080423132842/htt...  \n",
       "3     http://www.hebdos.net/lsc/edition162007/articl...  \n",
       "4                                                   NaN  \n",
       "...                                                 ...  \n",
       "1688  http://www.tryondailybulletin.com/2016/02/26/u...  \n",
       "1689  http://www.wvgazettemail.com/news/20160222/us-...  \n",
       "1690  http://www.bdtonline.com/news/officials-cautio...  \n",
       "1691  http://www.bdtonline.com/news/rockslide-snarls...  \n",
       "1692  http://www.vnews.com/home/21353539-95/loose-ledge  \n",
       "\n",
       "[1693 rows x 23 columns]"
      ]
     },
     "execution_count": 6,
     "metadata": {},
     "output_type": "execute_result"
    }
   ],
   "source": [
    "df"
   ]
  },
  {
   "cell_type": "code",
   "execution_count": 8,
   "metadata": {},
   "outputs": [
    {
     "data": {
      "text/plain": [
       "id                        int64\n",
       "date                     object\n",
       "time                     object\n",
       "continent_code           object\n",
       "country_name             object\n",
       "country_code             object\n",
       "state/province           object\n",
       "population                int64\n",
       "city/town                object\n",
       "distance                float64\n",
       "location_description     object\n",
       "latitude                float64\n",
       "longitude               float64\n",
       "geolocation              object\n",
       "hazard_type              object\n",
       "landslide_type           object\n",
       "landslide_size           object\n",
       "trigger                  object\n",
       "storm_name               object\n",
       "injuries                float64\n",
       "fatalities              float64\n",
       "source_name              object\n",
       "source_link              object\n",
       "dtype: object"
      ]
     },
     "execution_count": 8,
     "metadata": {},
     "output_type": "execute_result"
    }
   ],
   "source": [
    "df.dtypes"
   ]
  },
  {
   "cell_type": "code",
   "execution_count": 12,
   "metadata": {},
   "outputs": [
    {
     "data": {
      "text/plain": [
       "0        3/2/07\n",
       "1       3/22/07\n",
       "2        4/6/07\n",
       "3       4/14/07\n",
       "4       4/15/07\n",
       "         ...   \n",
       "1688    12/7/15\n",
       "1689    2/22/16\n",
       "1690    2/23/16\n",
       "1691    2/26/16\n",
       "1692     3/2/16\n",
       "Name: date, Length: 1693, dtype: object"
      ]
     },
     "execution_count": 12,
     "metadata": {},
     "output_type": "execute_result"
    }
   ],
   "source": [
    "df.date"
   ]
  },
  {
   "cell_type": "code",
   "execution_count": 18,
   "metadata": {},
   "outputs": [],
   "source": [
    "df['date_b'] = pd.to_datetime(df.date, format = '%m/%d/%y')"
   ]
  },
  {
   "cell_type": "code",
   "execution_count": 19,
   "metadata": {},
   "outputs": [
    {
     "data": {
      "text/plain": [
       "id                               int64\n",
       "date                            object\n",
       "time                            object\n",
       "continent_code                  object\n",
       "country_name                    object\n",
       "country_code                    object\n",
       "state/province                  object\n",
       "population                       int64\n",
       "city/town                       object\n",
       "distance                       float64\n",
       "location_description            object\n",
       "latitude                       float64\n",
       "longitude                      float64\n",
       "geolocation                     object\n",
       "hazard_type                     object\n",
       "landslide_type                  object\n",
       "landslide_size                  object\n",
       "trigger                         object\n",
       "storm_name                      object\n",
       "injuries                       float64\n",
       "fatalities                     float64\n",
       "source_name                     object\n",
       "source_link                     object\n",
       "date_b                  datetime64[ns]\n",
       "dtype: object"
      ]
     },
     "execution_count": 19,
     "metadata": {},
     "output_type": "execute_result"
    }
   ],
   "source": [
    "df.dtypes"
   ]
  },
  {
   "cell_type": "code",
   "execution_count": 21,
   "metadata": {},
   "outputs": [
    {
     "data": {
      "text/plain": [
       "0      2007-03-02\n",
       "1      2007-03-22\n",
       "2      2007-04-06\n",
       "3      2007-04-14\n",
       "4      2007-04-15\n",
       "          ...    \n",
       "1688   2015-12-07\n",
       "1689   2016-02-22\n",
       "1690   2016-02-23\n",
       "1691   2016-02-26\n",
       "1692   2016-03-02\n",
       "Name: date_b, Length: 1693, dtype: datetime64[ns]"
      ]
     },
     "execution_count": 21,
     "metadata": {},
     "output_type": "execute_result"
    }
   ],
   "source": [
    "df.date_b"
   ]
  },
  {
   "cell_type": "code",
   "execution_count": 35,
   "metadata": {},
   "outputs": [],
   "source": [
    "df['dateint'] = df.date_b.dt.strftime('%Y%m%d')"
   ]
  },
  {
   "cell_type": "code",
   "execution_count": 36,
   "metadata": {},
   "outputs": [
    {
     "data": {
      "text/plain": [
       "0       20070302\n",
       "1       20070322\n",
       "2       20070406\n",
       "3       20070414\n",
       "4       20070415\n",
       "          ...   \n",
       "1688    20151207\n",
       "1689    20160222\n",
       "1690    20160223\n",
       "1691    20160226\n",
       "1692    20160302\n",
       "Name: dateint, Length: 1690, dtype: object"
      ]
     },
     "execution_count": 36,
     "metadata": {},
     "output_type": "execute_result"
    }
   ],
   "source": [
    "df.dateint"
   ]
  },
  {
   "cell_type": "code",
   "execution_count": 37,
   "metadata": {},
   "outputs": [
    {
     "data": {
      "text/plain": [
       "0"
      ]
     },
     "execution_count": 37,
     "metadata": {},
     "output_type": "execute_result"
    }
   ],
   "source": [
    "df.dateint.isna().sum()"
   ]
  },
  {
   "cell_type": "code",
   "execution_count": 43,
   "metadata": {},
   "outputs": [
    {
     "data": {
      "text/plain": [
       "dtype('O')"
      ]
     },
     "execution_count": 43,
     "metadata": {},
     "output_type": "execute_result"
    }
   ],
   "source": [
    "df.dateint.dtypes"
   ]
  },
  {
   "cell_type": "code",
   "execution_count": 48,
   "metadata": {},
   "outputs": [],
   "source": [
    "df.dateint = df.dateint.astype(int)"
   ]
  },
  {
   "cell_type": "code",
   "execution_count": 49,
   "metadata": {},
   "outputs": [
    {
     "data": {
      "text/plain": [
       "0       20070302\n",
       "1       20070322\n",
       "2       20070406\n",
       "3       20070414\n",
       "4       20070415\n",
       "          ...   \n",
       "1688    20151207\n",
       "1689    20160222\n",
       "1690    20160223\n",
       "1691    20160226\n",
       "1692    20160302\n",
       "Name: dateint, Length: 1690, dtype: int32"
      ]
     },
     "execution_count": 49,
     "metadata": {},
     "output_type": "execute_result"
    }
   ],
   "source": [
    "df.dateint"
   ]
  },
  {
   "cell_type": "code",
   "execution_count": 50,
   "metadata": {},
   "outputs": [],
   "source": [
    "df.to_csv('data/cat2.csv', index = False)"
   ]
  },
  {
   "cell_type": "markdown",
   "metadata": {},
   "source": [
    "# Save as parquet"
   ]
  },
  {
   "cell_type": "code",
   "execution_count": 22,
   "metadata": {},
   "outputs": [],
   "source": [
    "df.to_parquet('data/catalog.parquet')"
   ]
  },
  {
   "cell_type": "markdown",
   "metadata": {},
   "source": [
    "# another fucking file everything is fucked up"
   ]
  },
  {
   "cell_type": "code",
   "execution_count": 60,
   "metadata": {},
   "outputs": [],
   "source": [
    "data = pd.DataFrame()"
   ]
  },
  {
   "cell_type": "code",
   "execution_count": 61,
   "metadata": {},
   "outputs": [],
   "source": [
    "data['anomesdia'] = pd.date_range(start = '01/01/2020', \n",
    "                                  end = '31/12/2021',\n",
    "                                  freq = 'D')"
   ]
  },
  {
   "cell_type": "code",
   "execution_count": 62,
   "metadata": {},
   "outputs": [
    {
     "data": {
      "text/plain": [
       "(731,)"
      ]
     },
     "execution_count": 62,
     "metadata": {},
     "output_type": "execute_result"
    }
   ],
   "source": [
    "data.anomesdia.shape"
   ]
  },
  {
   "cell_type": "code",
   "execution_count": 63,
   "metadata": {},
   "outputs": [],
   "source": [
    "data['inteiro'] = data.anomesdia.dt.strftime('%Y%m%d').astype(int)"
   ]
  },
  {
   "cell_type": "code",
   "execution_count": 67,
   "metadata": {},
   "outputs": [],
   "source": [
    "data.to_csv('data/datas.csv', index=False)"
   ]
  },
  {
   "cell_type": "code",
   "execution_count": 68,
   "metadata": {},
   "outputs": [
    {
     "data": {
      "text/plain": [
       "anomesdia    datetime64[ns]\n",
       "inteiro               int32\n",
       "dtype: object"
      ]
     },
     "execution_count": 68,
     "metadata": {},
     "output_type": "execute_result"
    }
   ],
   "source": [
    "data.dtypes"
   ]
  },
  {
   "cell_type": "code",
   "execution_count": 69,
   "metadata": {},
   "outputs": [
    {
     "data": {
      "text/html": [
       "<div>\n",
       "<style scoped>\n",
       "    .dataframe tbody tr th:only-of-type {\n",
       "        vertical-align: middle;\n",
       "    }\n",
       "\n",
       "    .dataframe tbody tr th {\n",
       "        vertical-align: top;\n",
       "    }\n",
       "\n",
       "    .dataframe thead th {\n",
       "        text-align: right;\n",
       "    }\n",
       "</style>\n",
       "<table border=\"1\" class=\"dataframe\">\n",
       "  <thead>\n",
       "    <tr style=\"text-align: right;\">\n",
       "      <th></th>\n",
       "      <th>anomesdia</th>\n",
       "      <th>inteiro</th>\n",
       "    </tr>\n",
       "  </thead>\n",
       "  <tbody>\n",
       "    <tr>\n",
       "      <th>0</th>\n",
       "      <td>2020-01-01</td>\n",
       "      <td>20200101</td>\n",
       "    </tr>\n",
       "    <tr>\n",
       "      <th>1</th>\n",
       "      <td>2020-01-02</td>\n",
       "      <td>20200102</td>\n",
       "    </tr>\n",
       "    <tr>\n",
       "      <th>2</th>\n",
       "      <td>2020-01-03</td>\n",
       "      <td>20200103</td>\n",
       "    </tr>\n",
       "    <tr>\n",
       "      <th>3</th>\n",
       "      <td>2020-01-04</td>\n",
       "      <td>20200104</td>\n",
       "    </tr>\n",
       "    <tr>\n",
       "      <th>4</th>\n",
       "      <td>2020-01-05</td>\n",
       "      <td>20200105</td>\n",
       "    </tr>\n",
       "    <tr>\n",
       "      <th>...</th>\n",
       "      <td>...</td>\n",
       "      <td>...</td>\n",
       "    </tr>\n",
       "    <tr>\n",
       "      <th>726</th>\n",
       "      <td>2021-12-27</td>\n",
       "      <td>20211227</td>\n",
       "    </tr>\n",
       "    <tr>\n",
       "      <th>727</th>\n",
       "      <td>2021-12-28</td>\n",
       "      <td>20211228</td>\n",
       "    </tr>\n",
       "    <tr>\n",
       "      <th>728</th>\n",
       "      <td>2021-12-29</td>\n",
       "      <td>20211229</td>\n",
       "    </tr>\n",
       "    <tr>\n",
       "      <th>729</th>\n",
       "      <td>2021-12-30</td>\n",
       "      <td>20211230</td>\n",
       "    </tr>\n",
       "    <tr>\n",
       "      <th>730</th>\n",
       "      <td>2021-12-31</td>\n",
       "      <td>20211231</td>\n",
       "    </tr>\n",
       "  </tbody>\n",
       "</table>\n",
       "<p>731 rows × 2 columns</p>\n",
       "</div>"
      ],
      "text/plain": [
       "     anomesdia   inteiro\n",
       "0   2020-01-01  20200101\n",
       "1   2020-01-02  20200102\n",
       "2   2020-01-03  20200103\n",
       "3   2020-01-04  20200104\n",
       "4   2020-01-05  20200105\n",
       "..         ...       ...\n",
       "726 2021-12-27  20211227\n",
       "727 2021-12-28  20211228\n",
       "728 2021-12-29  20211229\n",
       "729 2021-12-30  20211230\n",
       "730 2021-12-31  20211231\n",
       "\n",
       "[731 rows x 2 columns]"
      ]
     },
     "execution_count": 69,
     "metadata": {},
     "output_type": "execute_result"
    }
   ],
   "source": [
    "data"
   ]
  },
  {
   "cell_type": "markdown",
   "metadata": {},
   "source": [
    "# Queries"
   ]
  },
  {
   "cell_type": "code",
   "execution_count": 70,
   "metadata": {},
   "outputs": [],
   "source": [
    "q = '''\n",
    "select inteiro from datas;\n",
    "\n",
    "select now() as right_now, date_add(now(), interval 3 weeks) as in_3_weeks;\n",
    "\n",
    "select\n",
    "-- converts bigint yyyyMMdd to string, then to unix_timestamp than to\n",
    "string readable date in unixtime\n",
    "from_unixtime(unix_timestamp(cast(inteiro as string), 'yyyyMMdd'),\n",
    "'yyyyMMdd') as _data\n",
    "-- input: bigint yyyyMMdd; action: subtracts three months: returns:\n",
    "string yyyyMMdd\n",
    ",from_timestamp(date_sub(cast(from_unixtime(unix_timestamp(cast(inteiro\n",
    "as string), 'yyyyMMdd'))\n",
    "as timestamp), interval 3 months), 'yyyyMMdd') as shift_left3\n",
    "-- input: bigint yyyyMMdd; action: subtracts three months: returns:\n",
    "bigint yyyyMMdd\n",
    ",cast(from_timestamp(date_sub(cast(from_unixtime(unix_timestamp(cast(inteiro\n",
    "as string), 'yyyyMMdd'))\n",
    "as timestamp), interval 3 months), 'yyyyMMdd') as bigint) as shift_left3\n",
    ",date_sub(cast(from_unixtime(unix_timestamp(cast(inteiro as string),\n",
    "'yyyyMMdd'))\n",
    "as timestamp), interval 3 months) as shift_left3_aux\n",
    ",unix_timestamp(cast(inteiro as string), 'yyyyMMdd') as _unix_timestamp\n",
    ",from_unixtime(unix_timestamp(cast(inteiro as string), 'yyyyMMdd')) as _unixtime\n",
    ",cast(from_unixtime(unix_timestamp(cast(inteiro as string),\n",
    "'yyyyMMdd')) as timestamp) as _stringtimestamp\n",
    ",date_sub(cast(from_unixtime(unix_timestamp(cast(inteiro as string),\n",
    "'yyyyMMdd'))\n",
    "as timestamp), interval 3 months) as shift_left3\n",
    ",typeof(from_unixtime(unix_timestamp(cast(inteiro as string),\n",
    "'yyyyMMdd'))) as _typeofunixtime\n",
    ",typeof(from_unixtime(unix_timestamp(cast(inteiro as string),\n",
    "'yyyyMMdd'), 'yyyyMMdd')) as _typeofunixtimestr\n",
    "from\n",
    "datas;\n",
    "'''"
   ]
  },
  {
   "cell_type": "code",
   "execution_count": null,
   "metadata": {},
   "outputs": [],
   "source": []
  }
 ],
 "metadata": {
  "kernelspec": {
   "display_name": "Python 3",
   "language": "python",
   "name": "python3"
  },
  "language_info": {
   "codemirror_mode": {
    "name": "ipython",
    "version": 3
   },
   "file_extension": ".py",
   "mimetype": "text/x-python",
   "name": "python",
   "nbconvert_exporter": "python",
   "pygments_lexer": "ipython3",
   "version": "3.8.3"
  },
  "toc": {
   "base_numbering": 1,
   "nav_menu": {},
   "number_sections": true,
   "sideBar": true,
   "skip_h1_title": false,
   "title_cell": "Table of Contents",
   "title_sidebar": "Contents",
   "toc_cell": false,
   "toc_position": {},
   "toc_section_display": true,
   "toc_window_display": true
  }
 },
 "nbformat": 4,
 "nbformat_minor": 4
}
