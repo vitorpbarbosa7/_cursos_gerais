{
 "cells": [
  {
   "cell_type": "code",
   "execution_count": 23,
   "id": "ac04f7b1",
   "metadata": {
    "ExecuteTime": {
     "end_time": "2023-07-12T11:22:56.988089Z",
     "start_time": "2023-07-12T11:22:56.982543Z"
    }
   },
   "outputs": [],
   "source": [
    "import numpy as np\n",
    "import matplotlib.pyplot as plt\n",
    "\n",
    "# True labels and predicted probabilities\n",
    "true_labels = np.array([0, 0, 0, 0, 1, 1, 1, 1, 1, 1])\n",
    "predicted_probs = np.array([0.1, 0.2, 0.3, 0.4, 0.5, 0.6, 0.7, 0.8, 0.9, 0.7])"
   ]
  },
  {
   "cell_type": "code",
   "execution_count": 24,
   "id": "7e85c6cf",
   "metadata": {
    "ExecuteTime": {
     "end_time": "2023-07-12T11:22:57.167980Z",
     "start_time": "2023-07-12T11:22:57.162645Z"
    }
   },
   "outputs": [
    {
     "data": {
      "text/plain": [
       "array([0, 0, 0, 0, 1, 1, 1, 1, 1, 1])"
      ]
     },
     "execution_count": 24,
     "metadata": {},
     "output_type": "execute_result"
    }
   ],
   "source": [
    "true_labels"
   ]
  },
  {
   "cell_type": "code",
   "execution_count": 25,
   "id": "0931a76e",
   "metadata": {
    "ExecuteTime": {
     "end_time": "2023-07-12T11:22:57.417724Z",
     "start_time": "2023-07-12T11:22:57.412179Z"
    }
   },
   "outputs": [
    {
     "data": {
      "text/plain": [
       "array([0.1, 0.2, 0.3, 0.4, 0.5, 0.6, 0.7, 0.8, 0.9, 0.7])"
      ]
     },
     "execution_count": 25,
     "metadata": {},
     "output_type": "execute_result"
    }
   ],
   "source": [
    "predicted_probs"
   ]
  },
  {
   "cell_type": "code",
   "execution_count": 26,
   "id": "318c6a72",
   "metadata": {
    "ExecuteTime": {
     "end_time": "2023-07-12T11:22:57.448756Z",
     "start_time": "2023-07-12T11:22:57.444674Z"
    }
   },
   "outputs": [],
   "source": [
    "# Sort the data based on predicted probabilities\n",
    "sorted_indices = np.argsort(predicted_probs)\n",
    "sorted_true_labels = true_labels[sorted_indices]"
   ]
  },
  {
   "cell_type": "code",
   "execution_count": 27,
   "id": "f888da39",
   "metadata": {
    "ExecuteTime": {
     "end_time": "2023-07-12T11:22:57.487142Z",
     "start_time": "2023-07-12T11:22:57.478842Z"
    }
   },
   "outputs": [
    {
     "data": {
      "text/plain": [
       "array([0, 1, 2, 3, 4, 5, 6, 9, 7, 8])"
      ]
     },
     "execution_count": 27,
     "metadata": {},
     "output_type": "execute_result"
    }
   ],
   "source": [
    "sorted_indices"
   ]
  },
  {
   "cell_type": "code",
   "execution_count": 28,
   "id": "b1372a4e",
   "metadata": {
    "ExecuteTime": {
     "end_time": "2023-07-12T11:22:57.515464Z",
     "start_time": "2023-07-12T11:22:57.509162Z"
    }
   },
   "outputs": [
    {
     "data": {
      "text/plain": [
       "[0.1, 0.2, 0.3, 0.4, 0.5, 0.6, 0.7, 0.7, 0.8, 0.9]"
      ]
     },
     "execution_count": 28,
     "metadata": {},
     "output_type": "execute_result"
    }
   ],
   "source": [
    "sorted(predicted_probs)"
   ]
  },
  {
   "cell_type": "code",
   "execution_count": 29,
   "id": "defa4509",
   "metadata": {
    "ExecuteTime": {
     "end_time": "2023-07-12T11:22:57.550665Z",
     "start_time": "2023-07-12T11:22:57.544834Z"
    }
   },
   "outputs": [
    {
     "data": {
      "text/plain": [
       "array([0, 0, 0, 0, 1, 1, 1, 1, 1, 1])"
      ]
     },
     "execution_count": 29,
     "metadata": {},
     "output_type": "execute_result"
    }
   ],
   "source": [
    "sorted_true_labels"
   ]
  },
  {
   "cell_type": "code",
   "execution_count": 30,
   "id": "afe27603",
   "metadata": {
    "ExecuteTime": {
     "end_time": "2023-07-12T11:22:57.580327Z",
     "start_time": "2023-07-12T11:22:57.575855Z"
    }
   },
   "outputs": [],
   "source": [
    "# Calculate the cumulative sums\n",
    "n = len(sorted_true_labels)\n",
    "cumulative_sum_true = np.cumsum(sorted_true_labels)"
   ]
  },
  {
   "cell_type": "code",
   "execution_count": 31,
   "id": "3a7330ce",
   "metadata": {
    "ExecuteTime": {
     "end_time": "2023-07-12T11:22:57.619442Z",
     "start_time": "2023-07-12T11:22:57.612735Z"
    }
   },
   "outputs": [
    {
     "data": {
      "text/plain": [
       "array([0, 0, 0, 0, 1, 2, 3, 4, 5, 6])"
      ]
     },
     "execution_count": 31,
     "metadata": {},
     "output_type": "execute_result"
    }
   ],
   "source": [
    "cumulative_sum_true"
   ]
  },
  {
   "cell_type": "code",
   "execution_count": 32,
   "id": "54aa2bf4",
   "metadata": {
    "ExecuteTime": {
     "end_time": "2023-07-12T11:22:57.651487Z",
     "start_time": "2023-07-12T11:22:57.647416Z"
    }
   },
   "outputs": [],
   "source": [
    "cumulative_sum_total = np.arange(1, n + 1)"
   ]
  },
  {
   "cell_type": "code",
   "execution_count": 33,
   "id": "24d917eb",
   "metadata": {
    "ExecuteTime": {
     "end_time": "2023-07-12T11:22:57.680627Z",
     "start_time": "2023-07-12T11:22:57.676817Z"
    }
   },
   "outputs": [],
   "source": [
    "# Calculate the Lorenz curve points\n",
    "lorenz_x = cumulative_sum_total / n\n",
    "lorenz_y = cumulative_sum_true / np.sum(sorted_true_labels)"
   ]
  },
  {
   "cell_type": "code",
   "execution_count": 34,
   "id": "b2ef9f94",
   "metadata": {
    "ExecuteTime": {
     "end_time": "2023-07-12T11:22:57.802719Z",
     "start_time": "2023-07-12T11:22:57.710324Z"
    }
   },
   "outputs": [
    {
     "data": {
      "image/png": "[encoded data removed]",
      "text/plain": [
       "<Figure size 432x288 with 1 Axes>"
      ]
     },
     "metadata": {
      "needs_background": "light"
     },
     "output_type": "display_data"
    }
   ],
   "source": [
    "# Plot the Lorenz curve\n",
    "plt.plot([0, 1], [0, 1], color='gray', linestyle='--')  # Line of perfect equality\n",
    "plt.plot(lorenz_x, lorenz_y, marker='o')\n",
    "plt.xlabel('Cumulative Proportion of Examples')\n",
    "plt.ylabel('Cumulative Proportion of Positive Examples')\n",
    "plt.title('Lorenz Curve')\n",
    "plt.grid(True)\n",
    "plt.show()"
   ]
  }
 ],
 "metadata": {
  "kernelspec": {
   "display_name": "Python 3 (ipykernel)",
   "language": "python",
   "name": "python3"
  },
  "language_info": {
   "codemirror_mode": {
    "name": "ipython",
    "version": 3
   },
   "file_extension": ".py",
   "mimetype": "text/x-python",
   "name": "python",
   "nbconvert_exporter": "python",
   "pygments_lexer": "ipython3",
   "version": "3.8.15"
  },
  "toc": {
   "base_numbering": 1,
   "nav_menu": {},
   "number_sections": true,
   "sideBar": true,
   "skip_h1_title": false,
   "title_cell": "Table of Contents",
   "title_sidebar": "Contents",
   "toc_cell": false,
   "toc_position": {},
   "toc_section_display": true,
   "toc_window_display": false
  }
 },
 "nbformat": 4,
 "nbformat_minor": 5
}
