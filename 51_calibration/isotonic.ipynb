{
 "cells": [
  {
   "cell_type": "code",
   "execution_count": 1,
   "id": "1efde7e5",
   "metadata": {
    "ExecuteTime": {
     "end_time": "2023-12-28T18:47:21.882037Z",
     "start_time": "2023-12-28T18:47:21.856064Z"
    }
   },
   "outputs": [],
   "source": [
    "import pickle\n",
    "\n",
    "with open('probs.pickle', 'rb') as f:\n",
    "    probs = pickle.load(f)\n",
    "\n",
    "y_train = probs['train_scores']\n",
    "\n",
    "y_test = probs['test_scores']\n",
    "\n",
    "y_train = probs['y_train']\n",
    "\n",
    "y_test = probs['y_test']"
   ]
  },
  {
   "cell_type": "code",
   "execution_count": null,
   "id": "63ecd04a",
   "metadata": {},
   "outputs": [],
   "source": []
  }
 ],
 "metadata": {
  "kernelspec": {
   "display_name": "Python 3 (ipykernel)",
   "language": "python",
   "name": "python3"
  },
  "language_info": {
   "codemirror_mode": {
    "name": "ipython",
    "version": 3
   },
   "file_extension": ".py",
   "mimetype": "text/x-python",
   "name": "python",
   "nbconvert_exporter": "python",
   "pygments_lexer": "ipython3",
   "version": "3.8.15"
  },
  "toc": {
   "base_numbering": 1,
   "nav_menu": {},
   "number_sections": true,
   "sideBar": true,
   "skip_h1_title": false,
   "title_cell": "Table of Contents",
   "title_sidebar": "Contents",
   "toc_cell": false,
   "toc_position": {},
   "toc_section_display": true,
   "toc_window_display": false
  }
 },
 "nbformat": 4,
 "nbformat_minor": 5
}
