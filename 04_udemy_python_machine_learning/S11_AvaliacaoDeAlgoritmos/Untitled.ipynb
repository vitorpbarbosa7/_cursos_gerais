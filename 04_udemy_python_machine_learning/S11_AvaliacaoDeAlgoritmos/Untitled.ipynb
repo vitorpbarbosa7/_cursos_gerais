{
 "cells": [
  {
   "cell_type": "code",
   "execution_count": 1,
   "metadata": {},
   "outputs": [],
   "source": [
    "import pandas as pd\n",
    "import numpy as np\n",
    "\n",
    "base = pd.read_csv('credit-data.csv')\n",
    "base.loc[base.age < 0, 'age'] = 40.92\n",
    "               \n",
    "previsores = base.iloc[:, 1:4].values\n",
    "classe = base.iloc[:, 4].values"
   ]
  },
  {
   "cell_type": "code",
   "execution_count": 2,
   "metadata": {},
   "outputs": [
    {
     "data": {
      "text/html": [
       "<style  type=\"text/css\" >\n",
       "    #T_59c3009e_50ab_11ea_bae5_f2a6042779ebrow0_col0 {\n",
       "            background-color:  #b40426;\n",
       "        }    #T_59c3009e_50ab_11ea_bae5_f2a6042779ebrow0_col1 {\n",
       "            background-color:  #4f69d9;\n",
       "        }    #T_59c3009e_50ab_11ea_bae5_f2a6042779ebrow0_col2 {\n",
       "            background-color:  #9abbff;\n",
       "        }    #T_59c3009e_50ab_11ea_bae5_f2a6042779ebrow0_col3 {\n",
       "            background-color:  #3e51c5;\n",
       "        }    #T_59c3009e_50ab_11ea_bae5_f2a6042779ebrow0_col4 {\n",
       "            background-color:  #9dbdff;\n",
       "        }    #T_59c3009e_50ab_11ea_bae5_f2a6042779ebrow1_col0 {\n",
       "            background-color:  #4f69d9;\n",
       "        }    #T_59c3009e_50ab_11ea_bae5_f2a6042779ebrow1_col1 {\n",
       "            background-color:  #b40426;\n",
       "        }    #T_59c3009e_50ab_11ea_bae5_f2a6042779ebrow1_col2 {\n",
       "            background-color:  #98b9ff;\n",
       "        }    #T_59c3009e_50ab_11ea_bae5_f2a6042779ebrow1_col3 {\n",
       "            background-color:  #cbd8ee;\n",
       "        }    #T_59c3009e_50ab_11ea_bae5_f2a6042779ebrow1_col4 {\n",
       "            background-color:  #a2c1ff;\n",
       "        }    #T_59c3009e_50ab_11ea_bae5_f2a6042779ebrow2_col0 {\n",
       "            background-color:  #3b4cc0;\n",
       "        }    #T_59c3009e_50ab_11ea_bae5_f2a6042779ebrow2_col1 {\n",
       "            background-color:  #3b4cc0;\n",
       "        }    #T_59c3009e_50ab_11ea_bae5_f2a6042779ebrow2_col2 {\n",
       "            background-color:  #b40426;\n",
       "        }    #T_59c3009e_50ab_11ea_bae5_f2a6042779ebrow2_col3 {\n",
       "            background-color:  #3b4cc0;\n",
       "        }    #T_59c3009e_50ab_11ea_bae5_f2a6042779ebrow2_col4 {\n",
       "            background-color:  #3b4cc0;\n",
       "        }    #T_59c3009e_50ab_11ea_bae5_f2a6042779ebrow3_col0 {\n",
       "            background-color:  #4961d2;\n",
       "        }    #T_59c3009e_50ab_11ea_bae5_f2a6042779ebrow3_col1 {\n",
       "            background-color:  #d2dbe8;\n",
       "        }    #T_59c3009e_50ab_11ea_bae5_f2a6042779ebrow3_col2 {\n",
       "            background-color:  #a3c2fe;\n",
       "        }    #T_59c3009e_50ab_11ea_bae5_f2a6042779ebrow3_col3 {\n",
       "            background-color:  #b40426;\n",
       "        }    #T_59c3009e_50ab_11ea_bae5_f2a6042779ebrow3_col4 {\n",
       "            background-color:  #edd2c3;\n",
       "        }    #T_59c3009e_50ab_11ea_bae5_f2a6042779ebrow4_col0 {\n",
       "            background-color:  #3d50c3;\n",
       "        }    #T_59c3009e_50ab_11ea_bae5_f2a6042779ebrow4_col1 {\n",
       "            background-color:  #445acc;\n",
       "        }    #T_59c3009e_50ab_11ea_bae5_f2a6042779ebrow4_col2 {\n",
       "            background-color:  #3b4cc0;\n",
       "        }    #T_59c3009e_50ab_11ea_bae5_f2a6042779ebrow4_col3 {\n",
       "            background-color:  #b7cff9;\n",
       "        }    #T_59c3009e_50ab_11ea_bae5_f2a6042779ebrow4_col4 {\n",
       "            background-color:  #b40426;\n",
       "        }</style>  \n",
       "<table id=\"T_59c3009e_50ab_11ea_bae5_f2a6042779eb\" > \n",
       "<thead>    <tr> \n",
       "        <th class=\"blank level0\" ></th> \n",
       "        <th class=\"col_heading level0 col0\" >clientid</th> \n",
       "        <th class=\"col_heading level0 col1\" >income</th> \n",
       "        <th class=\"col_heading level0 col2\" >age</th> \n",
       "        <th class=\"col_heading level0 col3\" >loan</th> \n",
       "        <th class=\"col_heading level0 col4\" >c#default</th> \n",
       "    </tr></thead> \n",
       "<tbody>    <tr> \n",
       "        <th id=\"T_59c3009e_50ab_11ea_bae5_f2a6042779eblevel0_row0\" class=\"row_heading level0 row0\" >clientid</th> \n",
       "        <td id=\"T_59c3009e_50ab_11ea_bae5_f2a6042779ebrow0_col0\" class=\"data row0 col0\" >1</td> \n",
       "        <td id=\"T_59c3009e_50ab_11ea_bae5_f2a6042779ebrow0_col1\" class=\"data row0 col1\" >0.0392795</td> \n",
       "        <td id=\"T_59c3009e_50ab_11ea_bae5_f2a6042779ebrow0_col2\" class=\"data row0 col2\" >-0.0305082</td> \n",
       "        <td id=\"T_59c3009e_50ab_11ea_bae5_f2a6042779ebrow0_col3\" class=\"data row0 col3\" >0.0189311</td> \n",
       "        <td id=\"T_59c3009e_50ab_11ea_bae5_f2a6042779ebrow0_col4\" class=\"data row0 col4\" >-0.0201451</td> \n",
       "    </tr>    <tr> \n",
       "        <th id=\"T_59c3009e_50ab_11ea_bae5_f2a6042779eblevel0_row1\" class=\"row_heading level0 row1\" >income</th> \n",
       "        <td id=\"T_59c3009e_50ab_11ea_bae5_f2a6042779ebrow1_col0\" class=\"data row1 col0\" >0.0392795</td> \n",
       "        <td id=\"T_59c3009e_50ab_11ea_bae5_f2a6042779ebrow1_col1\" class=\"data row1 col1\" >1</td> \n",
       "        <td id=\"T_59c3009e_50ab_11ea_bae5_f2a6042779ebrow1_col2\" class=\"data row1 col2\" >-0.0332347</td> \n",
       "        <td id=\"T_59c3009e_50ab_11ea_bae5_f2a6042779ebrow1_col3\" class=\"data row1 col3\" >0.441117</td> \n",
       "        <td id=\"T_59c3009e_50ab_11ea_bae5_f2a6042779ebrow1_col4\" class=\"data row1 col4\" >0.00228431</td> \n",
       "    </tr>    <tr> \n",
       "        <th id=\"T_59c3009e_50ab_11ea_bae5_f2a6042779eblevel0_row2\" class=\"row_heading level0 row2\" >age</th> \n",
       "        <td id=\"T_59c3009e_50ab_11ea_bae5_f2a6042779ebrow2_col0\" class=\"data row2 col0\" >-0.0305082</td> \n",
       "        <td id=\"T_59c3009e_50ab_11ea_bae5_f2a6042779ebrow2_col1\" class=\"data row2 col1\" >-0.0332347</td> \n",
       "        <td id=\"T_59c3009e_50ab_11ea_bae5_f2a6042779ebrow2_col2\" class=\"data row2 col2\" >1</td> \n",
       "        <td id=\"T_59c3009e_50ab_11ea_bae5_f2a6042779ebrow2_col3\" class=\"data row2 col3\" >0.00668061</td> \n",
       "        <td id=\"T_59c3009e_50ab_11ea_bae5_f2a6042779ebrow2_col4\" class=\"data row2 col4\" >-0.445192</td> \n",
       "    </tr>    <tr> \n",
       "        <th id=\"T_59c3009e_50ab_11ea_bae5_f2a6042779eblevel0_row3\" class=\"row_heading level0 row3\" >loan</th> \n",
       "        <td id=\"T_59c3009e_50ab_11ea_bae5_f2a6042779ebrow3_col0\" class=\"data row3 col0\" >0.0189311</td> \n",
       "        <td id=\"T_59c3009e_50ab_11ea_bae5_f2a6042779ebrow3_col1\" class=\"data row3 col1\" >0.441117</td> \n",
       "        <td id=\"T_59c3009e_50ab_11ea_bae5_f2a6042779ebrow3_col2\" class=\"data row3 col2\" >0.00668061</td> \n",
       "        <td id=\"T_59c3009e_50ab_11ea_bae5_f2a6042779ebrow3_col3\" class=\"data row3 col3\" >1</td> \n",
       "        <td id=\"T_59c3009e_50ab_11ea_bae5_f2a6042779ebrow3_col4\" class=\"data row3 col4\" >0.37716</td> \n",
       "    </tr>    <tr> \n",
       "        <th id=\"T_59c3009e_50ab_11ea_bae5_f2a6042779eblevel0_row4\" class=\"row_heading level0 row4\" >c#default</th> \n",
       "        <td id=\"T_59c3009e_50ab_11ea_bae5_f2a6042779ebrow4_col0\" class=\"data row4 col0\" >-0.0201451</td> \n",
       "        <td id=\"T_59c3009e_50ab_11ea_bae5_f2a6042779ebrow4_col1\" class=\"data row4 col1\" >0.00228431</td> \n",
       "        <td id=\"T_59c3009e_50ab_11ea_bae5_f2a6042779ebrow4_col2\" class=\"data row4 col2\" >-0.445192</td> \n",
       "        <td id=\"T_59c3009e_50ab_11ea_bae5_f2a6042779ebrow4_col3\" class=\"data row4 col3\" >0.37716</td> \n",
       "        <td id=\"T_59c3009e_50ab_11ea_bae5_f2a6042779ebrow4_col4\" class=\"data row4 col4\" >1</td> \n",
       "    </tr></tbody> \n",
       "</table> "
      ],
      "text/plain": [
       "<pandas.io.formats.style.Styler at 0x1ec157acda0>"
      ]
     },
     "execution_count": 2,
     "metadata": {},
     "output_type": "execute_result"
    }
   ],
   "source": [
    "corr = base.corr()\n",
    "corr.style.background_gradient(cmap='coolwarm')"
   ]
  },
  {
   "cell_type": "code",
   "execution_count": null,
   "metadata": {},
   "outputs": [],
   "source": []
  }
 ],
 "metadata": {
  "kernelspec": {
   "display_name": "Python 3",
   "language": "python",
   "name": "python3"
  },
  "language_info": {
   "codemirror_mode": {
    "name": "ipython",
    "version": 3
   },
   "file_extension": ".py",
   "mimetype": "text/x-python",
   "name": "python",
   "nbconvert_exporter": "python",
   "pygments_lexer": "ipython3",
   "version": "3.7.0"
  }
 },
 "nbformat": 4,
 "nbformat_minor": 2
}
