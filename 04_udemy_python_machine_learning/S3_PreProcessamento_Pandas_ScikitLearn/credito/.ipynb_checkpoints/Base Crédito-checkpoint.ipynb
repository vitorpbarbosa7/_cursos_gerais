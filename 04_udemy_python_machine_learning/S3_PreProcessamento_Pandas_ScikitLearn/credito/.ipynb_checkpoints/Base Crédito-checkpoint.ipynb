{
 "cells": [
  {
   "cell_type": "markdown",
   "metadata": {},
   "source": [
    "<h3> Base de dados de crédito </h3>"
   ]
  },
  {
   "cell_type": "code",
   "execution_count": 5,
   "metadata": {},
   "outputs": [],
   "source": [
    "import numpy as np\n",
    "import pandas as pd\n",
    "import matplotlib.pyplot as plt\n",
    "import seaborn as sns\n",
    "%matplotlib inline"
   ]
  },
  {
   "cell_type": "code",
   "execution_count": 6,
   "metadata": {},
   "outputs": [],
   "source": [
    "df = pd.read_csv('credit-data.csv', sep=',')"
   ]
  },
  {
   "cell_type": "code",
   "execution_count": 7,
   "metadata": {},
   "outputs": [
    {
     "data": {
      "text/plain": [
       "['clientid', 'income', 'age', 'loan', 'default']"
      ]
     },
     "execution_count": 7,
     "metadata": {},
     "output_type": "execute_result"
    }
   ],
   "source": [
    "list(df)"
   ]
  },
  {
   "cell_type": "code",
   "execution_count": 8,
   "metadata": {},
   "outputs": [
    {
     "data": {
      "text/html": [
       "<div>\n",
       "<style scoped>\n",
       "    .dataframe tbody tr th:only-of-type {\n",
       "        vertical-align: middle;\n",
       "    }\n",
       "\n",
       "    .dataframe tbody tr th {\n",
       "        vertical-align: top;\n",
       "    }\n",
       "\n",
       "    .dataframe thead th {\n",
       "        text-align: right;\n",
       "    }\n",
       "</style>\n",
       "<table border=\"1\" class=\"dataframe\">\n",
       "  <thead>\n",
       "    <tr style=\"text-align: right;\">\n",
       "      <th></th>\n",
       "      <th>clientid</th>\n",
       "      <th>income</th>\n",
       "      <th>age</th>\n",
       "      <th>loan</th>\n",
       "      <th>default</th>\n",
       "    </tr>\n",
       "  </thead>\n",
       "  <tbody>\n",
       "    <tr>\n",
       "      <th>72</th>\n",
       "      <td>73</td>\n",
       "      <td>33704.508496</td>\n",
       "      <td>33.183106</td>\n",
       "      <td>5898.000893</td>\n",
       "      <td>1</td>\n",
       "    </tr>\n",
       "  </tbody>\n",
       "</table>\n",
       "</div>"
      ],
      "text/plain": [
       "    clientid        income        age         loan  default\n",
       "72        73  33704.508496  33.183106  5898.000893        1"
      ]
     },
     "execution_count": 8,
     "metadata": {},
     "output_type": "execute_result"
    }
   ],
   "source": [
    "df.sample()"
   ]
  },
  {
   "cell_type": "code",
   "execution_count": 6,
   "metadata": {},
   "outputs": [
    {
     "data": {
      "text/html": [
       "<div>\n",
       "<style scoped>\n",
       "    .dataframe tbody tr th:only-of-type {\n",
       "        vertical-align: middle;\n",
       "    }\n",
       "\n",
       "    .dataframe tbody tr th {\n",
       "        vertical-align: top;\n",
       "    }\n",
       "\n",
       "    .dataframe thead th {\n",
       "        text-align: right;\n",
       "    }\n",
       "</style>\n",
       "<table border=\"1\" class=\"dataframe\">\n",
       "  <thead>\n",
       "    <tr style=\"text-align: right;\">\n",
       "      <th></th>\n",
       "      <th>clientid</th>\n",
       "      <th>income</th>\n",
       "      <th>age</th>\n",
       "      <th>loan</th>\n",
       "      <th>default</th>\n",
       "    </tr>\n",
       "  </thead>\n",
       "  <tbody>\n",
       "    <tr>\n",
       "      <th>count</th>\n",
       "      <td>2000.000000</td>\n",
       "      <td>2000.000000</td>\n",
       "      <td>1997.000000</td>\n",
       "      <td>2000.000000</td>\n",
       "      <td>2000.000000</td>\n",
       "    </tr>\n",
       "    <tr>\n",
       "      <th>mean</th>\n",
       "      <td>1000.500000</td>\n",
       "      <td>45331.600018</td>\n",
       "      <td>40.807559</td>\n",
       "      <td>4444.369695</td>\n",
       "      <td>0.141500</td>\n",
       "    </tr>\n",
       "    <tr>\n",
       "      <th>std</th>\n",
       "      <td>577.494589</td>\n",
       "      <td>14326.327119</td>\n",
       "      <td>13.624469</td>\n",
       "      <td>3045.410024</td>\n",
       "      <td>0.348624</td>\n",
       "    </tr>\n",
       "    <tr>\n",
       "      <th>min</th>\n",
       "      <td>1.000000</td>\n",
       "      <td>20014.489470</td>\n",
       "      <td>-52.423280</td>\n",
       "      <td>1.377630</td>\n",
       "      <td>0.000000</td>\n",
       "    </tr>\n",
       "    <tr>\n",
       "      <th>25%</th>\n",
       "      <td>500.750000</td>\n",
       "      <td>32796.459717</td>\n",
       "      <td>28.990415</td>\n",
       "      <td>1939.708847</td>\n",
       "      <td>0.000000</td>\n",
       "    </tr>\n",
       "    <tr>\n",
       "      <th>50%</th>\n",
       "      <td>1000.500000</td>\n",
       "      <td>45789.117313</td>\n",
       "      <td>41.317159</td>\n",
       "      <td>3974.719419</td>\n",
       "      <td>0.000000</td>\n",
       "    </tr>\n",
       "    <tr>\n",
       "      <th>75%</th>\n",
       "      <td>1500.250000</td>\n",
       "      <td>57791.281668</td>\n",
       "      <td>52.587040</td>\n",
       "      <td>6432.410625</td>\n",
       "      <td>0.000000</td>\n",
       "    </tr>\n",
       "    <tr>\n",
       "      <th>max</th>\n",
       "      <td>2000.000000</td>\n",
       "      <td>69995.685578</td>\n",
       "      <td>63.971796</td>\n",
       "      <td>13766.051239</td>\n",
       "      <td>1.000000</td>\n",
       "    </tr>\n",
       "  </tbody>\n",
       "</table>\n",
       "</div>"
      ],
      "text/plain": [
       "          clientid        income          age          loan      default\n",
       "count  2000.000000   2000.000000  1997.000000   2000.000000  2000.000000\n",
       "mean   1000.500000  45331.600018    40.807559   4444.369695     0.141500\n",
       "std     577.494589  14326.327119    13.624469   3045.410024     0.348624\n",
       "min       1.000000  20014.489470   -52.423280      1.377630     0.000000\n",
       "25%     500.750000  32796.459717    28.990415   1939.708847     0.000000\n",
       "50%    1000.500000  45789.117313    41.317159   3974.719419     0.000000\n",
       "75%    1500.250000  57791.281668    52.587040   6432.410625     0.000000\n",
       "max    2000.000000  69995.685578    63.971796  13766.051239     1.000000"
      ]
     },
     "execution_count": 6,
     "metadata": {},
     "output_type": "execute_result"
    }
   ],
   "source": [
    "df.describe()"
   ]
  },
  {
   "cell_type": "code",
   "execution_count": 7,
   "metadata": {},
   "outputs": [
    {
     "data": {
      "text/html": [
       "<style  type=\"text/css\" >\n",
       "    #T_ca03f638_4154_11ea_95f7_f951dab70fb4row0_col0 {\n",
       "            background-color:  #b40426;\n",
       "        }    #T_ca03f638_4154_11ea_95f7_f951dab70fb4row0_col1 {\n",
       "            background-color:  #506bda;\n",
       "        }    #T_ca03f638_4154_11ea_95f7_f951dab70fb4row0_col2 {\n",
       "            background-color:  #9bbcff;\n",
       "        }    #T_ca03f638_4154_11ea_95f7_f951dab70fb4row0_col3 {\n",
       "            background-color:  #3f53c6;\n",
       "        }    #T_ca03f638_4154_11ea_95f7_f951dab70fb4row0_col4 {\n",
       "            background-color:  #9abbff;\n",
       "        }    #T_ca03f638_4154_11ea_95f7_f951dab70fb4row1_col0 {\n",
       "            background-color:  #4b64d5;\n",
       "        }    #T_ca03f638_4154_11ea_95f7_f951dab70fb4row1_col1 {\n",
       "            background-color:  #b40426;\n",
       "        }    #T_ca03f638_4154_11ea_95f7_f951dab70fb4row1_col2 {\n",
       "            background-color:  #96b7ff;\n",
       "        }    #T_ca03f638_4154_11ea_95f7_f951dab70fb4row1_col3 {\n",
       "            background-color:  #ccd9ed;\n",
       "        }    #T_ca03f638_4154_11ea_95f7_f951dab70fb4row1_col4 {\n",
       "            background-color:  #9fbfff;\n",
       "        }    #T_ca03f638_4154_11ea_95f7_f951dab70fb4row2_col0 {\n",
       "            background-color:  #3c4ec2;\n",
       "        }    #T_ca03f638_4154_11ea_95f7_f951dab70fb4row2_col1 {\n",
       "            background-color:  #3b4cc0;\n",
       "        }    #T_ca03f638_4154_11ea_95f7_f951dab70fb4row2_col2 {\n",
       "            background-color:  #b40426;\n",
       "        }    #T_ca03f638_4154_11ea_95f7_f951dab70fb4row2_col3 {\n",
       "            background-color:  #3b4cc0;\n",
       "        }    #T_ca03f638_4154_11ea_95f7_f951dab70fb4row2_col4 {\n",
       "            background-color:  #3b4cc0;\n",
       "        }    #T_ca03f638_4154_11ea_95f7_f951dab70fb4row3_col0 {\n",
       "            background-color:  #455cce;\n",
       "        }    #T_ca03f638_4154_11ea_95f7_f951dab70fb4row3_col1 {\n",
       "            background-color:  #d2dbe8;\n",
       "        }    #T_ca03f638_4154_11ea_95f7_f951dab70fb4row3_col2 {\n",
       "            background-color:  #9fbfff;\n",
       "        }    #T_ca03f638_4154_11ea_95f7_f951dab70fb4row3_col3 {\n",
       "            background-color:  #b40426;\n",
       "        }    #T_ca03f638_4154_11ea_95f7_f951dab70fb4row3_col4 {\n",
       "            background-color:  #ecd3c5;\n",
       "        }    #T_ca03f638_4154_11ea_95f7_f951dab70fb4row4_col0 {\n",
       "            background-color:  #3b4cc0;\n",
       "        }    #T_ca03f638_4154_11ea_95f7_f951dab70fb4row4_col1 {\n",
       "            background-color:  #445acc;\n",
       "        }    #T_ca03f638_4154_11ea_95f7_f951dab70fb4row4_col2 {\n",
       "            background-color:  #3b4cc0;\n",
       "        }    #T_ca03f638_4154_11ea_95f7_f951dab70fb4row4_col3 {\n",
       "            background-color:  #b9d0f9;\n",
       "        }    #T_ca03f638_4154_11ea_95f7_f951dab70fb4row4_col4 {\n",
       "            background-color:  #b40426;\n",
       "        }</style>  \n",
       "<table id=\"T_ca03f638_4154_11ea_95f7_f951dab70fb4\" > \n",
       "<thead>    <tr> \n",
       "        <th class=\"blank level0\" ></th> \n",
       "        <th class=\"col_heading level0 col0\" >clientid</th> \n",
       "        <th class=\"col_heading level0 col1\" >income</th> \n",
       "        <th class=\"col_heading level0 col2\" >age</th> \n",
       "        <th class=\"col_heading level0 col3\" >loan</th> \n",
       "        <th class=\"col_heading level0 col4\" >default</th> \n",
       "    </tr></thead> \n",
       "<tbody>    <tr> \n",
       "        <th id=\"T_ca03f638_4154_11ea_95f7_f951dab70fb4level0_row0\" class=\"row_heading level0 row0\" >clientid</th> \n",
       "        <td id=\"T_ca03f638_4154_11ea_95f7_f951dab70fb4row0_col0\" class=\"data row0 col0\" >1</td> \n",
       "        <td id=\"T_ca03f638_4154_11ea_95f7_f951dab70fb4row0_col1\" class=\"data row0 col1\" >0.0392795</td> \n",
       "        <td id=\"T_ca03f638_4154_11ea_95f7_f951dab70fb4row0_col2\" class=\"data row0 col2\" >-0.0147044</td> \n",
       "        <td id=\"T_ca03f638_4154_11ea_95f7_f951dab70fb4row0_col3\" class=\"data row0 col3\" >0.0189311</td> \n",
       "        <td id=\"T_ca03f638_4154_11ea_95f7_f951dab70fb4row0_col4\" class=\"data row0 col4\" >-0.0201451</td> \n",
       "    </tr>    <tr> \n",
       "        <th id=\"T_ca03f638_4154_11ea_95f7_f951dab70fb4level0_row1\" class=\"row_heading level0 row1\" >income</th> \n",
       "        <td id=\"T_ca03f638_4154_11ea_95f7_f951dab70fb4row1_col0\" class=\"data row1 col0\" >0.0392795</td> \n",
       "        <td id=\"T_ca03f638_4154_11ea_95f7_f951dab70fb4row1_col1\" class=\"data row1 col1\" >1</td> \n",
       "        <td id=\"T_ca03f638_4154_11ea_95f7_f951dab70fb4row1_col2\" class=\"data row1 col2\" >-0.0336875</td> \n",
       "        <td id=\"T_ca03f638_4154_11ea_95f7_f951dab70fb4row1_col3\" class=\"data row1 col3\" >0.441117</td> \n",
       "        <td id=\"T_ca03f638_4154_11ea_95f7_f951dab70fb4row1_col4\" class=\"data row1 col4\" >0.00228431</td> \n",
       "    </tr>    <tr> \n",
       "        <th id=\"T_ca03f638_4154_11ea_95f7_f951dab70fb4level0_row2\" class=\"row_heading level0 row2\" >age</th> \n",
       "        <td id=\"T_ca03f638_4154_11ea_95f7_f951dab70fb4row2_col0\" class=\"data row2 col0\" >-0.0147044</td> \n",
       "        <td id=\"T_ca03f638_4154_11ea_95f7_f951dab70fb4row2_col1\" class=\"data row2 col1\" >-0.0336875</td> \n",
       "        <td id=\"T_ca03f638_4154_11ea_95f7_f951dab70fb4row2_col2\" class=\"data row2 col2\" >1</td> \n",
       "        <td id=\"T_ca03f638_4154_11ea_95f7_f951dab70fb4row2_col3\" class=\"data row2 col3\" >0.00230865</td> \n",
       "        <td id=\"T_ca03f638_4154_11ea_95f7_f951dab70fb4row2_col4\" class=\"data row2 col4\" >-0.429759</td> \n",
       "    </tr>    <tr> \n",
       "        <th id=\"T_ca03f638_4154_11ea_95f7_f951dab70fb4level0_row3\" class=\"row_heading level0 row3\" >loan</th> \n",
       "        <td id=\"T_ca03f638_4154_11ea_95f7_f951dab70fb4row3_col0\" class=\"data row3 col0\" >0.0189311</td> \n",
       "        <td id=\"T_ca03f638_4154_11ea_95f7_f951dab70fb4row3_col1\" class=\"data row3 col1\" >0.441117</td> \n",
       "        <td id=\"T_ca03f638_4154_11ea_95f7_f951dab70fb4row3_col2\" class=\"data row3 col2\" >0.00230865</td> \n",
       "        <td id=\"T_ca03f638_4154_11ea_95f7_f951dab70fb4row3_col3\" class=\"data row3 col3\" >1</td> \n",
       "        <td id=\"T_ca03f638_4154_11ea_95f7_f951dab70fb4row3_col4\" class=\"data row3 col4\" >0.37716</td> \n",
       "    </tr>    <tr> \n",
       "        <th id=\"T_ca03f638_4154_11ea_95f7_f951dab70fb4level0_row4\" class=\"row_heading level0 row4\" >default</th> \n",
       "        <td id=\"T_ca03f638_4154_11ea_95f7_f951dab70fb4row4_col0\" class=\"data row4 col0\" >-0.0201451</td> \n",
       "        <td id=\"T_ca03f638_4154_11ea_95f7_f951dab70fb4row4_col1\" class=\"data row4 col1\" >0.00228431</td> \n",
       "        <td id=\"T_ca03f638_4154_11ea_95f7_f951dab70fb4row4_col2\" class=\"data row4 col2\" >-0.429759</td> \n",
       "        <td id=\"T_ca03f638_4154_11ea_95f7_f951dab70fb4row4_col3\" class=\"data row4 col3\" >0.37716</td> \n",
       "        <td id=\"T_ca03f638_4154_11ea_95f7_f951dab70fb4row4_col4\" class=\"data row4 col4\" >1</td> \n",
       "    </tr></tbody> \n",
       "</table> "
      ],
      "text/plain": [
       "<pandas.io.formats.style.Styler at 0x202f8f94898>"
      ]
     },
     "execution_count": 7,
     "metadata": {},
     "output_type": "execute_result"
    }
   ],
   "source": [
    "correlacao = df.corr()''\n",
    "correlacao.style.background_gradient(cmap='coolwarm')"
   ]
  },
  {
   "cell_type": "code",
   "execution_count": 22,
   "metadata": {},
   "outputs": [
    {
     "data": {
      "text/html": [
       "<div>\n",
       "<style scoped>\n",
       "    .dataframe tbody tr th:only-of-type {\n",
       "        vertical-align: middle;\n",
       "    }\n",
       "\n",
       "    .dataframe tbody tr th {\n",
       "        vertical-align: top;\n",
       "    }\n",
       "\n",
       "    .dataframe thead th {\n",
       "        text-align: right;\n",
       "    }\n",
       "</style>\n",
       "<table border=\"1\" class=\"dataframe\">\n",
       "  <thead>\n",
       "    <tr style=\"text-align: right;\">\n",
       "      <th></th>\n",
       "      <th>clientid</th>\n",
       "      <th>income</th>\n",
       "      <th>age</th>\n",
       "      <th>loan</th>\n",
       "      <th>default</th>\n",
       "    </tr>\n",
       "  </thead>\n",
       "  <tbody>\n",
       "  </tbody>\n",
       "</table>\n",
       "</div>"
      ],
      "text/plain": [
       "Empty DataFrame\n",
       "Columns: [clientid, income, age, loan, default]\n",
       "Index: []"
      ]
     },
     "execution_count": 22,
     "metadata": {},
     "output_type": "execute_result"
    }
   ],
   "source": [
    "df.loc[df['age']<0]"
   ]
  },
  {
   "cell_type": "code",
   "execution_count": 12,
   "metadata": {},
   "outputs": [],
   "source": [
    "df.drop(df[df.age < 0].index, inplace = True)"
   ]
  },
  {
   "cell_type": "code",
   "execution_count": 15,
   "metadata": {},
   "outputs": [
    {
     "data": {
      "text/plain": [
       "40.92770044906149"
      ]
     },
     "execution_count": 15,
     "metadata": {},
     "output_type": "execute_result"
    }
   ],
   "source": [
    "df['age'][df.age > 0].mean()"
   ]
  },
  {
   "cell_type": "code",
   "execution_count": 21,
   "metadata": {},
   "outputs": [],
   "source": [
    "#Substituir os valores errados com idade negativa pela média\n",
    "df.loc[df.age <0] = df['age'][df.age > 0].mean()"
   ]
  },
  {
   "cell_type": "code",
   "execution_count": 23,
   "metadata": {},
   "outputs": [
    {
     "data": {
      "text/plain": [
       "True"
      ]
     },
     "execution_count": 23,
     "metadata": {},
     "output_type": "execute_result"
    }
   ],
   "source": [
    "#Há valofes nulos?\n",
    "df.isnull().values.any()"
   ]
  },
  {
   "cell_type": "code",
   "execution_count": 24,
   "metadata": {},
   "outputs": [
    {
     "data": {
      "text/plain": [
       "True"
      ]
     },
     "execution_count": 24,
     "metadata": {},
     "output_type": "execute_result"
    }
   ],
   "source": [
    "#Há valores nulos na idade\n",
    "df.age.isnull().values.any()"
   ]
  },
  {
   "cell_type": "code",
   "execution_count": 50,
   "metadata": {},
   "outputs": [
    {
     "data": {
      "text/plain": [
       "clientid    0\n",
       "income      0\n",
       "age         3\n",
       "loan        0\n",
       "default     0\n",
       "dtype: int64"
      ]
     },
     "execution_count": 50,
     "metadata": {},
     "output_type": "execute_result"
    }
   ],
   "source": [
    "#Quantos valores nulos há em cada coluna\n",
    "df.isnull().sum(axis = 0)"
   ]
  },
  {
   "cell_type": "code",
   "execution_count": 28,
   "metadata": {},
   "outputs": [],
   "source": [
    "df.loc[pd.isnull(df['age'])] = df['age'][df.age > 0].mean()"
   ]
  },
  {
   "cell_type": "markdown",
   "metadata": {},
   "source": [
    "<h3> Separação do dataset em dois conjuntos </h3>"
   ]
  },
  {
   "cell_type": "code",
   "execution_count": 62,
   "metadata": {},
   "outputs": [
    {
     "data": {
      "text/html": [
       "<div>\n",
       "<style scoped>\n",
       "    .dataframe tbody tr th:only-of-type {\n",
       "        vertical-align: middle;\n",
       "    }\n",
       "\n",
       "    .dataframe tbody tr th {\n",
       "        vertical-align: top;\n",
       "    }\n",
       "\n",
       "    .dataframe thead th {\n",
       "        text-align: right;\n",
       "    }\n",
       "</style>\n",
       "<table border=\"1\" class=\"dataframe\">\n",
       "  <thead>\n",
       "    <tr style=\"text-align: right;\">\n",
       "      <th></th>\n",
       "      <th>clientid</th>\n",
       "      <th>income</th>\n",
       "      <th>age</th>\n",
       "      <th>loan</th>\n",
       "      <th>default</th>\n",
       "    </tr>\n",
       "  </thead>\n",
       "  <tbody>\n",
       "    <tr>\n",
       "      <th>0</th>\n",
       "      <td>1</td>\n",
       "      <td>66155.925095</td>\n",
       "      <td>59.017015</td>\n",
       "      <td>8106.532131</td>\n",
       "      <td>0</td>\n",
       "    </tr>\n",
       "    <tr>\n",
       "      <th>1</th>\n",
       "      <td>2</td>\n",
       "      <td>34415.153966</td>\n",
       "      <td>48.117153</td>\n",
       "      <td>6564.745018</td>\n",
       "      <td>0</td>\n",
       "    </tr>\n",
       "    <tr>\n",
       "      <th>2</th>\n",
       "      <td>3</td>\n",
       "      <td>57317.170063</td>\n",
       "      <td>63.108049</td>\n",
       "      <td>8020.953296</td>\n",
       "      <td>0</td>\n",
       "    </tr>\n",
       "    <tr>\n",
       "      <th>3</th>\n",
       "      <td>4</td>\n",
       "      <td>42709.534201</td>\n",
       "      <td>45.751972</td>\n",
       "      <td>6103.642260</td>\n",
       "      <td>0</td>\n",
       "    </tr>\n",
       "    <tr>\n",
       "      <th>4</th>\n",
       "      <td>5</td>\n",
       "      <td>66952.688845</td>\n",
       "      <td>18.584336</td>\n",
       "      <td>8770.099235</td>\n",
       "      <td>1</td>\n",
       "    </tr>\n",
       "  </tbody>\n",
       "</table>\n",
       "</div>"
      ],
      "text/plain": [
       "   clientid        income        age         loan  default\n",
       "0         1  66155.925095  59.017015  8106.532131        0\n",
       "1         2  34415.153966  48.117153  6564.745018        0\n",
       "2         3  57317.170063  63.108049  8020.953296        0\n",
       "3         4  42709.534201  45.751972  6103.642260        0\n",
       "4         5  66952.688845  18.584336  8770.099235        1"
      ]
     },
     "execution_count": 62,
     "metadata": {},
     "output_type": "execute_result"
    }
   ],
   "source": [
    "df.head()"
   ]
  },
  {
   "cell_type": "code",
   "execution_count": 77,
   "metadata": {},
   "outputs": [],
   "source": [
    "x_all = df.iloc[:,1:4].values"
   ]
  },
  {
   "cell_type": "code",
   "execution_count": 65,
   "metadata": {},
   "outputs": [],
   "source": [
    "xdf = df.drop(['default'], axis = 1)\n",
    "ydf = df['default']"
   ]
  },
  {
   "cell_type": "code",
   "execution_count": 40,
   "metadata": {},
   "outputs": [],
   "source": [
    "y_all = df.iloc[:,4].values"
   ]
  },
  {
   "cell_type": "markdown",
   "metadata": {},
   "source": [
    "<h3> Pré-processar os valores missing </h3>"
   ]
  },
  {
   "cell_type": "code",
   "execution_count": 41,
   "metadata": {},
   "outputs": [],
   "source": [
    "from sklearn.preprocessing import Imputer"
   ]
  },
  {
   "cell_type": "code",
   "execution_count": 49,
   "metadata": {},
   "outputs": [
    {
     "data": {
      "text/html": [
       "<div>\n",
       "<style scoped>\n",
       "    .dataframe tbody tr th:only-of-type {\n",
       "        vertical-align: middle;\n",
       "    }\n",
       "\n",
       "    .dataframe tbody tr th {\n",
       "        vertical-align: top;\n",
       "    }\n",
       "\n",
       "    .dataframe thead th {\n",
       "        text-align: right;\n",
       "    }\n",
       "</style>\n",
       "<table border=\"1\" class=\"dataframe\">\n",
       "  <thead>\n",
       "    <tr style=\"text-align: right;\">\n",
       "      <th></th>\n",
       "      <th>clientid</th>\n",
       "      <th>income</th>\n",
       "      <th>age</th>\n",
       "      <th>loan</th>\n",
       "      <th>default</th>\n",
       "    </tr>\n",
       "  </thead>\n",
       "  <tbody>\n",
       "    <tr>\n",
       "      <th>28</th>\n",
       "      <td>29</td>\n",
       "      <td>59417.805406</td>\n",
       "      <td>NaN</td>\n",
       "      <td>2082.625938</td>\n",
       "      <td>0</td>\n",
       "    </tr>\n",
       "    <tr>\n",
       "      <th>30</th>\n",
       "      <td>31</td>\n",
       "      <td>48528.852796</td>\n",
       "      <td>NaN</td>\n",
       "      <td>6155.784670</td>\n",
       "      <td>0</td>\n",
       "    </tr>\n",
       "    <tr>\n",
       "      <th>31</th>\n",
       "      <td>32</td>\n",
       "      <td>23526.302555</td>\n",
       "      <td>NaN</td>\n",
       "      <td>2862.010139</td>\n",
       "      <td>0</td>\n",
       "    </tr>\n",
       "  </tbody>\n",
       "</table>\n",
       "</div>"
      ],
      "text/plain": [
       "    clientid        income  age         loan  default\n",
       "28        29  59417.805406  NaN  2082.625938        0\n",
       "30        31  48528.852796  NaN  6155.784670        0\n",
       "31        32  23526.302555  NaN  2862.010139        0"
      ]
     },
     "execution_count": 49,
     "metadata": {},
     "output_type": "execute_result"
    }
   ],
   "source": [
    "#Como mostrar apenas os valores missing de alguma feature\n",
    "df.loc[pd.isnull(df['age'])]"
   ]
  },
  {
   "cell_type": "code",
   "execution_count": 52,
   "metadata": {},
   "outputs": [],
   "source": [
    "imputer = Imputer(missing_values=\"NaN\", strategy = 'mean', axis = 0)"
   ]
  },
  {
   "cell_type": "code",
   "execution_count": 66,
   "metadata": {},
   "outputs": [],
   "source": [
    "#Só vou aplicar o imputer sobre a feature age\n",
    "imputer = imputer.fit(xdf)"
   ]
  },
  {
   "cell_type": "code",
   "execution_count": 70,
   "metadata": {},
   "outputs": [],
   "source": [
    "xdf = pd.DataFrame(imputer.transform(xdf))"
   ]
  },
  {
   "cell_type": "code",
   "execution_count": 74,
   "metadata": {},
   "outputs": [
    {
     "data": {
      "text/plain": [
       "0    0\n",
       "1    0\n",
       "2    0\n",
       "3    0\n",
       "dtype: int64"
      ]
     },
     "execution_count": 74,
     "metadata": {},
     "output_type": "execute_result"
    }
   ],
   "source": [
    "xdf.isnull().sum(axis = 0)"
   ]
  },
  {
   "cell_type": "markdown",
   "metadata": {},
   "source": [
    "<h3> Escalonamento dos atributos (Através da padronização) </h3>"
   ]
  },
  {
   "cell_type": "code",
   "execution_count": 83,
   "metadata": {},
   "outputs": [
    {
     "data": {
      "text/html": [
       "<div>\n",
       "<style scoped>\n",
       "    .dataframe tbody tr th:only-of-type {\n",
       "        vertical-align: middle;\n",
       "    }\n",
       "\n",
       "    .dataframe tbody tr th {\n",
       "        vertical-align: top;\n",
       "    }\n",
       "\n",
       "    .dataframe thead th {\n",
       "        text-align: right;\n",
       "    }\n",
       "</style>\n",
       "<table border=\"1\" class=\"dataframe\">\n",
       "  <thead>\n",
       "    <tr style=\"text-align: right;\">\n",
       "      <th></th>\n",
       "      <th>0</th>\n",
       "      <th>1</th>\n",
       "      <th>2</th>\n",
       "      <th>3</th>\n",
       "    </tr>\n",
       "  </thead>\n",
       "  <tbody>\n",
       "    <tr>\n",
       "      <th>759</th>\n",
       "      <td>-0.416558</td>\n",
       "      <td>1.235388</td>\n",
       "      <td>1.157855</td>\n",
       "      <td>-0.488527</td>\n",
       "    </tr>\n",
       "    <tr>\n",
       "      <th>1970</th>\n",
       "      <td>1.680956</td>\n",
       "      <td>1.586032</td>\n",
       "      <td>0.505991</td>\n",
       "      <td>-0.138376</td>\n",
       "    </tr>\n",
       "    <tr>\n",
       "      <th>864</th>\n",
       "      <td>-0.234693</td>\n",
       "      <td>-1.639027</td>\n",
       "      <td>0.508066</td>\n",
       "      <td>-0.966849</td>\n",
       "    </tr>\n",
       "    <tr>\n",
       "      <th>1920</th>\n",
       "      <td>1.594353</td>\n",
       "      <td>1.307448</td>\n",
       "      <td>1.399684</td>\n",
       "      <td>0.436803</td>\n",
       "    </tr>\n",
       "    <tr>\n",
       "      <th>687</th>\n",
       "      <td>-0.541266</td>\n",
       "      <td>-0.202225</td>\n",
       "      <td>0.784813</td>\n",
       "      <td>-0.551160</td>\n",
       "    </tr>\n",
       "  </tbody>\n",
       "</table>\n",
       "</div>"
      ],
      "text/plain": [
       "             0         1         2         3\n",
       "759  -0.416558  1.235388  1.157855 -0.488527\n",
       "1970  1.680956  1.586032  0.505991 -0.138376\n",
       "864  -0.234693 -1.639027  0.508066 -0.966849\n",
       "1920  1.594353  1.307448  1.399684  0.436803\n",
       "687  -0.541266 -0.202225  0.784813 -0.551160"
      ]
     },
     "execution_count": 83,
     "metadata": {},
     "output_type": "execute_result"
    }
   ],
   "source": [
    "from sklearn.preprocessing import StandardScaler\n",
    "scaler = StandardScaler()\n",
    "xdf = pd.DataFrame(scaler.fit_transform(xdf))\n",
    "xdf.sample(5)"
   ]
  },
  {
   "cell_type": "code",
   "execution_count": null,
   "metadata": {},
   "outputs": [],
   "source": []
  }
 ],
 "metadata": {
  "kernelspec": {
   "display_name": "Python 3",
   "language": "python",
   "name": "python3"
  },
  "language_info": {
   "codemirror_mode": {
    "name": "ipython",
    "version": 3
   },
   "file_extension": ".py",
   "mimetype": "text/x-python",
   "name": "python",
   "nbconvert_exporter": "python",
   "pygments_lexer": "ipython3",
   "version": "3.7.0"
  }
 },
 "nbformat": 4,
 "nbformat_minor": 2
}
