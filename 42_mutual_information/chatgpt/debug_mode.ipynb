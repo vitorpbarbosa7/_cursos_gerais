{
 "cells": [
  {
   "cell_type": "code",
   "execution_count": 1,
   "id": "1ae3f78c",
   "metadata": {
    "ExecuteTime": {
     "end_time": "2023-03-28T16:57:56.985568Z",
     "start_time": "2023-03-28T16:57:56.051704Z"
    }
   },
   "outputs": [],
   "source": [
    "import numpy as np\n",
    "from sklearn.neighbors import NearestNeighbors"
   ]
  },
  {
   "cell_type": "code",
   "execution_count": 9,
   "id": "adb0e6aa",
   "metadata": {
    "ExecuteTime": {
     "end_time": "2023-03-28T16:58:34.551773Z",
     "start_time": "2023-03-28T16:58:34.546446Z"
    }
   },
   "outputs": [],
   "source": [
    "k = 3"
   ]
  },
  {
   "cell_type": "code",
   "execution_count": 24,
   "id": "936d80a8",
   "metadata": {
    "ExecuteTime": {
     "end_time": "2023-03-28T17:00:44.109983Z",
     "start_time": "2023-03-28T17:00:44.100157Z"
    }
   },
   "outputs": [],
   "source": [
    "X = np.array([1,1.2,1.4,1.6,1.8,2.0,2.8,2.9,2.10,2.5,2.9,6])\n",
    "Y = np.array([0,0,0,0,1,0,1,0,1,1,1,1])"
   ]
  },
  {
   "cell_type": "code",
   "execution_count": 16,
   "id": "6c4ae612",
   "metadata": {
    "ExecuteTime": {
     "end_time": "2023-03-28T16:59:11.449021Z",
     "start_time": "2023-03-28T16:59:11.438841Z"
    }
   },
   "outputs": [],
   "source": [
    "# def mutual_information_knn(X, Y, k):\n",
    "\"\"\"\n",
    "Estimate mutual information between a continuous random variable X and a discrete random variable Y using k-NN method.\n",
    "\n",
    "Parameters:\n",
    "    X (ndarray): A 1D numpy array of size N containing the values of the continuous random variable X.\n",
    "    Y (ndarray): A 1D numpy array of size N containing the values of the discrete random variable Y.\n",
    "    k (int): The number of nearest neighbors to use for discretization.\n",
    "\n",
    "Returns:\n",
    "    mi (float): The estimated mutual information between X and Y.\n",
    "\"\"\"\n",
    "n = len(X)\n",
    "nbrs = NearestNeighbors(n_neighbors=k, algorithm='ball_tree').fit(X.reshape(-1,1))\n",
    "distances, indices = nbrs.kneighbors(X.reshape(-1,1))"
   ]
  },
  {
   "cell_type": "code",
   "execution_count": 62,
   "id": "99a75c3a",
   "metadata": {
    "ExecuteTime": {
     "end_time": "2023-03-28T17:39:42.056959Z",
     "start_time": "2023-03-28T17:39:42.039491Z"
    }
   },
   "outputs": [
    {
     "name": "stdout",
     "output_type": "stream",
     "text": [
      "[1.         0.98760987 0.        ]\n",
      "[1.         0.98760987 0.95135297]\n",
      "[2.         1.97521973 0.95135297]\n",
      "[2.         1.97521973 1.93896283]\n",
      "[3.         2.9628296  1.93896283]\n",
      "[3.        2.9628296 2.9265727]\n"
     ]
    }
   ],
   "source": [
    "P_X = np.zeros(k)\n",
    "P_Y = np.zeros(np.max(Y)+1)\n",
    "P_XY = np.zeros((k, np.max(Y)+1))\n",
    "\n",
    "i = 0\n",
    "# para cada ponto\n",
    "while i < 3:\n",
    "    P_X[0] += 1\n",
    "    \n",
    "    # somar 1 quando encontrar algum ponto de alguma classe\n",
    "    P_Y[Y[i]] += 1\n",
    "    \n",
    "    # somar 1 na distribuicao de probabilidade conjunta, para encontrar 1 \n",
    "    P_XY[0, Y[i]] += 1\n",
    "    \n",
    "    # para cada k\n",
    "    # 1 porque nao pegamos a distancia com ele e ele mesmo porque eh zero\n",
    "    for j in range(1,k):\n",
    "        # distancia do ponto i para o j nearest neighbor\n",
    "        d = distances[i,j]\n",
    "        \n",
    "        w = np.exp(-d**2 / (2*np.var(X)))\n",
    "        \n",
    "        P_X[j] += w\n",
    "        P_XY[j, Y[i]] += w\n",
    "        print(P_X)\n",
    "        \n",
    "    i = i + 1\n",
    "\n",
    "P_X /= n*k\n",
    "P_Y /= n\n",
    "P_XY /= n\n",
    "\n",
    "mi = 0\n",
    "for i in range(k):\n",
    "    for j in range(np.max(Y)+1):\n",
    "        if P_XY[i,j] > 0:\n",
    "            mi += P_XY[i,j] * np.log(P_XY[i,j] / (P_X[i] * P_Y[j]))"
   ]
  },
  {
   "cell_type": "code",
   "execution_count": 60,
   "id": "6519c02d",
   "metadata": {
    "ExecuteTime": {
     "end_time": "2023-03-28T17:39:14.749551Z",
     "start_time": "2023-03-28T17:39:14.734915Z"
    }
   },
   "outputs": [
    {
     "data": {
      "text/plain": [
       "array([0.02777778, 0.02743361, 0.02642647])"
      ]
     },
     "execution_count": 60,
     "metadata": {},
     "output_type": "execute_result"
    }
   ],
   "source": [
    "P_X"
   ]
  },
  {
   "cell_type": "code",
   "execution_count": 51,
   "id": "2fa04bda",
   "metadata": {
    "ExecuteTime": {
     "end_time": "2023-03-28T17:22:49.518712Z",
     "start_time": "2023-03-28T17:22:49.512532Z"
    }
   },
   "outputs": [
    {
     "data": {
      "text/plain": [
       "array([[0.08333333, 0.        ],\n",
       "       [0.08230082, 0.        ],\n",
       "       [0.07927941, 0.        ]])"
      ]
     },
     "execution_count": 51,
     "metadata": {},
     "output_type": "execute_result"
    }
   ],
   "source": [
    "P_XY"
   ]
  },
  {
   "cell_type": "code",
   "execution_count": 52,
   "id": "9266a84a",
   "metadata": {
    "ExecuteTime": {
     "end_time": "2023-03-28T17:22:49.955212Z",
     "start_time": "2023-03-28T17:22:49.949718Z"
    }
   },
   "outputs": [
    {
     "data": {
      "text/plain": [
       "array([0.08333333, 0.        ])"
      ]
     },
     "execution_count": 52,
     "metadata": {},
     "output_type": "execute_result"
    }
   ],
   "source": [
    "P_Y"
   ]
  },
  {
   "cell_type": "code",
   "execution_count": 5,
   "id": "cbb6fc78",
   "metadata": {
    "ExecuteTime": {
     "end_time": "2023-03-28T16:58:22.101254Z",
     "start_time": "2023-03-28T16:58:22.068388Z"
    }
   },
   "outputs": [
    {
     "ename": "NameError",
     "evalue": "name 'mutual_information_knn' is not defined",
     "output_type": "error",
     "traceback": [
      "\u001b[0;31m---------------------------------------------------------------------------\u001b[0m",
      "\u001b[0;31mNameError\u001b[0m                                 Traceback (most recent call last)",
      "Input \u001b[0;32mIn [5]\u001b[0m, in \u001b[0;36m<cell line: 1>\u001b[0;34m()\u001b[0m\n\u001b[0;32m----> 1\u001b[0m mi \u001b[38;5;241m=\u001b[39m \u001b[43mmutual_information_knn\u001b[49m(X, y, k \u001b[38;5;241m=\u001b[39m \u001b[38;5;241m4\u001b[39m)\n\u001b[1;32m      2\u001b[0m \u001b[38;5;28mprint\u001b[39m(mi)\n",
      "\u001b[0;31mNameError\u001b[0m: name 'mutual_information_knn' is not defined"
     ]
    }
   ],
   "source": [
    "\n",
    "\n",
    "mi = mutual_information_knn(X, y, k = 4)\n",
    "print(mi)"
   ]
  },
  {
   "cell_type": "code",
   "execution_count": null,
   "id": "adaca593",
   "metadata": {},
   "outputs": [],
   "source": []
  }
 ],
 "metadata": {
  "kernelspec": {
   "display_name": "Python 3 (ipykernel)",
   "language": "python",
   "name": "python3"
  },
  "language_info": {
   "codemirror_mode": {
    "name": "ipython",
    "version": 3
   },
   "file_extension": ".py",
   "mimetype": "text/x-python",
   "name": "python",
   "nbconvert_exporter": "python",
   "pygments_lexer": "ipython3",
   "version": "3.8.15"
  },
  "toc": {
   "base_numbering": 1,
   "nav_menu": {},
   "number_sections": true,
   "sideBar": true,
   "skip_h1_title": false,
   "title_cell": "Table of Contents",
   "title_sidebar": "Contents",
   "toc_cell": false,
   "toc_position": {},
   "toc_section_display": true,
   "toc_window_display": false
  }
 },
 "nbformat": 4,
 "nbformat_minor": 5
}
