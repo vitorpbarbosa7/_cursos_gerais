{
 "cells": [
  {
   "cell_type": "code",
   "execution_count": 1,
   "id": "15dffb33",
   "metadata": {
    "ExecuteTime": {
     "end_time": "2022-12-04T13:30:19.733257Z",
     "start_time": "2022-12-04T13:30:08.143347Z"
    },
    "collapsed": true
   },
   "outputs": [
    {
     "name": "stderr",
     "output_type": "stream",
     "text": [
      "/Users/vpb/anaconda3/envs/kenv/lib/python3.7/site-packages/pandas/compat/numpy/__init__.py:10: DeprecationWarning: distutils Version classes are deprecated. Use packaging.version instead.\n",
      "  _nlv = LooseVersion(_np_version)\n",
      "/Users/vpb/anaconda3/envs/kenv/lib/python3.7/site-packages/pandas/compat/numpy/__init__.py:11: DeprecationWarning: distutils Version classes are deprecated. Use packaging.version instead.\n",
      "  np_version_under1p17 = _nlv < LooseVersion(\"1.17\")\n",
      "/Users/vpb/anaconda3/envs/kenv/lib/python3.7/site-packages/pandas/compat/numpy/__init__.py:12: DeprecationWarning: distutils Version classes are deprecated. Use packaging.version instead.\n",
      "  np_version_under1p18 = _nlv < LooseVersion(\"1.18\")\n",
      "/Users/vpb/anaconda3/envs/kenv/lib/python3.7/site-packages/pandas/compat/numpy/__init__.py:13: DeprecationWarning: distutils Version classes are deprecated. Use packaging.version instead.\n",
      "  _np_version_under1p19 = _nlv < LooseVersion(\"1.19\")\n",
      "/Users/vpb/anaconda3/envs/kenv/lib/python3.7/site-packages/pandas/compat/numpy/__init__.py:14: DeprecationWarning: distutils Version classes are deprecated. Use packaging.version instead.\n",
      "  _np_version_under1p20 = _nlv < LooseVersion(\"1.20\")\n",
      "/Users/vpb/anaconda3/envs/kenv/lib/python3.7/site-packages/setuptools/_distutils/version.py:351: DeprecationWarning: distutils Version classes are deprecated. Use packaging.version instead.\n",
      "  other = LooseVersion(other)\n",
      "/Users/vpb/anaconda3/envs/kenv/lib/python3.7/site-packages/pandas/compat/numpy/function.py:120: DeprecationWarning: distutils Version classes are deprecated. Use packaging.version instead.\n",
      "  if LooseVersion(__version__) >= LooseVersion(\"1.17.0\"):\n",
      "/Users/vpb/anaconda3/envs/kenv/lib/python3.7/site-packages/seaborn/rcmod.py:82: DeprecationWarning: distutils Version classes are deprecated. Use packaging.version instead.\n",
      "  if LooseVersion(mpl.__version__) >= \"3.0\":\n",
      "/Users/vpb/anaconda3/envs/kenv/lib/python3.7/site-packages/setuptools/_distutils/version.py:351: DeprecationWarning: distutils Version classes are deprecated. Use packaging.version instead.\n",
      "  other = LooseVersion(other)\n"
     ]
    },
    {
     "name": "stdout",
     "output_type": "stream",
     "text": [
      "2022-12-04 10:30:19,474 - numexpr.utils - INFO - NumExpr defaulting to 8 threads.\n"
     ]
    }
   ],
   "source": [
    "import pandas as pd\n",
    "import numpy as np\n",
    "from sklearn.feature_selection import mutual_info_classif\n",
    "import seaborn as sns\n",
    "import matplotlib.pyplot as plt\n",
    "\n",
    "def fg(w = 10, h = 7, dpi = 200):\n",
    "    plt.rcParams['figure.figsize'] = (w,h)\n",
    "    plt.rcParams['figure.dpi'] = dpi\n",
    "\n",
    "df = pd.read_csv('../data/archive/aps_failure_training_set.txt', sep = ',')\n",
    "test = pd.read_csv('../data/archive/aps_failure_test_set.txt', sep = ',')\n",
    "\n",
    "test = test.replace('na',np.nan)\n",
    "test = test.dropna()\n",
    "\n",
    "X_test = test.drop('class', axis = 1)\n",
    "y_test = test['class']\n",
    "\n",
    "df = df.replace('na',np.nan)\n",
    "df = df.dropna()\n",
    "\n",
    "X_train = df.drop('class', 1)\n",
    "y_train = df['class']\n",
    "X_train = X_train.astype(float)"
   ]
  },
  {
   "cell_type": "code",
   "execution_count": null,
   "id": "baec76d2",
   "metadata": {},
   "outputs": [],
   "source": []
  },
  {
   "cell_type": "code",
   "execution_count": 6,
   "id": "d500d7a7",
   "metadata": {
    "ExecuteTime": {
     "end_time": "2022-12-04T13:49:14.157886Z",
     "start_time": "2022-12-04T13:49:14.142295Z"
    }
   },
   "outputs": [
    {
     "data": {
      "text/plain": [
       "2"
      ]
     },
     "execution_count": 6,
     "metadata": {},
     "output_type": "execute_result"
    }
   ],
   "source": [
    "y_train.nunique()"
   ]
  },
  {
   "cell_type": "code",
   "execution_count": 4,
   "id": "616cc20c",
   "metadata": {
    "ExecuteTime": {
     "end_time": "2022-12-04T13:30:43.948880Z",
     "start_time": "2022-12-04T13:30:43.938750Z"
    }
   },
   "outputs": [
    {
     "data": {
      "text/plain": [
       "float64    172\n",
       "dtype: int64"
      ]
     },
     "execution_count": 4,
     "metadata": {},
     "output_type": "execute_result"
    }
   ],
   "source": [
    "X_train.dtypes.value_counts()"
   ]
  },
  {
   "cell_type": "code",
   "execution_count": null,
   "id": "cf041891",
   "metadata": {},
   "outputs": [],
   "source": []
  }
 ],
 "metadata": {
  "kernelspec": {
   "display_name": "Kedro (ames)",
   "language": "python",
   "name": "kedro_ames"
  },
  "language_info": {
   "codemirror_mode": {
    "name": "ipython",
    "version": 3
   },
   "file_extension": ".py",
   "mimetype": "text/x-python",
   "name": "python",
   "nbconvert_exporter": "python",
   "pygments_lexer": "ipython3",
   "version": "3.7.2"
  },
  "toc": {
   "base_numbering": 1,
   "nav_menu": {},
   "number_sections": true,
   "sideBar": true,
   "skip_h1_title": false,
   "title_cell": "Table of Contents",
   "title_sidebar": "Contents",
   "toc_cell": false,
   "toc_position": {},
   "toc_section_display": true,
   "toc_window_display": false
  }
 },
 "nbformat": 4,
 "nbformat_minor": 5
}
