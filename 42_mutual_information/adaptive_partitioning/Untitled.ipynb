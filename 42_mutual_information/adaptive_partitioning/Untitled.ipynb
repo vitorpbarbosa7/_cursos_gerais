{
 "cells": [
  {
   "cell_type": "code",
   "execution_count": 1,
   "id": "2ea2e46f",
   "metadata": {
    "ExecuteTime": {
     "end_time": "2022-12-10T18:03:54.628946Z",
     "start_time": "2022-12-10T18:03:54.470697Z"
    }
   },
   "outputs": [],
   "source": [
    "import logging\n",
    "import numpy as np\n",
    "import scipy\n",
    "\n",
    "logging.basicConfig(level = logging.INFO)\n",
    "log = logging.getLogger(__name__)"
   ]
  },
  {
   "cell_type": "code",
   "execution_count": 2,
   "id": "52699f96",
   "metadata": {
    "ExecuteTime": {
     "end_time": "2022-12-10T18:03:55.302244Z",
     "start_time": "2022-12-10T18:03:55.207762Z"
    }
   },
   "outputs": [],
   "source": [
    "class Partitions:\n",
    "    def __init__(self, data=None,\n",
    "                 meshingScheme=None,\n",
    "                 numParts=3,\n",
    "                 alpha=0.05):\n",
    "        import scipy\n",
    "\n",
    "        if data is not None:\n",
    "            # check that the data is in ordinal coordinates\n",
    "            if not self.isOrdinal(data):\n",
    "                print(\"Converting the data to ordinal...\")\n",
    "                # perform ordinal sampling (ranking) transformation\n",
    "                xRanked = scipy.stats.rankdata(data[:, 0], method='ordinal')\n",
    "                yRanked = scipy.stats.rankdata(data[:, 1], method='ordinal')\n",
    "\n",
    "                xFloats = np.copy(data[:, 0])\n",
    "                xFloats.sort()\n",
    "                yFloats = np.copy(data[:, 1])\n",
    "                yFloats.sort()\n",
    "\n",
    "                self.xFloats = xFloats\n",
    "                self.yFloats = yFloats\n",
    "\n",
    "                data = np.column_stack((xRanked, yRanked))\n",
    "\n",
    "                # and return an empty partition bucket\n",
    "\n",
    "            # If there is data, set the bounding box to be the max and min in the data\n",
    "\n",
    "            xmin = data[:, 0].min()\n",
    "            xmax = data[:, 0].max()\n",
    "            ymin = data[:, 1].min()\n",
    "            ymax = data[:, 1].max()\n",
    "\n",
    "            # Bordas de uma particao\n",
    "            self.borders = {}\n",
    "            self.borders['nodes'] = np.array([xmin, xmax, ymin, ymax])\n",
    "            self.borders['npts'] = data.shape[0]\n",
    "            self.numParts = numParts\n",
    "            self.alpha = alpha\n",
    "\n",
    "            # If there is data, use the chosen meshing scheme to build the partitions.\n",
    "            if meshingScheme == 'DV' and self.isOrdinal(data):\n",
    "                # Figure out\n",
    "                self.partitionBucket = self.return_partition_DV(data=data,\n",
    "                                                                borders=self.borders,\n",
    "                                                                r=self.numParts,\n",
    "                                                                alpha=self.alpha)\n",
    "            else:  # meshingScheme == None\n",
    "                # Note that right now, this will just do the dumb thing for every other input\n",
    "                self.partitionBucket = [self.borders]\n",
    "                #  set the partitions to just be the bounding box\n",
    "\n",
    "        else:\n",
    "            self.partitionBucket = []\n",
    "\n",
    "    def convertOrdToFloat(self, partitionEntry):\n",
    "        bdyList = partitionEntry['nodes'].copy()\n",
    "        # Need to subtract one to deal with counting from\n",
    "        # 0 vs counting from 1 problems\n",
    "        xLow = int(bdyList[0])-1\n",
    "        xHigh = int(bdyList[1])-1\n",
    "        yLow = int(bdyList[2])-1\n",
    "        yHigh = int(bdyList[3])-1\n",
    "\n",
    "        if hasattr(self, 'xFloats'):\n",
    "            xLowFloat = self.xFloats[xLow]\n",
    "            xHighFloat = self.xFloats[xHigh]\n",
    "            yLowFloat = self.yFloats[yLow]\n",
    "            yHighFloat = self.yFloats[yHigh]\n",
    "            convertedBdyList = [xLowFloat, xHighFloat, yLowFloat, yHighFloat]\n",
    "            partitionEntry['nodes'] = convertedBdyList\n",
    "            return partitionEntry\n",
    "        else:\n",
    "            print(\"You're trying to convert your ordinal data\")\n",
    "            print(\"back to floats, but you must have had ordinal\")\n",
    "            print(\"to begin with so I can't.  Exiting...\")\n",
    "\n",
    "    def __len__(self):\n",
    "        return len(self.partitionBucket)\n",
    "\n",
    "    def __getitem__(self, key):\n",
    "        if hasattr(self, 'xFloats'):  # if the data wasn't ordinal\n",
    "            entry = self.partitionBucket[key].copy()\n",
    "            entry = self.convertOrdToFloat(entry)\n",
    "            return entry\n",
    "        else:\n",
    "            return self.partitionBucket[key]\n",
    "\n",
    "    def getOrdinal(self, key):\n",
    "        # overrides the builtin magic method in the case where\n",
    "        # you had non-ordinal data but still want the ordinal\n",
    "        # stuff back.\n",
    "        # If the data wasn't ordinal, this has the exact same\n",
    "        # effect as self[key]\n",
    "        return self.partitionBucket[key]\n",
    "\n",
    "    def __iter__(self):\n",
    "        # iterates over the converted entries in the\n",
    "        # parameter bucket\n",
    "        if hasattr(self, 'xFloats'):\n",
    "            return map(self.convertOrdToFloat, deepcopy(self.partitionBucket))\n",
    "        else:\n",
    "            return iter(self.partitionBucket)\n",
    "\n",
    "    def iterOrdinal(self):\n",
    "        # functions just like iter magic method without\n",
    "        # converting each entry back to its float\n",
    "        return iter(self.partitionBucket)\n",
    "\n",
    "    def __str__(self):\n",
    "        \"\"\"!\n",
    "        @brief Nicely prints all currently set values in the bucket.\n",
    "        \"\"\"\n",
    "        attrs = vars(self)\n",
    "        output = ''\n",
    "        output += 'Variables in partition bucket\\n'\n",
    "        output += '---\\n'\n",
    "        for key in attrs.keys():\n",
    "            output += str(key) + ' : '\n",
    "            output += str(attrs[key]) + '\\n'\n",
    "            output += '---\\n'\n",
    "        return output\n",
    "\n",
    "    def plot(self):\n",
    "        import matplotlib.pyplot as plt\n",
    "        import matplotlib\n",
    "        # plot the partitions\n",
    "        fig1, ax1 = plt.subplots()\n",
    "        for binNode in self:\n",
    "            # print(binNode)\n",
    "            # get the bottom left corner\n",
    "            corner = (binNode['nodes'][0], binNode['nodes'][2])\n",
    "\n",
    "            # get the width and height\n",
    "            width = binNode['nodes'][1] - binNode['nodes'][0]\n",
    "            height = binNode['nodes'][3] - binNode['nodes'][2]\n",
    "\n",
    "            # add the corresponding rectangle\n",
    "            ax1.add_patch(matplotlib.patches.Rectangle(\n",
    "                corner, width, height, fill=False))\n",
    "\n",
    "        # Doesn't show unless we do this\n",
    "        plt.axis('tight')\n",
    "        plt.show()\n",
    "\n",
    "    # helper function for error checking. Used to make sure input is in\n",
    "    # ordinarl coordinates. It checks that when the two data columns are sorted\n",
    "    # they are each equal to an ordered vector with the same number of rows.\n",
    "    def isOrdinal(self, dd):\n",
    "        return np.all(np.equal(np.sort(dd, axis=0),\n",
    "                               np.reshape(np.repeat(np.arange(start=1, stop=dd.shape[0]+1),\n",
    "                                                    2), (dd.shape[0], 2))))\n",
    "\n",
    "    # data: is a manyx2 numpy array that contains all the original data\n",
    "    # borders: a dictionary that contains 'nodes' with a numpyu array of Xmin, Xmax, Ymin, Ymax,\n",
    "    # and 'npts' which contains the number of points in the bin\n",
    "    # r: is the number of partitions\n",
    "    # alpha: the significance level to test for independence\n",
    "\n",
    "    def return_partition_DV(self, data, borders, r=2, alpha=0.05):\n",
    "        import scipy\n",
    "        # extract the bin boundaries\n",
    "        Xmin = borders['nodes'][0]\n",
    "        Xmax = borders['nodes'][1]\n",
    "        Ymin = borders['nodes'][2]\n",
    "        Ymax = borders['nodes'][3]\n",
    "\n",
    "        # find the number of bins\n",
    "    #    numBins = r ** 2\n",
    "        idx = np.where((data[:, 0] >= Xmin)\n",
    "                       & (data[:, 0] <= Xmax)\n",
    "                       & (data[:, 1] >= Ymin)\n",
    "                       & (data[:, 1] <= Ymax))\n",
    "    \n",
    "        log.info(f'Number of bins: {idx}')\n",
    "\n",
    "        # extract the points in the bin\n",
    "        Xsub = data[idx, 0]\n",
    "        Ysub = data[idx, 1]\n",
    "\n",
    "        log.info(f'Points in the bin {Xsub} and {Ysub}')\n",
    "\n",
    "    #    print(Xsub.shape, '\\t', Ysub.shape)\n",
    "\n",
    "        # find the indices of the points in the x- and y-patches\n",
    "        idx_x = np.where((data[:, 0] >= Xmin) & (data[:, 0] <= Xmax))\n",
    "        idx_y = np.where((data[:, 1] >= Ymin) & (data[:, 1] <= Ymax))\n",
    "\n",
    "        log.info(f'indices: {idx_x} & {idx_y}')\n",
    "\n",
    "        # get the subpartitions\n",
    "        ai = np.floor(np.percentile(\n",
    "            data[idx_x, 0], 1/r * np.arange(1, r) * 100))\n",
    "        bj = np.floor(np.percentile(\n",
    "            data[idx_y, 1], 1/r * np.arange(1, r) * 100))\n",
    "\n",
    "        log.info(f'Subpartitions {ai} & {bj}')\n",
    "\n",
    "        # get the bin edges\n",
    "        edges1 = np.concatenate(([Xmin], ai, [Xmax]))\n",
    "        edges2 = np.concatenate(([Ymin], bj, [Ymax]))\n",
    "\n",
    "        # first exit criteria: we cannot split inot unique boundaries any more\n",
    "        # preallocate the partition list\n",
    "        partitions = []\n",
    "        if (len(np.unique(edges1, return_counts=True)[1]) < r + 1 or\n",
    "                len(np.unique(edges2, return_counts=True)[1]) < r + 1):\n",
    "\n",
    "            # reject futher partitions, and return original bin\n",
    "            partitions.insert(0, {'nodes': np.array([Xmin, Xmax, Ymin, Ymax]),\n",
    "                                  'npts': len(idx[0])})\n",
    "            return partitions\n",
    "\n",
    "        # figure out the shift in the edges so that boundaries do not overlap\n",
    "        xShift = np.zeros((2 * r, 2 * r))\n",
    "        yShift = xShift\n",
    "        xShift[:, 1:-1] = np.tile(np.array([[-1, 0]]), (2 * r, r - 1))\n",
    "        yShift = xShift.T\n",
    "\n",
    "        # find the boundaries for each bin\n",
    "        # duplicate inner nodes for x mesh\n",
    "        dupMidNodesX = np.append(np.insert(np.repeat((edges1[1:-1]), 2, axis=0),\n",
    "                                           0, edges1[0]), edges1[-1])\n",
    "\n",
    "        # duplicate inner nodes for y mesh\n",
    "        dupMidNodesY = np.append(np.insert(np.repeat((edges2[1:-1]), 2, axis=0),\n",
    "                                           0, edges2[0]), edges2[-1])\n",
    "        # reshape\n",
    "        dupMidNodesY = np.reshape(dupMidNodesY, (-1, 1))\n",
    "\n",
    "        # now find the nodes for each bin\n",
    "        xBinBound = dupMidNodesX + xShift\n",
    "        yBinBound = dupMidNodesY + yShift\n",
    "        # find the number of points in each bin, and put this info into array\n",
    "        binned_data = scipy.stats.binned_statistic_2d(Xsub.flatten(), Ysub.flatten(), None, 'count',\n",
    "                                                      bins=[edges1, edges2])\n",
    "        # get the counts. Flatten columnwise to match the bin definition in the\n",
    "        # loop that creates the dictionaries below\n",
    "        binCounts = binned_data.statistic.flatten('F')\n",
    "\n",
    "        # define an empty list to hold the dictionaries of the fresh partitions\n",
    "        bins = []\n",
    "        # create dictionaries for each bin\n",
    "        # start with the loop over y\n",
    "        # note how the loop counts were obtained above to match the convention\n",
    "        # here\n",
    "        for yInd in np.arange(r):\n",
    "            # this is the loop over x\n",
    "            for xInd in np.arange(r):\n",
    "                # get the bin number\n",
    "                binNo = yInd * r + xInd\n",
    "                xLow, xHigh = xBinBound[yInd, 2*xInd + np.arange(2)]\n",
    "                yLow, yHigh = yBinBound[2*yInd + np.arange(2), xInd]\n",
    "                bins.append({'nodes': np.array([xLow, xHigh, yLow, yHigh]),\n",
    "                             'npts': binCounts[binNo]})\n",
    "\n",
    "        # calculate the chi square statistic\n",
    "        chi2 = scipy.stats.chisquare(binCounts)\n",
    "\n",
    "        # check for independence and start recursion\n",
    "        # if the chi2 test fails, do further partitioning:\n",
    "        if (chi2.pvalue < alpha and Xmax != Xmin and Ymax != Ymin).all():\n",
    "            for binInfo in bins:\n",
    "                if binInfo['npts'] != 0:  # if the bin is not empty:\n",
    "                    # append entries to the tuple\n",
    "                    partitions.extend(self.return_partition_DV(data=data,\n",
    "                                                               borders=binInfo,\n",
    "                                                               r=r, alpha=alpha))\n",
    "\n",
    "        # Second exit criteria:\n",
    "        # if the partitions are independent, reject further partitioning and\n",
    "        # save the orignal, unpartitioned bin\n",
    "        elif len(idx[0]) != 0:\n",
    "            partitions.insert(0, {'nodes': np.array([Xmin, Xmax, Ymin, Ymax]),\n",
    "                                  'npts': len(idx[0])})\n",
    "\n",
    "        return partitions\n",
    "    "
   ]
  },
  {
   "cell_type": "code",
   "execution_count": 72,
   "id": "3f092f47",
   "metadata": {
    "ExecuteTime": {
     "end_time": "2022-12-10T18:28:55.696932Z",
     "start_time": "2022-12-10T18:28:55.691984Z"
    }
   },
   "outputs": [],
   "source": [
    "x = [1,2,2,2,3,3,6,7,8,3,6,5,9,10,11]\n",
    "y = [1,1,3,3,7,4,3,1,2,4,7,8,5,9,10]"
   ]
  },
  {
   "cell_type": "code",
   "execution_count": 73,
   "id": "9af1f4ee",
   "metadata": {
    "ExecuteTime": {
     "end_time": "2022-12-10T18:28:55.839972Z",
     "start_time": "2022-12-10T18:28:55.834203Z"
    }
   },
   "outputs": [],
   "source": [
    "ycat = ['a','a','a','a','b','a','b','a','b','b','b','b','a','b','b']"
   ]
  },
  {
   "cell_type": "code",
   "execution_count": 74,
   "id": "88f4ce9e",
   "metadata": {
    "ExecuteTime": {
     "end_time": "2022-12-10T18:29:29.831867Z",
     "start_time": "2022-12-10T18:29:29.826047Z"
    }
   },
   "outputs": [],
   "source": [
    "ycatRanked = scipy.stats.rankdata(ycat, method = 'ordinal')"
   ]
  },
  {
   "cell_type": "code",
   "execution_count": 75,
   "id": "0977d7c4",
   "metadata": {
    "ExecuteTime": {
     "end_time": "2022-12-10T18:29:33.268487Z",
     "start_time": "2022-12-10T18:29:33.262426Z"
    }
   },
   "outputs": [
    {
     "data": {
      "text/plain": [
       "array([ 1,  2,  3,  4,  8,  5,  9,  6, 10, 11, 12, 13,  7, 14, 15])"
      ]
     },
     "execution_count": 75,
     "metadata": {},
     "output_type": "execute_result"
    }
   ],
   "source": [
    "ycatRanked"
   ]
  },
  {
   "cell_type": "code",
   "execution_count": 65,
   "id": "a4caf95a",
   "metadata": {
    "ExecuteTime": {
     "end_time": "2022-12-10T18:27:31.150742Z",
     "start_time": "2022-12-10T18:27:31.142786Z"
    }
   },
   "outputs": [],
   "source": [
    "xRanked = scipy.stats.rankdata(x, method = 'ordinal')"
   ]
  },
  {
   "cell_type": "code",
   "execution_count": 66,
   "id": "3e166c02",
   "metadata": {
    "ExecuteTime": {
     "end_time": "2022-12-10T18:27:31.490631Z",
     "start_time": "2022-12-10T18:27:31.485639Z"
    }
   },
   "outputs": [],
   "source": [
    "yRanked = scipy.stats.rankdata(y, method = 'ordinal')"
   ]
  },
  {
   "cell_type": "code",
   "execution_count": 70,
   "id": "0bda1e9d",
   "metadata": {
    "ExecuteTime": {
     "end_time": "2022-12-10T18:27:46.151948Z",
     "start_time": "2022-12-10T18:27:46.145983Z"
    }
   },
   "outputs": [
    {
     "name": "stdout",
     "output_type": "stream",
     "text": [
      "[ 1  2  3  4  5  6  9 11 12  7 10  8 13 14 15]\n",
      "[ 1  2  5  6 11  8  7  3  4  9 12 13 10 14 15]\n"
     ]
    }
   ],
   "source": [
    "print(xRanked)\n",
    "print(yRanked)"
   ]
  },
  {
   "cell_type": "code",
   "execution_count": 67,
   "id": "b013ea66",
   "metadata": {
    "ExecuteTime": {
     "end_time": "2022-12-10T18:27:31.766112Z",
     "start_time": "2022-12-10T18:27:31.760885Z"
    }
   },
   "outputs": [],
   "source": [
    "data = np.column_stack((xRanked, yRanked))"
   ]
  },
  {
   "cell_type": "code",
   "execution_count": 68,
   "id": "5ab3160b",
   "metadata": {
    "ExecuteTime": {
     "end_time": "2022-12-10T18:27:32.023748Z",
     "start_time": "2022-12-10T18:27:32.016749Z"
    }
   },
   "outputs": [],
   "source": [
    "xmin = data[:, 0].min()\n",
    "xmax = data[:, 0].max()\n",
    "ymin = data[:, 1].min()\n",
    "ymax = data[:, 1].max()"
   ]
  },
  {
   "cell_type": "code",
   "execution_count": 69,
   "id": "8a931996",
   "metadata": {
    "ExecuteTime": {
     "end_time": "2022-12-10T18:27:32.323305Z",
     "start_time": "2022-12-10T18:27:32.313214Z"
    }
   },
   "outputs": [
    {
     "data": {
      "text/plain": [
       "15"
      ]
     },
     "execution_count": 69,
     "metadata": {},
     "output_type": "execute_result"
    }
   ],
   "source": [
    "xmin\n",
    "xmax\n",
    "ymin\n",
    "ymax"
   ]
  },
  {
   "cell_type": "code",
   "execution_count": 9,
   "id": "672a7a1b",
   "metadata": {
    "ExecuteTime": {
     "end_time": "2022-12-10T18:03:57.427987Z",
     "start_time": "2022-12-10T18:03:57.421561Z"
    }
   },
   "outputs": [],
   "source": [
    "borders = {}\n",
    "borders['nodes'] = np.array([xmin, xmax, ymin, ymax])\n",
    "borders['pts'] = data.shape[0]\n",
    "numParts = 4\n",
    "alpha = 0.05"
   ]
  },
  {
   "cell_type": "code",
   "execution_count": 10,
   "id": "5d7e8b98",
   "metadata": {
    "ExecuteTime": {
     "end_time": "2022-12-10T18:03:57.674425Z",
     "start_time": "2022-12-10T18:03:57.669305Z"
    }
   },
   "outputs": [],
   "source": [
    "Xmin = borders['nodes'][0]\n",
    "Xmax = borders['nodes'][1]\n",
    "Ymin = borders['nodes'][2]\n",
    "Ymax = borders['nodes'][3]"
   ]
  },
  {
   "cell_type": "code",
   "execution_count": 11,
   "id": "9060b5f5",
   "metadata": {
    "ExecuteTime": {
     "end_time": "2022-12-10T18:03:58.573518Z",
     "start_time": "2022-12-10T18:03:58.566392Z"
    }
   },
   "outputs": [
    {
     "data": {
      "text/plain": [
       "array([[ 1,  1],\n",
       "       [ 2,  2],\n",
       "       [ 3,  5],\n",
       "       [ 4,  6],\n",
       "       [ 5, 10],\n",
       "       [ 6,  8],\n",
       "       [ 9,  7],\n",
       "       [11,  3],\n",
       "       [12,  4],\n",
       "       [ 7,  9],\n",
       "       [10, 11],\n",
       "       [ 8, 12]])"
      ]
     },
     "execution_count": 11,
     "metadata": {},
     "output_type": "execute_result"
    }
   ],
   "source": [
    "data"
   ]
  },
  {
   "cell_type": "code",
   "execution_count": 12,
   "id": "d64f4a5c",
   "metadata": {
    "ExecuteTime": {
     "end_time": "2022-12-10T18:03:59.109594Z",
     "start_time": "2022-12-10T18:03:59.100353Z"
    }
   },
   "outputs": [
    {
     "data": {
      "text/plain": [
       "array([ True,  True,  True,  True,  True,  True,  True,  True,  True,\n",
       "        True,  True,  True])"
      ]
     },
     "execution_count": 12,
     "metadata": {},
     "output_type": "execute_result"
    }
   ],
   "source": [
    "(data[:, 0] >= Xmin)"
   ]
  },
  {
   "cell_type": "code",
   "execution_count": 13,
   "id": "7c03507d",
   "metadata": {
    "ExecuteTime": {
     "end_time": "2022-12-10T18:03:59.972016Z",
     "start_time": "2022-12-10T18:03:59.966278Z"
    }
   },
   "outputs": [],
   "source": [
    "#montar indice para retornar ou nao os valores\n",
    "idx = np.where((data[:, 0] >= Xmin)\n",
    "           & (data[:, 0] <= Xmax)\n",
    "           & (data[:, 1] >= Ymin)\n",
    "           & (data[:, 1] <= Ymax))"
   ]
  },
  {
   "cell_type": "code",
   "execution_count": 14,
   "id": "55b086a9",
   "metadata": {
    "ExecuteTime": {
     "end_time": "2022-12-10T18:04:00.421831Z",
     "start_time": "2022-12-10T18:04:00.415566Z"
    }
   },
   "outputs": [
    {
     "name": "stdout",
     "output_type": "stream",
     "text": [
      "(array([ 0,  1,  2,  3,  4,  5,  6,  7,  8,  9, 10, 11]),)\n"
     ]
    }
   ],
   "source": [
    "print(idx)"
   ]
  },
  {
   "cell_type": "code",
   "execution_count": 15,
   "id": "96fba3ab",
   "metadata": {
    "ExecuteTime": {
     "end_time": "2022-12-10T18:04:09.869431Z",
     "start_time": "2022-12-10T18:04:09.864735Z"
    }
   },
   "outputs": [],
   "source": [
    "# extract the points in the bin\n",
    "Xsub = data[idx, 0]\n",
    "Ysub = data[idx, 1]"
   ]
  },
  {
   "cell_type": "code",
   "execution_count": 16,
   "id": "618bb40e",
   "metadata": {
    "ExecuteTime": {
     "end_time": "2022-12-10T18:04:10.291274Z",
     "start_time": "2022-12-10T18:04:10.283223Z"
    }
   },
   "outputs": [
    {
     "data": {
      "text/plain": [
       "array([[ 1,  2,  3,  4,  5,  6,  9, 11, 12,  7, 10,  8]])"
      ]
     },
     "execution_count": 16,
     "metadata": {},
     "output_type": "execute_result"
    }
   ],
   "source": [
    "Xsub"
   ]
  },
  {
   "cell_type": "code",
   "execution_count": 17,
   "id": "63c55ee1",
   "metadata": {
    "ExecuteTime": {
     "end_time": "2022-12-10T18:04:10.540705Z",
     "start_time": "2022-12-10T18:04:10.532998Z"
    }
   },
   "outputs": [
    {
     "data": {
      "text/plain": [
       "array([[ 1,  2,  5,  6, 10,  8,  7,  3,  4,  9, 11, 12]])"
      ]
     },
     "execution_count": 17,
     "metadata": {},
     "output_type": "execute_result"
    }
   ],
   "source": [
    "Ysub"
   ]
  },
  {
   "cell_type": "code",
   "execution_count": 18,
   "id": "73f8f5d2",
   "metadata": {
    "ExecuteTime": {
     "end_time": "2022-12-10T18:04:17.024406Z",
     "start_time": "2022-12-10T18:04:17.019062Z"
    }
   },
   "outputs": [],
   "source": [
    "idx_x = np.where((data[:, 0] >= Xmin) & (data[:, 0] <= Xmax))\n",
    "idx_y = np.where((data[:, 1] >= Ymin) & (data[:, 1] <= Ymax))"
   ]
  },
  {
   "cell_type": "code",
   "execution_count": 19,
   "id": "7cb3657a",
   "metadata": {
    "ExecuteTime": {
     "end_time": "2022-12-10T18:04:17.999683Z",
     "start_time": "2022-12-10T18:04:17.994408Z"
    }
   },
   "outputs": [
    {
     "name": "stdout",
     "output_type": "stream",
     "text": [
      "(array([ 0,  1,  2,  3,  4,  5,  6,  7,  8,  9, 10, 11]),)\n"
     ]
    }
   ],
   "source": [
    "print(idx_x)"
   ]
  },
  {
   "cell_type": "code",
   "execution_count": 20,
   "id": "60e8f129",
   "metadata": {
    "ExecuteTime": {
     "end_time": "2022-12-10T18:04:18.878042Z",
     "start_time": "2022-12-10T18:04:18.872841Z"
    }
   },
   "outputs": [
    {
     "name": "stdout",
     "output_type": "stream",
     "text": [
      "(array([ 0,  1,  2,  3,  4,  5,  6,  7,  8,  9, 10, 11]),)\n"
     ]
    }
   ],
   "source": [
    "print(idx_y)"
   ]
  },
  {
   "cell_type": "code",
   "execution_count": 21,
   "id": "abc32bd9",
   "metadata": {
    "ExecuteTime": {
     "end_time": "2022-12-10T18:04:19.173672Z",
     "start_time": "2022-12-10T18:04:19.169184Z"
    }
   },
   "outputs": [],
   "source": [
    "r = 2"
   ]
  },
  {
   "cell_type": "code",
   "execution_count": 22,
   "id": "2678711f",
   "metadata": {
    "ExecuteTime": {
     "end_time": "2022-12-10T18:04:20.580494Z",
     "start_time": "2022-12-10T18:04:20.571648Z"
    }
   },
   "outputs": [
    {
     "name": "stdout",
     "output_type": "stream",
     "text": [
      "[50.]\n"
     ]
    }
   ],
   "source": [
    "percentil = 1/r * np.arange(1, r) * 100\n",
    "print(percentil)\n",
    "\n",
    "ai = np.floor(np.percentile(data[idx_x, 0], percentil))\n",
    "bj = np.floor(np.percentile(data[idx_y, 1], percentil))"
   ]
  },
  {
   "cell_type": "code",
   "execution_count": 23,
   "id": "3acc098a",
   "metadata": {
    "ExecuteTime": {
     "end_time": "2022-12-10T18:04:25.347621Z",
     "start_time": "2022-12-10T18:04:25.343715Z"
    }
   },
   "outputs": [],
   "source": [
    "# retorna onde sera realizado o particionamento"
   ]
  },
  {
   "cell_type": "code",
   "execution_count": 24,
   "id": "20053d64",
   "metadata": {
    "ExecuteTime": {
     "end_time": "2022-12-10T18:04:25.522644Z",
     "start_time": "2022-12-10T18:04:25.515095Z"
    }
   },
   "outputs": [],
   "source": [
    "# get the bin edges\n",
    "edges1 = np.concatenate(([Xmin], ai, [Xmax]))\n",
    "edges2 = np.concatenate(([Ymin], bj, [Ymax]))"
   ]
  },
  {
   "cell_type": "code",
   "execution_count": 25,
   "id": "b64c774c",
   "metadata": {
    "ExecuteTime": {
     "end_time": "2022-12-10T18:04:25.865722Z",
     "start_time": "2022-12-10T18:04:25.856882Z"
    }
   },
   "outputs": [
    {
     "data": {
      "text/plain": [
       "array([ 1.,  6., 12.])"
      ]
     },
     "execution_count": 25,
     "metadata": {},
     "output_type": "execute_result"
    }
   ],
   "source": [
    "edges1"
   ]
  },
  {
   "cell_type": "code",
   "execution_count": 41,
   "id": "8eb4ec83",
   "metadata": {
    "ExecuteTime": {
     "end_time": "2022-12-10T18:12:34.170027Z",
     "start_time": "2022-12-10T18:12:34.163164Z"
    }
   },
   "outputs": [],
   "source": [
    "# figure out the shift in the edges so that boundaries do not overlap\n",
    "xShift = np.zeros((2 * r, 2 * r))\n",
    "yShift = xShift\n",
    "xShift[:, 1:-1] = np.tile(np.array([[-1, 0]]), (2 * r, r - 1))\n",
    "yShift = xShift.T"
   ]
  },
  {
   "cell_type": "code",
   "execution_count": 42,
   "id": "ec4dfd44",
   "metadata": {
    "ExecuteTime": {
     "end_time": "2022-12-10T18:12:34.393070Z",
     "start_time": "2022-12-10T18:12:34.379367Z"
    }
   },
   "outputs": [
    {
     "data": {
      "text/plain": [
       "array([[-1,  0],\n",
       "       [-1,  0],\n",
       "       [-1,  0],\n",
       "       [-1,  0]])"
      ]
     },
     "execution_count": 42,
     "metadata": {},
     "output_type": "execute_result"
    }
   ],
   "source": [
    "np.tile(np.array([[-1, 0]]), (2 * r, r - 1))"
   ]
  },
  {
   "cell_type": "code",
   "execution_count": 43,
   "id": "75698791",
   "metadata": {
    "ExecuteTime": {
     "end_time": "2022-12-10T18:12:34.528127Z",
     "start_time": "2022-12-10T18:12:34.520460Z"
    }
   },
   "outputs": [
    {
     "data": {
      "text/plain": [
       "array([1, 1])"
      ]
     },
     "execution_count": 43,
     "metadata": {},
     "output_type": "execute_result"
    }
   ],
   "source": [
    "np.repeat(1,2)"
   ]
  },
  {
   "cell_type": "code",
   "execution_count": 44,
   "id": "e0134979",
   "metadata": {
    "ExecuteTime": {
     "end_time": "2022-12-10T18:12:34.655269Z",
     "start_time": "2022-12-10T18:12:34.648844Z"
    }
   },
   "outputs": [],
   "source": [
    "dupMidNodesX = np.append(\n",
    "np.insert(\n",
    "    np.repeat(\n",
    "            (edges1[1:-1]), 2, axis=0\n",
    "        ),\n",
    "        0,\n",
    "        edges1[0]\n",
    "    ), \n",
    "edges1[-1]\n",
    ")"
   ]
  },
  {
   "cell_type": "code",
   "execution_count": 45,
   "id": "9cef5c9b",
   "metadata": {
    "ExecuteTime": {
     "end_time": "2022-12-10T18:12:34.816869Z",
     "start_time": "2022-12-10T18:12:34.806768Z"
    }
   },
   "outputs": [
    {
     "data": {
      "text/plain": [
       "array([ 1.,  6.,  6., 12.])"
      ]
     },
     "execution_count": 45,
     "metadata": {},
     "output_type": "execute_result"
    }
   ],
   "source": [
    "dupMidNodesX"
   ]
  },
  {
   "cell_type": "code",
   "execution_count": 46,
   "id": "555068cd",
   "metadata": {
    "ExecuteTime": {
     "end_time": "2022-12-10T18:12:34.985741Z",
     "start_time": "2022-12-10T18:12:34.978521Z"
    }
   },
   "outputs": [],
   "source": [
    "# duplicate inner nodes for y mesh\n",
    "dupMidNodesY = np.append(np.insert(np.repeat((edges2[1:-1]), 2, axis=0),\n",
    "                                   0, edges2[0]), edges2[-1])"
   ]
  },
  {
   "cell_type": "code",
   "execution_count": 47,
   "id": "f06f3555",
   "metadata": {
    "ExecuteTime": {
     "end_time": "2022-12-10T18:12:35.150679Z",
     "start_time": "2022-12-10T18:12:35.143851Z"
    }
   },
   "outputs": [
    {
     "data": {
      "text/plain": [
       "array([ 1.,  6.,  6., 12.])"
      ]
     },
     "execution_count": 47,
     "metadata": {},
     "output_type": "execute_result"
    }
   ],
   "source": [
    "dupMidNodesY"
   ]
  },
  {
   "cell_type": "code",
   "execution_count": 48,
   "id": "99c415f0",
   "metadata": {
    "ExecuteTime": {
     "end_time": "2022-12-10T18:12:35.382808Z",
     "start_time": "2022-12-10T18:12:35.376738Z"
    }
   },
   "outputs": [],
   "source": [
    "dupMidNodesY = np.reshape(dupMidNodesY, (-1, 1))"
   ]
  },
  {
   "cell_type": "code",
   "execution_count": 49,
   "id": "eef36cfa",
   "metadata": {
    "ExecuteTime": {
     "end_time": "2022-12-10T18:12:35.649308Z",
     "start_time": "2022-12-10T18:12:35.641104Z"
    }
   },
   "outputs": [
    {
     "data": {
      "text/plain": [
       "array([[ 1.],\n",
       "       [ 6.],\n",
       "       [ 6.],\n",
       "       [12.]])"
      ]
     },
     "execution_count": 49,
     "metadata": {},
     "output_type": "execute_result"
    }
   ],
   "source": [
    "dupMidNodesY"
   ]
  },
  {
   "cell_type": "code",
   "execution_count": 50,
   "id": "8b8bb5ed",
   "metadata": {
    "ExecuteTime": {
     "end_time": "2022-12-10T18:12:35.920645Z",
     "start_time": "2022-12-10T18:12:35.915113Z"
    }
   },
   "outputs": [],
   "source": [
    "# now find the nodes for each bin\n",
    "xBinBound = dupMidNodesX + xShift\n",
    "yBinBound = dupMidNodesY + yShift"
   ]
  },
  {
   "cell_type": "code",
   "execution_count": 51,
   "id": "7824a4eb",
   "metadata": {
    "ExecuteTime": {
     "end_time": "2022-12-10T18:12:39.635278Z",
     "start_time": "2022-12-10T18:12:39.628531Z"
    }
   },
   "outputs": [
    {
     "data": {
      "text/plain": [
       "array([[ 1.,  5.,  6., 12.],\n",
       "       [ 1.,  5.,  6., 12.],\n",
       "       [ 1.,  5.,  6., 12.],\n",
       "       [ 1.,  5.,  6., 12.]])"
      ]
     },
     "execution_count": 51,
     "metadata": {},
     "output_type": "execute_result"
    }
   ],
   "source": [
    "xBinBound"
   ]
  },
  {
   "cell_type": "code",
   "execution_count": 52,
   "id": "2874e771",
   "metadata": {
    "ExecuteTime": {
     "end_time": "2022-12-10T18:12:50.069890Z",
     "start_time": "2022-12-10T18:12:50.060801Z"
    }
   },
   "outputs": [
    {
     "data": {
      "text/plain": [
       "array([[ 1.,  1.,  1.,  1.],\n",
       "       [ 5.,  5.,  5.,  5.],\n",
       "       [ 6.,  6.,  6.,  6.],\n",
       "       [12., 12., 12., 12.]])"
      ]
     },
     "execution_count": 52,
     "metadata": {},
     "output_type": "execute_result"
    }
   ],
   "source": [
    "yBinBound"
   ]
  },
  {
   "cell_type": "markdown",
   "id": "9e4a9227",
   "metadata": {},
   "source": [
    "### Ele de fato cria sim bins"
   ]
  },
  {
   "cell_type": "code",
   "execution_count": 54,
   "id": "19043c16",
   "metadata": {
    "ExecuteTime": {
     "end_time": "2022-12-10T18:14:07.853435Z",
     "start_time": "2022-12-10T18:14:07.842596Z"
    }
   },
   "outputs": [],
   "source": [
    "# find the number of points in each bin, and put this info into array\n",
    "binned_data = scipy.stats.binned_statistic_2d(Xsub.flatten(), Ysub.flatten(), None, 'count',\n",
    "                                              bins=[edges1, edges2])"
   ]
  },
  {
   "cell_type": "code",
   "execution_count": 55,
   "id": "f41aa6c7",
   "metadata": {
    "ExecuteTime": {
     "end_time": "2022-12-10T18:14:10.650216Z",
     "start_time": "2022-12-10T18:14:10.642284Z"
    }
   },
   "outputs": [
    {
     "data": {
      "text/plain": [
       "BinnedStatistic2dResult(statistic=array([[3., 2.],\n",
       "       [2., 5.]]), x_edge=array([ 1.,  6., 12.]), y_edge=array([ 1.,  6., 12.]), binnumber=array([ 5,  5,  5,  6,  6, 10, 10,  9,  9, 10, 10, 10]))"
      ]
     },
     "execution_count": 55,
     "metadata": {},
     "output_type": "execute_result"
    }
   ],
   "source": [
    "binned_data"
   ]
  },
  {
   "cell_type": "code",
   "execution_count": 56,
   "id": "e160b393",
   "metadata": {
    "ExecuteTime": {
     "end_time": "2022-12-10T18:14:55.065501Z",
     "start_time": "2022-12-10T18:14:55.054975Z"
    }
   },
   "outputs": [],
   "source": [
    "binCounts = binned_data.statistic.flatten('F')"
   ]
  },
  {
   "cell_type": "code",
   "execution_count": 57,
   "id": "7dd883ef",
   "metadata": {
    "ExecuteTime": {
     "end_time": "2022-12-10T18:14:57.317331Z",
     "start_time": "2022-12-10T18:14:57.308128Z"
    }
   },
   "outputs": [
    {
     "data": {
      "text/plain": [
       "array([3., 2., 2., 5.])"
      ]
     },
     "execution_count": 57,
     "metadata": {},
     "output_type": "execute_result"
    }
   ],
   "source": [
    "binCounts"
   ]
  },
  {
   "cell_type": "code",
   "execution_count": 62,
   "id": "c4497648",
   "metadata": {
    "ExecuteTime": {
     "end_time": "2022-12-10T18:26:21.107232Z",
     "start_time": "2022-12-10T18:26:21.086392Z"
    }
   },
   "outputs": [
    {
     "data": {
      "text/plain": [
       "array([3., 2., 2., 5.])"
      ]
     },
     "execution_count": 62,
     "metadata": {},
     "output_type": "execute_result"
    }
   ],
   "source": [
    "binCounts"
   ]
  },
  {
   "cell_type": "code",
   "execution_count": 59,
   "id": "4dc55ce6",
   "metadata": {
    "ExecuteTime": {
     "end_time": "2022-12-10T18:15:55.557966Z",
     "start_time": "2022-12-10T18:15:55.554362Z"
    }
   },
   "outputs": [],
   "source": [
    "bins = []"
   ]
  },
  {
   "cell_type": "code",
   "execution_count": 60,
   "id": "b09aed87",
   "metadata": {
    "ExecuteTime": {
     "end_time": "2022-12-10T18:15:55.935287Z",
     "start_time": "2022-12-10T18:15:55.926605Z"
    }
   },
   "outputs": [],
   "source": [
    "for yInd in np.arange(r):\n",
    "    # this is the loop over x\n",
    "    for xInd in np.arange(r):\n",
    "        # get the bin number\n",
    "        binNo = yInd * r + xInd\n",
    "        xLow, xHigh = xBinBound[yInd, 2*xInd + np.arange(2)]\n",
    "        yLow, yHigh = yBinBound[2*yInd + np.arange(2), xInd]\n",
    "        bins.append({'nodes': np.array([xLow, xHigh, yLow, yHigh]),\n",
    "                     'npts': binCounts[binNo]})"
   ]
  },
  {
   "cell_type": "code",
   "execution_count": 61,
   "id": "93bbbbc9",
   "metadata": {
    "ExecuteTime": {
     "end_time": "2022-12-10T18:15:58.588187Z",
     "start_time": "2022-12-10T18:15:58.576643Z"
    }
   },
   "outputs": [
    {
     "data": {
      "text/plain": [
       "[{'nodes': array([1., 5., 1., 5.]), 'npts': 3.0},\n",
       " {'nodes': array([ 6., 12.,  1.,  5.]), 'npts': 2.0},\n",
       " {'nodes': array([ 1.,  5.,  6., 12.]), 'npts': 2.0},\n",
       " {'nodes': array([ 6., 12.,  6., 12.]), 'npts': 5.0}]"
      ]
     },
     "execution_count": 61,
     "metadata": {},
     "output_type": "execute_result"
    }
   ],
   "source": [
    "bins"
   ]
  },
  {
   "cell_type": "code",
   "execution_count": 76,
   "id": "152a960e",
   "metadata": {
    "ExecuteTime": {
     "end_time": "2022-12-10T18:32:18.274839Z",
     "start_time": "2022-12-10T18:32:18.258722Z"
    }
   },
   "outputs": [
    {
     "name": "stdout",
     "output_type": "stream",
     "text": [
      "{'nodes': array([1., 5., 1., 5.]), 'npts': 3.0}\n",
      "{'nodes': array([ 6., 12.,  1.,  5.]), 'npts': 2.0}\n",
      "{'nodes': array([ 1.,  5.,  6., 12.]), 'npts': 2.0}\n",
      "{'nodes': array([ 6., 12.,  6., 12.]), 'npts': 5.0}\n"
     ]
    }
   ],
   "source": [
    "for bin in bins:\n",
    "    print(bin)"
   ]
  },
  {
   "cell_type": "code",
   "execution_count": 78,
   "id": "2fc683fb",
   "metadata": {
    "ExecuteTime": {
     "end_time": "2022-12-10T18:33:34.775521Z",
     "start_time": "2022-12-10T18:33:34.675598Z"
    }
   },
   "outputs": [
    {
     "data": {
      "text/plain": [
       "(0.44999999999999996, 12.55, 0.44999999999999996, 12.55)"
      ]
     },
     "execution_count": 78,
     "metadata": {},
     "output_type": "execute_result"
    },
    {
     "data": {
      "image/png": "[encoded data removed]",
      "text/plain": [
       "<Figure size 432x288 with 1 Axes>"
      ]
     },
     "metadata": {
      "needs_background": "light"
     },
     "output_type": "display_data"
    }
   ],
   "source": [
    "import matplotlib.pyplot as plt\n",
    "import matplotlib\n",
    "# plot the partitions\n",
    "fig1, ax1 = plt.subplots()\n",
    "for binNode in bins:\n",
    "    # print(binNode)\n",
    "    # get the bottom left corner\n",
    "    corner = (binNode['nodes'][0], binNode['nodes'][2])\n",
    "\n",
    "    # get the width and height\n",
    "    width = binNode['nodes'][1] - binNode['nodes'][0]\n",
    "    height = binNode['nodes'][3] - binNode['nodes'][2]\n",
    "\n",
    "    # add the corresponding rectangle\n",
    "    ax1.add_patch(matplotlib.patches.Rectangle(\n",
    "        corner, width, height, fill=False))\n",
    "\n",
    "# Doesn't show unless we do this\n",
    "plt.axis('tight')"
   ]
  },
  {
   "cell_type": "code",
   "execution_count": null,
   "id": "736713c5",
   "metadata": {},
   "outputs": [],
   "source": []
  }
 ],
 "metadata": {
  "kernelspec": {
   "display_name": "Python 3 (ipykernel)",
   "language": "python",
   "name": "python3"
  },
  "language_info": {
   "codemirror_mode": {
    "name": "ipython",
    "version": 3
   },
   "file_extension": ".py",
   "mimetype": "text/x-python",
   "name": "python",
   "nbconvert_exporter": "python",
   "pygments_lexer": "ipython3",
   "version": "3.8.15"
  },
  "toc": {
   "base_numbering": 1,
   "nav_menu": {},
   "number_sections": true,
   "sideBar": true,
   "skip_h1_title": false,
   "title_cell": "Table of Contents",
   "title_sidebar": "Contents",
   "toc_cell": false,
   "toc_position": {},
   "toc_section_display": true,
   "toc_window_display": false
  }
 },
 "nbformat": 4,
 "nbformat_minor": 5
}
