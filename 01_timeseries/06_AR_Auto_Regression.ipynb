{
 "cells": [
  {
   "cell_type": "code",
   "execution_count": 1,
   "id": "babe39c0",
   "metadata": {
    "ExecuteTime": {
     "end_time": "2022-12-16T10:44:37.542574Z",
     "start_time": "2022-12-16T10:44:35.844077Z"
    }
   },
   "outputs": [],
   "source": [
    "import pandas as pd\n",
    "import matplotlib.pyplot as plt \n",
    "import matplotlib as mpl\n",
    "import numpy as np\n",
    "import seaborn as sns\n",
    "import scipy.stats as stats\n",
    "import statsmodels.stats.api as sms\n",
    "from plotnine import *\n",
    "import plotnine as pn\n",
    "import math\n",
    "import warnings\n",
    "\n",
    "from IPython.display import display\n",
    "from IPython.display import Markdown as md\n",
    "\n",
    "warnings.filterwarnings('ignore')\n",
    "plt.style.use('seaborn-white')\n",
    "\n",
    "%load_ext autoreload\n",
    "%autoreload 2"
   ]
  },
  {
   "cell_type": "code",
   "execution_count": 2,
   "id": "e1e3aaf8",
   "metadata": {
    "ExecuteTime": {
     "end_time": "2022-12-16T10:44:37.569598Z",
     "start_time": "2022-12-16T10:44:37.544203Z"
    }
   },
   "outputs": [],
   "source": [
    "from statsmodels.tsa.stattools import acf, pacf \n",
    "from statsmodels.graphics.tsaplots import plot_acf, plot_pacf\n",
    "from statsmodels.tsa.ar_model import AutoReg\n",
    "from sklearn.model_selection import train_test_split \n",
    "import statsmodels.api as sm"
   ]
  },
  {
   "cell_type": "code",
   "execution_count": 3,
   "id": "a08f84f1",
   "metadata": {
    "ExecuteTime": {
     "end_time": "2022-12-16T10:44:37.601581Z",
     "start_time": "2022-12-16T10:44:37.570770Z"
    }
   },
   "outputs": [],
   "source": [
    "passengers = pd.read_csv('data/AirPassengers.csv', index_col='Month', parse_dates=True)\n",
    "passengers = passengers['#Passengers']\n",
    "series = passengers"
   ]
  },
  {
   "cell_type": "code",
   "execution_count": 4,
   "id": "e266a301",
   "metadata": {
    "ExecuteTime": {
     "end_time": "2022-12-16T10:44:37.718898Z",
     "start_time": "2022-12-16T10:44:37.602643Z"
    }
   },
   "outputs": [
    {
     "data": {
      "text/plain": [
       "[<matplotlib.lines.Line2D at 0x7f800d398f70>]"
      ]
     },
     "execution_count": 4,
     "metadata": {},
     "output_type": "execute_result"
    },
    {
     "data": {
      "image/png": "[encoded data removed]",
      "text/plain": [
       "<Figure size 432x288 with 1 Axes>"
      ]
     },
     "metadata": {
      "needs_background": "light"
     },
     "output_type": "display_data"
    }
   ],
   "source": [
    "plt.plot(series)"
   ]
  },
  {
   "cell_type": "code",
   "execution_count": 5,
   "id": "5eba8922",
   "metadata": {
    "ExecuteTime": {
     "end_time": "2022-12-16T10:44:37.753079Z",
     "start_time": "2022-12-16T10:44:37.721299Z"
    }
   },
   "outputs": [
    {
     "name": "stdout",
     "output_type": "stream",
     "text": [
      "[ 1.          0.95467704 -0.26527732  0.05546955  0.10885622  0.08112579\n",
      "  0.00412541  0.15616955  0.10370833  0.28878144  0.20691805  0.2411297\n",
      " -0.15800498 -0.7183246  -0.08948064  0.22160591  0.13462253  0.11561572\n",
      "  0.1948294   0.09665618 -0.20215868 -0.0936381 ]\n"
     ]
    }
   ],
   "source": [
    "pacfobj = pacf(series)\n",
    "print(pacfobj)"
   ]
  },
  {
   "cell_type": "code",
   "execution_count": 6,
   "id": "4888d506",
   "metadata": {
    "ExecuteTime": {
     "end_time": "2022-12-16T10:44:37.790849Z",
     "start_time": "2022-12-16T10:44:37.755122Z"
    }
   },
   "outputs": [],
   "source": [
    "# fit model\n",
    "uselags = [1]\n",
    "model = AutoReg(series, lags=uselags)\n",
    "model_fit = model.fit()"
   ]
  },
  {
   "cell_type": "code",
   "execution_count": 7,
   "id": "d375513b",
   "metadata": {
    "ExecuteTime": {
     "end_time": "2022-12-16T10:44:37.826411Z",
     "start_time": "2022-12-16T10:44:37.792220Z"
    }
   },
   "outputs": [
    {
     "data": {
      "text/html": [
       "<table class=\"simpletable\">\n",
       "<caption>AutoReg Model Results</caption>\n",
       "<tr>\n",
       "  <th>Dep. Variable:</th>    <td>#Passengers</td>   <th>  No. Observations:  </th>    <td>144</td>  \n",
       "</tr>\n",
       "<tr>\n",
       "  <th>Model:</th>            <td>AutoReg(1)</td>    <th>  Log Likelihood     </th> <td>-704.106</td>\n",
       "</tr>\n",
       "<tr>\n",
       "  <th>Method:</th>         <td>Conditional MLE</td> <th>  S.D. of innovations</th>  <td>33.277</td> \n",
       "</tr>\n",
       "<tr>\n",
       "  <th>Date:</th>          <td>Fri, 16 Dec 2022</td> <th>  AIC                </th> <td>1414.212</td>\n",
       "</tr>\n",
       "<tr>\n",
       "  <th>Time:</th>              <td>07:44:37</td>     <th>  BIC                </th> <td>1423.100</td>\n",
       "</tr>\n",
       "<tr>\n",
       "  <th>Sample:</th>           <td>02-01-1949</td>    <th>  HQIC               </th> <td>1417.823</td>\n",
       "</tr>\n",
       "<tr>\n",
       "  <th></th>                 <td>- 12-01-1960</td>   <th>                     </th>     <td> </td>   \n",
       "</tr>\n",
       "</table>\n",
       "<table class=\"simpletable\">\n",
       "<tr>\n",
       "         <td></td>           <th>coef</th>     <th>std err</th>      <th>z</th>      <th>P>|z|</th>  <th>[0.025</th>    <th>0.975]</th>  \n",
       "</tr>\n",
       "<tr>\n",
       "  <th>const</th>          <td>   13.7055</td> <td>    7.084</td> <td>    1.935</td> <td> 0.053</td> <td>   -0.178</td> <td>   27.589</td>\n",
       "</tr>\n",
       "<tr>\n",
       "  <th>#Passengers.L1</th> <td>    0.9589</td> <td>    0.023</td> <td>   41.106</td> <td> 0.000</td> <td>    0.913</td> <td>    1.005</td>\n",
       "</tr>\n",
       "</table>\n",
       "<table class=\"simpletable\">\n",
       "<caption>Roots</caption>\n",
       "<tr>\n",
       "    <td></td>   <th>            Real</th>  <th>         Imaginary</th> <th>         Modulus</th>  <th>        Frequency</th>\n",
       "</tr>\n",
       "<tr>\n",
       "  <th>AR.1</th> <td>           1.0428</td> <td>          +0.0000j</td> <td>           1.0428</td> <td>           0.0000</td>\n",
       "</tr>\n",
       "</table>"
      ],
      "text/plain": [
       "<class 'statsmodels.iolib.summary.Summary'>\n",
       "\"\"\"\n",
       "                            AutoReg Model Results                             \n",
       "==============================================================================\n",
       "Dep. Variable:            #Passengers   No. Observations:                  144\n",
       "Model:                     AutoReg(1)   Log Likelihood                -704.106\n",
       "Method:               Conditional MLE   S.D. of innovations             33.277\n",
       "Date:                Fri, 16 Dec 2022   AIC                           1414.212\n",
       "Time:                        07:44:37   BIC                           1423.100\n",
       "Sample:                    02-01-1949   HQIC                          1417.823\n",
       "                         - 12-01-1960                                         \n",
       "==================================================================================\n",
       "                     coef    std err          z      P>|z|      [0.025      0.975]\n",
       "----------------------------------------------------------------------------------\n",
       "const             13.7055      7.084      1.935      0.053      -0.178      27.589\n",
       "#Passengers.L1     0.9589      0.023     41.106      0.000       0.913       1.005\n",
       "                                    Roots                                    \n",
       "=============================================================================\n",
       "                  Real          Imaginary           Modulus         Frequency\n",
       "-----------------------------------------------------------------------------\n",
       "AR.1            1.0428           +0.0000j            1.0428            0.0000\n",
       "-----------------------------------------------------------------------------\n",
       "\"\"\""
      ]
     },
     "execution_count": 7,
     "metadata": {},
     "output_type": "execute_result"
    }
   ],
   "source": [
    "model_fit.summary()"
   ]
  },
  {
   "cell_type": "code",
   "execution_count": 8,
   "id": "bf39bd51",
   "metadata": {
    "ExecuteTime": {
     "end_time": "2022-12-16T10:44:37.857795Z",
     "start_time": "2022-12-16T10:44:37.828292Z"
    }
   },
   "outputs": [
    {
     "data": {
      "text/plain": [
       "(144,)"
      ]
     },
     "execution_count": 8,
     "metadata": {},
     "output_type": "execute_result"
    }
   ],
   "source": [
    "series.shape"
   ]
  },
  {
   "cell_type": "code",
   "execution_count": 9,
   "id": "876524ef",
   "metadata": {
    "ExecuteTime": {
     "end_time": "2022-12-16T10:44:37.892565Z",
     "start_time": "2022-12-16T10:44:37.859257Z"
    }
   },
   "outputs": [
    {
     "data": {
      "text/plain": [
       "1961-01-01    427.964119\n",
       "Freq: MS, dtype: float64"
      ]
     },
     "execution_count": 9,
     "metadata": {},
     "output_type": "execute_result"
    }
   ],
   "source": [
    "model_fit.predict(len(series), len(series))"
   ]
  },
  {
   "cell_type": "code",
   "execution_count": 10,
   "id": "a3fbd1ad",
   "metadata": {
    "ExecuteTime": {
     "end_time": "2022-12-16T10:44:37.925598Z",
     "start_time": "2022-12-16T10:44:37.893619Z"
    }
   },
   "outputs": [
    {
     "data": {
      "text/plain": [
       "1961-01-01    427.964119\n",
       "Freq: MS, dtype: float64"
      ]
     },
     "execution_count": 10,
     "metadata": {},
     "output_type": "execute_result"
    }
   ],
   "source": [
    "model_fit.predict(len(series), len(series))"
   ]
  },
  {
   "cell_type": "code",
   "execution_count": 11,
   "id": "8b2a775a",
   "metadata": {
    "ExecuteTime": {
     "end_time": "2022-12-16T10:44:37.954223Z",
     "start_time": "2022-12-16T10:44:37.926758Z"
    }
   },
   "outputs": [],
   "source": [
    "seriesb = pd.DataFrame(series.copy())"
   ]
  },
  {
   "cell_type": "code",
   "execution_count": 12,
   "id": "8eb0b639",
   "metadata": {
    "ExecuteTime": {
     "end_time": "2022-12-16T10:44:37.982214Z",
     "start_time": "2022-12-16T10:44:37.955360Z"
    }
   },
   "outputs": [],
   "source": [
    "seriesb.columns = ['t_original']"
   ]
  },
  {
   "cell_type": "code",
   "execution_count": 13,
   "id": "43410d21",
   "metadata": {
    "ExecuteTime": {
     "end_time": "2022-12-16T10:44:38.011857Z",
     "start_time": "2022-12-16T10:44:37.983423Z"
    }
   },
   "outputs": [],
   "source": [
    "def diffdf(df:\"pd.DataFrame\",\n",
    "           var:str,\n",
    "           interval:int = 1, \n",
    "           plot:bool = False) -> \"pd.DataFrame\":\n",
    "    # internal func\n",
    "    series = df[var]\n",
    "\n",
    "    diff = list()\n",
    "    for i in range(interval, len(series)):\n",
    "        value = series[i] - series[i - interval]\n",
    "        diff.append(value)\n",
    "\n",
    "    diff = pd.Series(diff)\n",
    "\n",
    "    # new dataframe with only relevant rows to plot\n",
    "    newdf = df[interval:]\n",
    "\n",
    "    # final dataframea\n",
    "    newdf[f'diff_{interval}'] = diff.values\n",
    "\n",
    "    newdf\n",
    "    \n",
    "    if plot:\n",
    "        plt.plot(newdf[var], color = 'blue', label = 'original');\n",
    "        plt.plot(newdf[f'diff_{interval}'], color = 'green', label = f'diff_{interval}');\n",
    "        plt.legend();\n",
    "        plt.show();\n",
    "\n",
    "    return newdf"
   ]
  },
  {
   "cell_type": "code",
   "execution_count": 14,
   "id": "7b29ae2d",
   "metadata": {
    "ExecuteTime": {
     "end_time": "2022-12-16T10:44:38.131328Z",
     "start_time": "2022-12-16T10:44:38.015964Z"
    }
   },
   "outputs": [
    {
     "data": {
      "image/png": "[encoded data removed]",
      "text/plain": [
       "<Figure size 432x288 with 1 Axes>"
      ]
     },
     "metadata": {
      "needs_background": "light"
     },
     "output_type": "display_data"
    }
   ],
   "source": [
    "seriesc = diffdf(seriesb, var = \"t_original\", plot = True)"
   ]
  },
  {
   "cell_type": "code",
   "execution_count": 15,
   "id": "4522fae3",
   "metadata": {
    "ExecuteTime": {
     "end_time": "2022-12-16T10:44:38.226848Z",
     "start_time": "2022-12-16T10:44:38.132818Z"
    }
   },
   "outputs": [
    {
     "data": {
      "image/png": "[encoded data removed]",
      "text/plain": [
       "<Figure size 432x288 with 1 Axes>"
      ]
     },
     "metadata": {
      "needs_background": "light"
     },
     "output_type": "display_data"
    }
   ],
   "source": [
    "plot_pacf(seriesc['t_original']);"
   ]
  },
  {
   "cell_type": "code",
   "execution_count": 16,
   "id": "a87bc123",
   "metadata": {
    "ExecuteTime": {
     "end_time": "2022-12-16T10:44:38.260837Z",
     "start_time": "2022-12-16T10:44:38.228192Z"
    }
   },
   "outputs": [],
   "source": [
    "seriesc['t_left1'] = seriesc['t_original'].shift(periods = 1)"
   ]
  },
  {
   "cell_type": "code",
   "execution_count": 17,
   "id": "186ef3fd",
   "metadata": {
    "ExecuteTime": {
     "end_time": "2022-12-16T10:44:38.297757Z",
     "start_time": "2022-12-16T10:44:38.262630Z"
    }
   },
   "outputs": [
    {
     "data": {
      "text/html": [
       "<div>\n",
       "<style scoped>\n",
       "    .dataframe tbody tr th:only-of-type {\n",
       "        vertical-align: middle;\n",
       "    }\n",
       "\n",
       "    .dataframe tbody tr th {\n",
       "        vertical-align: top;\n",
       "    }\n",
       "\n",
       "    .dataframe thead th {\n",
       "        text-align: right;\n",
       "    }\n",
       "</style>\n",
       "<table border=\"1\" class=\"dataframe\">\n",
       "  <thead>\n",
       "    <tr style=\"text-align: right;\">\n",
       "      <th></th>\n",
       "      <th>t_original</th>\n",
       "      <th>diff_1</th>\n",
       "      <th>t_left1</th>\n",
       "    </tr>\n",
       "    <tr>\n",
       "      <th>Month</th>\n",
       "      <th></th>\n",
       "      <th></th>\n",
       "      <th></th>\n",
       "    </tr>\n",
       "  </thead>\n",
       "  <tbody>\n",
       "    <tr>\n",
       "      <th>1949-02-01</th>\n",
       "      <td>118</td>\n",
       "      <td>6</td>\n",
       "      <td>NaN</td>\n",
       "    </tr>\n",
       "    <tr>\n",
       "      <th>1949-03-01</th>\n",
       "      <td>132</td>\n",
       "      <td>14</td>\n",
       "      <td>118.0</td>\n",
       "    </tr>\n",
       "    <tr>\n",
       "      <th>1949-04-01</th>\n",
       "      <td>129</td>\n",
       "      <td>-3</td>\n",
       "      <td>132.0</td>\n",
       "    </tr>\n",
       "    <tr>\n",
       "      <th>1949-05-01</th>\n",
       "      <td>121</td>\n",
       "      <td>-8</td>\n",
       "      <td>129.0</td>\n",
       "    </tr>\n",
       "    <tr>\n",
       "      <th>1949-06-01</th>\n",
       "      <td>135</td>\n",
       "      <td>14</td>\n",
       "      <td>121.0</td>\n",
       "    </tr>\n",
       "    <tr>\n",
       "      <th>...</th>\n",
       "      <td>...</td>\n",
       "      <td>...</td>\n",
       "      <td>...</td>\n",
       "    </tr>\n",
       "    <tr>\n",
       "      <th>1960-08-01</th>\n",
       "      <td>606</td>\n",
       "      <td>-16</td>\n",
       "      <td>622.0</td>\n",
       "    </tr>\n",
       "    <tr>\n",
       "      <th>1960-09-01</th>\n",
       "      <td>508</td>\n",
       "      <td>-98</td>\n",
       "      <td>606.0</td>\n",
       "    </tr>\n",
       "    <tr>\n",
       "      <th>1960-10-01</th>\n",
       "      <td>461</td>\n",
       "      <td>-47</td>\n",
       "      <td>508.0</td>\n",
       "    </tr>\n",
       "    <tr>\n",
       "      <th>1960-11-01</th>\n",
       "      <td>390</td>\n",
       "      <td>-71</td>\n",
       "      <td>461.0</td>\n",
       "    </tr>\n",
       "    <tr>\n",
       "      <th>1960-12-01</th>\n",
       "      <td>432</td>\n",
       "      <td>42</td>\n",
       "      <td>390.0</td>\n",
       "    </tr>\n",
       "  </tbody>\n",
       "</table>\n",
       "<p>143 rows × 3 columns</p>\n",
       "</div>"
      ],
      "text/plain": [
       "            t_original  diff_1  t_left1\n",
       "Month                                  \n",
       "1949-02-01         118       6      NaN\n",
       "1949-03-01         132      14    118.0\n",
       "1949-04-01         129      -3    132.0\n",
       "1949-05-01         121      -8    129.0\n",
       "1949-06-01         135      14    121.0\n",
       "...                ...     ...      ...\n",
       "1960-08-01         606     -16    622.0\n",
       "1960-09-01         508     -98    606.0\n",
       "1960-10-01         461     -47    508.0\n",
       "1960-11-01         390     -71    461.0\n",
       "1960-12-01         432      42    390.0\n",
       "\n",
       "[143 rows x 3 columns]"
      ]
     },
     "execution_count": 17,
     "metadata": {},
     "output_type": "execute_result"
    }
   ],
   "source": [
    "seriesc"
   ]
  },
  {
   "cell_type": "code",
   "execution_count": 18,
   "id": "c7d099be",
   "metadata": {
    "ExecuteTime": {
     "end_time": "2022-12-16T10:44:38.329770Z",
     "start_time": "2022-12-16T10:44:38.299687Z"
    }
   },
   "outputs": [],
   "source": [
    "seriesc = seriesc.dropna()\n",
    "X = seriesc['t_left1'].values\n",
    "y = seriesc['t_original'].values\n",
    "# X_test e y_test sao os valores futuros a serem previstos\n",
    "X_train, X_test, y_train, y_test = train_test_split(X, y, test_size = 0.2)"
   ]
  },
  {
   "cell_type": "code",
   "execution_count": 19,
   "id": "33f3d408",
   "metadata": {
    "ExecuteTime": {
     "end_time": "2022-12-16T10:44:38.365201Z",
     "start_time": "2022-12-16T10:44:38.331313Z"
    }
   },
   "outputs": [
    {
     "data": {
      "text/plain": [
       "array([12.31814697,  0.95352644])"
      ]
     },
     "execution_count": 19,
     "metadata": {},
     "output_type": "execute_result"
    }
   ],
   "source": [
    "X_train_addconst = sm.add_constant(X_train)\n",
    "X_test_addconst = sm.add_constant(X_test)\n",
    "lr = sm.OLS(endog = y_train, exog = X_train_addconst)\n",
    "res = lr.fit()\n",
    "res.params"
   ]
  },
  {
   "cell_type": "code",
   "execution_count": 20,
   "id": "1fce3f5f",
   "metadata": {
    "ExecuteTime": {
     "end_time": "2022-12-16T10:44:38.394872Z",
     "start_time": "2022-12-16T10:44:38.367017Z"
    }
   },
   "outputs": [
    {
     "data": {
      "text/plain": [
       "array([350.82003217, 234.48980684, 199.20932866, 145.81184818,\n",
       "       153.44005968, 235.44333327, 451.89383451, 406.12456553,\n",
       "       191.58111716, 303.14371031, 146.76537462, 141.04421599,\n",
       "       299.32960456, 427.10214715, 238.30391259, 310.77192181,\n",
       "       336.51713561, 236.39685971, 125.787793  , 205.88401372,\n",
       "       357.49471723, 270.72381145, 333.6565563 , 315.539554  ,\n",
       "       455.70794026, 269.77028501, 231.62922752, 176.32469417,\n",
       "       409.93867128])"
      ]
     },
     "execution_count": 20,
     "metadata": {},
     "output_type": "execute_result"
    }
   ],
   "source": [
    "y_hat = res.predict(X_test_addconst)\n",
    "y_hat"
   ]
  },
  {
   "cell_type": "code",
   "execution_count": 21,
   "id": "ed009340",
   "metadata": {
    "ExecuteTime": {
     "end_time": "2022-12-16T10:44:38.493352Z",
     "start_time": "2022-12-16T10:44:38.396164Z"
    }
   },
   "outputs": [
    {
     "data": {
      "image/png": "[encoded data removed]",
      "text/plain": [
       "<Figure size 432x288 with 1 Axes>"
      ]
     },
     "metadata": {
      "needs_background": "light"
     },
     "output_type": "display_data"
    }
   ],
   "source": [
    "plt.plot(y_test, label = 'real', color = 'orange', linewidth = 0.5);\n",
    "plt.plot(y_hat, label = 'predicted', color = 'blue', linewidth = 0.5);\n",
    "plt.legend();\n",
    "plt.show();"
   ]
  },
  {
   "cell_type": "code",
   "execution_count": 22,
   "id": "f19fa66b",
   "metadata": {
    "ExecuteTime": {
     "end_time": "2022-12-16T10:44:38.533850Z",
     "start_time": "2022-12-16T10:44:38.495089Z"
    }
   },
   "outputs": [
    {
     "data": {
      "text/html": [
       "<table class=\"simpletable\">\n",
       "<caption>OLS Regression Results</caption>\n",
       "<tr>\n",
       "  <th>Dep. Variable:</th>            <td>y</td>        <th>  R-squared:         </th> <td>   0.925</td>\n",
       "</tr>\n",
       "<tr>\n",
       "  <th>Model:</th>                   <td>OLS</td>       <th>  Adj. R-squared:    </th> <td>   0.925</td>\n",
       "</tr>\n",
       "<tr>\n",
       "  <th>Method:</th>             <td>Least Squares</td>  <th>  F-statistic:       </th> <td>   1376.</td>\n",
       "</tr>\n",
       "<tr>\n",
       "  <th>Date:</th>             <td>Fri, 16 Dec 2022</td> <th>  Prob (F-statistic):</th> <td>2.23e-64</td>\n",
       "</tr>\n",
       "<tr>\n",
       "  <th>Time:</th>                 <td>07:44:38</td>     <th>  Log-Likelihood:    </th> <td> -556.49</td>\n",
       "</tr>\n",
       "<tr>\n",
       "  <th>No. Observations:</th>      <td>   113</td>      <th>  AIC:               </th> <td>   1117.</td>\n",
       "</tr>\n",
       "<tr>\n",
       "  <th>Df Residuals:</th>          <td>   111</td>      <th>  BIC:               </th> <td>   1122.</td>\n",
       "</tr>\n",
       "<tr>\n",
       "  <th>Df Model:</th>              <td>     1</td>      <th>                     </th>     <td> </td>   \n",
       "</tr>\n",
       "<tr>\n",
       "  <th>Covariance Type:</th>      <td>nonrobust</td>    <th>                     </th>     <td> </td>   \n",
       "</tr>\n",
       "</table>\n",
       "<table class=\"simpletable\">\n",
       "<tr>\n",
       "    <td></td>       <th>coef</th>     <th>std err</th>      <th>t</th>      <th>P>|t|</th>  <th>[0.025</th>    <th>0.975]</th>  \n",
       "</tr>\n",
       "<tr>\n",
       "  <th>const</th> <td>   12.3181</td> <td>    7.904</td> <td>    1.558</td> <td> 0.122</td> <td>   -3.344</td> <td>   27.981</td>\n",
       "</tr>\n",
       "<tr>\n",
       "  <th>x1</th>    <td>    0.9535</td> <td>    0.026</td> <td>   37.093</td> <td> 0.000</td> <td>    0.903</td> <td>    1.004</td>\n",
       "</tr>\n",
       "</table>\n",
       "<table class=\"simpletable\">\n",
       "<tr>\n",
       "  <th>Omnibus:</th>       <td> 3.174</td> <th>  Durbin-Watson:     </th> <td>   1.869</td>\n",
       "</tr>\n",
       "<tr>\n",
       "  <th>Prob(Omnibus):</th> <td> 0.204</td> <th>  Jarque-Bera (JB):  </th> <td>   2.804</td>\n",
       "</tr>\n",
       "<tr>\n",
       "  <th>Skew:</th>          <td> 0.213</td> <th>  Prob(JB):          </th> <td>   0.246</td>\n",
       "</tr>\n",
       "<tr>\n",
       "  <th>Kurtosis:</th>      <td> 3.643</td> <th>  Cond. No.          </th> <td>    769.</td>\n",
       "</tr>\n",
       "</table><br/><br/>Notes:<br/>[1] Standard Errors assume that the covariance matrix of the errors is correctly specified."
      ],
      "text/plain": [
       "<class 'statsmodels.iolib.summary.Summary'>\n",
       "\"\"\"\n",
       "                            OLS Regression Results                            \n",
       "==============================================================================\n",
       "Dep. Variable:                      y   R-squared:                       0.925\n",
       "Model:                            OLS   Adj. R-squared:                  0.925\n",
       "Method:                 Least Squares   F-statistic:                     1376.\n",
       "Date:                Fri, 16 Dec 2022   Prob (F-statistic):           2.23e-64\n",
       "Time:                        07:44:38   Log-Likelihood:                -556.49\n",
       "No. Observations:                 113   AIC:                             1117.\n",
       "Df Residuals:                     111   BIC:                             1122.\n",
       "Df Model:                           1                                         \n",
       "Covariance Type:            nonrobust                                         \n",
       "==============================================================================\n",
       "                 coef    std err          t      P>|t|      [0.025      0.975]\n",
       "------------------------------------------------------------------------------\n",
       "const         12.3181      7.904      1.558      0.122      -3.344      27.981\n",
       "x1             0.9535      0.026     37.093      0.000       0.903       1.004\n",
       "==============================================================================\n",
       "Omnibus:                        3.174   Durbin-Watson:                   1.869\n",
       "Prob(Omnibus):                  0.204   Jarque-Bera (JB):                2.804\n",
       "Skew:                           0.213   Prob(JB):                        0.246\n",
       "Kurtosis:                       3.643   Cond. No.                         769.\n",
       "==============================================================================\n",
       "\n",
       "Notes:\n",
       "[1] Standard Errors assume that the covariance matrix of the errors is correctly specified.\n",
       "\"\"\""
      ]
     },
     "execution_count": 22,
     "metadata": {},
     "output_type": "execute_result"
    }
   ],
   "source": [
    "res.summary()"
   ]
  },
  {
   "cell_type": "code",
   "execution_count": 23,
   "id": "6b9cb931",
   "metadata": {
    "ExecuteTime": {
     "end_time": "2022-12-16T10:44:38.572808Z",
     "start_time": "2022-12-16T10:44:38.535839Z"
    }
   },
   "outputs": [
    {
     "data": {
      "text/html": [
       "<div>\n",
       "<style scoped>\n",
       "    .dataframe tbody tr th:only-of-type {\n",
       "        vertical-align: middle;\n",
       "    }\n",
       "\n",
       "    .dataframe tbody tr th {\n",
       "        vertical-align: top;\n",
       "    }\n",
       "\n",
       "    .dataframe thead th {\n",
       "        text-align: right;\n",
       "    }\n",
       "</style>\n",
       "<table border=\"1\" class=\"dataframe\">\n",
       "  <thead>\n",
       "    <tr style=\"text-align: right;\">\n",
       "      <th></th>\n",
       "      <th>value</th>\n",
       "    </tr>\n",
       "  </thead>\n",
       "  <tbody>\n",
       "    <tr>\n",
       "      <th>9379</th>\n",
       "      <td>5.708591</td>\n",
       "    </tr>\n",
       "    <tr>\n",
       "      <th>4131</th>\n",
       "      <td>-0.354932</td>\n",
       "    </tr>\n",
       "    <tr>\n",
       "      <th>8083</th>\n",
       "      <td>1.688138</td>\n",
       "    </tr>\n",
       "    <tr>\n",
       "      <th>6497</th>\n",
       "      <td>2.965976</td>\n",
       "    </tr>\n",
       "    <tr>\n",
       "      <th>2520</th>\n",
       "      <td>4.738174</td>\n",
       "    </tr>\n",
       "  </tbody>\n",
       "</table>\n",
       "</div>"
      ],
      "text/plain": [
       "         value\n",
       "9379  5.708591\n",
       "4131 -0.354932\n",
       "8083  1.688138\n",
       "6497  2.965976\n",
       "2520  4.738174"
      ]
     },
     "execution_count": 23,
     "metadata": {},
     "output_type": "execute_result"
    }
   ],
   "source": [
    "tsdata = pd.read_csv('data/ts_data.csv')\n",
    "tsdata = tsdata.drop('Time',axis = 1)\n",
    "tsdata.columns = tsdata.columns.str.lower()\n",
    "tsdata.sample(5)"
   ]
  },
  {
   "cell_type": "code",
   "execution_count": 24,
   "id": "c8554813",
   "metadata": {
    "ExecuteTime": {
     "end_time": "2022-12-16T10:44:38.678488Z",
     "start_time": "2022-12-16T10:44:38.574613Z"
    }
   },
   "outputs": [
    {
     "data": {
      "text/plain": [
       "[<matplotlib.lines.Line2D at 0x7f7fe053efd0>]"
      ]
     },
     "execution_count": 24,
     "metadata": {},
     "output_type": "execute_result"
    },
    {
     "data": {
      "image/png": "[encoded data removed]",
      "text/plain": [
       "<Figure size 432x288 with 1 Axes>"
      ]
     },
     "metadata": {
      "needs_background": "light"
     },
     "output_type": "display_data"
    }
   ],
   "source": [
    "plt.plot(tsdata)"
   ]
  },
  {
   "cell_type": "code",
   "execution_count": 25,
   "id": "4cebbc91",
   "metadata": {
    "ExecuteTime": {
     "end_time": "2022-12-16T10:44:38.710535Z",
     "start_time": "2022-12-16T10:44:38.680824Z"
    }
   },
   "outputs": [],
   "source": [
    "from statsmodels.tsa.stattools import adfuller"
   ]
  },
  {
   "cell_type": "code",
   "execution_count": 26,
   "id": "3a064c59",
   "metadata": {
    "ExecuteTime": {
     "end_time": "2022-12-16T10:44:39.878223Z",
     "start_time": "2022-12-16T10:44:38.712389Z"
    }
   },
   "outputs": [
    {
     "name": "stdout",
     "output_type": "stream",
     "text": [
      "ADF Statistic : -22.184930\n",
      "p-value: 0.000000\n",
      "Critical values:\n",
      "\t1%: -3.431\n",
      "\t5%: -2.862\n",
      "\t10%: -2.567\n",
      "Reject Ho - Time Series is Stationary\n"
     ]
    }
   ],
   "source": [
    "result = adfuller(tsdata.values)\n",
    "print('ADF Statistic : %f' % result[0])\n",
    "print('p-value: %f' % result[1])\n",
    "print('Critical values:')\n",
    "for key, value in result[4].items():\n",
    "    print('\\t%s: %.3f' % (key, value))\n",
    "    \n",
    "if result[0] < result[4]['5%']:\n",
    "    print(\"Reject Ho - Time Series is Stationary\")\n",
    "else:\n",
    "    print('Failed to Reject Ho - Time Series is Non-Stationary')"
   ]
  },
  {
   "cell_type": "code",
   "execution_count": 27,
   "id": "de02336f",
   "metadata": {
    "ExecuteTime": {
     "end_time": "2022-12-16T10:44:39.969901Z",
     "start_time": "2022-12-16T10:44:39.879623Z"
    }
   },
   "outputs": [
    {
     "data": {
      "image/png": "[encoded data removed]",
      "text/plain": [
       "<Figure size 432x288 with 1 Axes>"
      ]
     },
     "metadata": {
      "needs_background": "light"
     },
     "output_type": "display_data"
    }
   ],
   "source": [
    "plot_pacf(tsdata, lags = 10);"
   ]
  },
  {
   "cell_type": "code",
   "execution_count": 28,
   "id": "91017a6c",
   "metadata": {
    "ExecuteTime": {
     "end_time": "2022-12-16T10:44:40.003122Z",
     "start_time": "2022-12-16T10:44:39.971330Z"
    }
   },
   "outputs": [],
   "source": [
    "tsdata['values_left1'] = tsdata['value'].shift(periods = 1)"
   ]
  },
  {
   "cell_type": "code",
   "execution_count": 29,
   "id": "978d58b6",
   "metadata": {
    "ExecuteTime": {
     "end_time": "2022-12-16T10:44:40.040953Z",
     "start_time": "2022-12-16T10:44:40.004550Z"
    }
   },
   "outputs": [
    {
     "data": {
      "text/html": [
       "<div>\n",
       "<style scoped>\n",
       "    .dataframe tbody tr th:only-of-type {\n",
       "        vertical-align: middle;\n",
       "    }\n",
       "\n",
       "    .dataframe tbody tr th {\n",
       "        vertical-align: top;\n",
       "    }\n",
       "\n",
       "    .dataframe thead th {\n",
       "        text-align: right;\n",
       "    }\n",
       "</style>\n",
       "<table border=\"1\" class=\"dataframe\">\n",
       "  <thead>\n",
       "    <tr style=\"text-align: right;\">\n",
       "      <th></th>\n",
       "      <th>value</th>\n",
       "      <th>values_left1</th>\n",
       "    </tr>\n",
       "  </thead>\n",
       "  <tbody>\n",
       "    <tr>\n",
       "      <th>0</th>\n",
       "      <td>0.000000</td>\n",
       "      <td>NaN</td>\n",
       "    </tr>\n",
       "    <tr>\n",
       "      <th>1</th>\n",
       "      <td>-0.090263</td>\n",
       "      <td>0.000000</td>\n",
       "    </tr>\n",
       "    <tr>\n",
       "      <th>2</th>\n",
       "      <td>0.749995</td>\n",
       "      <td>-0.090263</td>\n",
       "    </tr>\n",
       "    <tr>\n",
       "      <th>3</th>\n",
       "      <td>1.247887</td>\n",
       "      <td>0.749995</td>\n",
       "    </tr>\n",
       "    <tr>\n",
       "      <th>4</th>\n",
       "      <td>0.131282</td>\n",
       "      <td>1.247887</td>\n",
       "    </tr>\n",
       "    <tr>\n",
       "      <th>...</th>\n",
       "      <td>...</td>\n",
       "      <td>...</td>\n",
       "    </tr>\n",
       "    <tr>\n",
       "      <th>9995</th>\n",
       "      <td>1.302256</td>\n",
       "      <td>0.873224</td>\n",
       "    </tr>\n",
       "    <tr>\n",
       "      <th>9996</th>\n",
       "      <td>0.558165</td>\n",
       "      <td>1.302256</td>\n",
       "    </tr>\n",
       "    <tr>\n",
       "      <th>9997</th>\n",
       "      <td>-1.401546</td>\n",
       "      <td>0.558165</td>\n",
       "    </tr>\n",
       "    <tr>\n",
       "      <th>9998</th>\n",
       "      <td>-1.817701</td>\n",
       "      <td>-1.401546</td>\n",
       "    </tr>\n",
       "    <tr>\n",
       "      <th>9999</th>\n",
       "      <td>-0.858623</td>\n",
       "      <td>-1.817701</td>\n",
       "    </tr>\n",
       "  </tbody>\n",
       "</table>\n",
       "<p>10000 rows × 2 columns</p>\n",
       "</div>"
      ],
      "text/plain": [
       "         value  values_left1\n",
       "0     0.000000           NaN\n",
       "1    -0.090263      0.000000\n",
       "2     0.749995     -0.090263\n",
       "3     1.247887      0.749995\n",
       "4     0.131282      1.247887\n",
       "...        ...           ...\n",
       "9995  1.302256      0.873224\n",
       "9996  0.558165      1.302256\n",
       "9997 -1.401546      0.558165\n",
       "9998 -1.817701     -1.401546\n",
       "9999 -0.858623     -1.817701\n",
       "\n",
       "[10000 rows x 2 columns]"
      ]
     },
     "execution_count": 29,
     "metadata": {},
     "output_type": "execute_result"
    }
   ],
   "source": [
    "tsdata"
   ]
  },
  {
   "cell_type": "code",
   "execution_count": 30,
   "id": "578bb454",
   "metadata": {
    "ExecuteTime": {
     "end_time": "2022-12-16T10:44:40.155686Z",
     "start_time": "2022-12-16T10:44:40.042818Z"
    }
   },
   "outputs": [
    {
     "data": {
      "image/png": "[encoded data removed]",
      "text/plain": [
       "<Figure size 432x288 with 1 Axes>"
      ]
     },
     "metadata": {
      "needs_background": "light"
     },
     "output_type": "display_data"
    }
   ],
   "source": [
    "plt.scatter(x = tsdata['values_left1'], y = tsdata['value'], s = 1);\n",
    "plt.xlabel('t');\n",
    "plt.ylabel('t+1');"
   ]
  },
  {
   "cell_type": "code",
   "execution_count": 31,
   "id": "39ffa464",
   "metadata": {
    "ExecuteTime": {
     "end_time": "2022-12-16T10:44:40.194851Z",
     "start_time": "2022-12-16T10:44:40.158324Z"
    }
   },
   "outputs": [],
   "source": [
    "tsdata = tsdata.dropna()\n",
    "y = tsdata['value'].values\n",
    "X = tsdata['values_left1'].values\n",
    "X_train, X_test, y_train, y_test = train_test_split(X, y, test_size = 0.2)"
   ]
  },
  {
   "cell_type": "code",
   "execution_count": 32,
   "id": "ca81ecd0",
   "metadata": {
    "ExecuteTime": {
     "end_time": "2022-12-16T10:44:40.235659Z",
     "start_time": "2022-12-16T10:44:40.196134Z"
    }
   },
   "outputs": [
    {
     "data": {
      "text/html": [
       "<table class=\"simpletable\">\n",
       "<caption>OLS Regression Results</caption>\n",
       "<tr>\n",
       "  <th>Dep. Variable:</th>            <td>y</td>        <th>  R-squared:         </th> <td>   0.925</td>\n",
       "</tr>\n",
       "<tr>\n",
       "  <th>Model:</th>                   <td>OLS</td>       <th>  Adj. R-squared:    </th> <td>   0.925</td>\n",
       "</tr>\n",
       "<tr>\n",
       "  <th>Method:</th>             <td>Least Squares</td>  <th>  F-statistic:       </th> <td>   1376.</td>\n",
       "</tr>\n",
       "<tr>\n",
       "  <th>Date:</th>             <td>Fri, 16 Dec 2022</td> <th>  Prob (F-statistic):</th> <td>2.23e-64</td>\n",
       "</tr>\n",
       "<tr>\n",
       "  <th>Time:</th>                 <td>07:44:40</td>     <th>  Log-Likelihood:    </th> <td> -556.49</td>\n",
       "</tr>\n",
       "<tr>\n",
       "  <th>No. Observations:</th>      <td>   113</td>      <th>  AIC:               </th> <td>   1117.</td>\n",
       "</tr>\n",
       "<tr>\n",
       "  <th>Df Residuals:</th>          <td>   111</td>      <th>  BIC:               </th> <td>   1122.</td>\n",
       "</tr>\n",
       "<tr>\n",
       "  <th>Df Model:</th>              <td>     1</td>      <th>                     </th>     <td> </td>   \n",
       "</tr>\n",
       "<tr>\n",
       "  <th>Covariance Type:</th>      <td>nonrobust</td>    <th>                     </th>     <td> </td>   \n",
       "</tr>\n",
       "</table>\n",
       "<table class=\"simpletable\">\n",
       "<tr>\n",
       "    <td></td>       <th>coef</th>     <th>std err</th>      <th>t</th>      <th>P>|t|</th>  <th>[0.025</th>    <th>0.975]</th>  \n",
       "</tr>\n",
       "<tr>\n",
       "  <th>const</th> <td>   12.3181</td> <td>    7.904</td> <td>    1.558</td> <td> 0.122</td> <td>   -3.344</td> <td>   27.981</td>\n",
       "</tr>\n",
       "<tr>\n",
       "  <th>x1</th>    <td>    0.9535</td> <td>    0.026</td> <td>   37.093</td> <td> 0.000</td> <td>    0.903</td> <td>    1.004</td>\n",
       "</tr>\n",
       "</table>\n",
       "<table class=\"simpletable\">\n",
       "<tr>\n",
       "  <th>Omnibus:</th>       <td> 3.174</td> <th>  Durbin-Watson:     </th> <td>   1.869</td>\n",
       "</tr>\n",
       "<tr>\n",
       "  <th>Prob(Omnibus):</th> <td> 0.204</td> <th>  Jarque-Bera (JB):  </th> <td>   2.804</td>\n",
       "</tr>\n",
       "<tr>\n",
       "  <th>Skew:</th>          <td> 0.213</td> <th>  Prob(JB):          </th> <td>   0.246</td>\n",
       "</tr>\n",
       "<tr>\n",
       "  <th>Kurtosis:</th>      <td> 3.643</td> <th>  Cond. No.          </th> <td>    769.</td>\n",
       "</tr>\n",
       "</table><br/><br/>Notes:<br/>[1] Standard Errors assume that the covariance matrix of the errors is correctly specified."
      ],
      "text/plain": [
       "<class 'statsmodels.iolib.summary.Summary'>\n",
       "\"\"\"\n",
       "                            OLS Regression Results                            \n",
       "==============================================================================\n",
       "Dep. Variable:                      y   R-squared:                       0.925\n",
       "Model:                            OLS   Adj. R-squared:                  0.925\n",
       "Method:                 Least Squares   F-statistic:                     1376.\n",
       "Date:                Fri, 16 Dec 2022   Prob (F-statistic):           2.23e-64\n",
       "Time:                        07:44:40   Log-Likelihood:                -556.49\n",
       "No. Observations:                 113   AIC:                             1117.\n",
       "Df Residuals:                     111   BIC:                             1122.\n",
       "Df Model:                           1                                         \n",
       "Covariance Type:            nonrobust                                         \n",
       "==============================================================================\n",
       "                 coef    std err          t      P>|t|      [0.025      0.975]\n",
       "------------------------------------------------------------------------------\n",
       "const         12.3181      7.904      1.558      0.122      -3.344      27.981\n",
       "x1             0.9535      0.026     37.093      0.000       0.903       1.004\n",
       "==============================================================================\n",
       "Omnibus:                        3.174   Durbin-Watson:                   1.869\n",
       "Prob(Omnibus):                  0.204   Jarque-Bera (JB):                2.804\n",
       "Skew:                           0.213   Prob(JB):                        0.246\n",
       "Kurtosis:                       3.643   Cond. No.                         769.\n",
       "==============================================================================\n",
       "\n",
       "Notes:\n",
       "[1] Standard Errors assume that the covariance matrix of the errors is correctly specified.\n",
       "\"\"\""
      ]
     },
     "execution_count": 32,
     "metadata": {},
     "output_type": "execute_result"
    }
   ],
   "source": [
    "res.summary()"
   ]
  },
  {
   "cell_type": "code",
   "execution_count": 33,
   "id": "1c6aced2",
   "metadata": {
    "ExecuteTime": {
     "end_time": "2022-12-16T10:44:40.270803Z",
     "start_time": "2022-12-16T10:44:40.237283Z"
    }
   },
   "outputs": [
    {
     "data": {
      "text/plain": [
       "array([350.82003217, 234.48980684, 199.20932866, 145.81184818,\n",
       "       153.44005968, 235.44333327, 451.89383451, 406.12456553,\n",
       "       191.58111716, 303.14371031, 146.76537462, 141.04421599,\n",
       "       299.32960456, 427.10214715, 238.30391259, 310.77192181,\n",
       "       336.51713561, 236.39685971, 125.787793  , 205.88401372,\n",
       "       357.49471723, 270.72381145, 333.6565563 , 315.539554  ,\n",
       "       455.70794026, 269.77028501, 231.62922752, 176.32469417,\n",
       "       409.93867128])"
      ]
     },
     "execution_count": 33,
     "metadata": {},
     "output_type": "execute_result"
    }
   ],
   "source": [
    "y_hat = res.predict(X_test_addconst)\n",
    "y_hat"
   ]
  },
  {
   "cell_type": "code",
   "execution_count": 34,
   "id": "5beaad64",
   "metadata": {
    "ExecuteTime": {
     "end_time": "2022-12-16T10:44:40.372443Z",
     "start_time": "2022-12-16T10:44:40.273237Z"
    }
   },
   "outputs": [
    {
     "data": {
      "image/png": "[encoded data removed]",
      "text/plain": [
       "<Figure size 432x288 with 1 Axes>"
      ]
     },
     "metadata": {
      "needs_background": "light"
     },
     "output_type": "display_data"
    }
   ],
   "source": [
    "plt.plot(y_test, label = 'real', color = 'orange', linewidth = 0.5);\n",
    "plt.plot(y_hat, label = 'predicted', color = 'blue', linewidth = 0.5);\n",
    "plt.legend();\n",
    "plt.show();"
   ]
  },
  {
   "cell_type": "code",
   "execution_count": 35,
   "id": "a0748830",
   "metadata": {
    "ExecuteTime": {
     "end_time": "2022-12-16T10:44:49.168983Z",
     "start_time": "2022-12-16T10:44:49.056638Z"
    }
   },
   "outputs": [
    {
     "data": {
      "image/png": "[encoded data removed]",
      "text/plain": [
       "<Figure size 432x288 with 1 Axes>"
      ]
     },
     "metadata": {
      "needs_background": "light"
     },
     "output_type": "display_data"
    }
   ],
   "source": [
    "_last = 100\n",
    "plt.plot(y_test[-_last:], label = 'Actual',linewidth = 0.5);\n",
    "plt.plot(y_hat[-_last:], label = 'Predicted', linewidth = 0.5);\n",
    "plt.legend();\n",
    "plt.show();"
   ]
  },
  {
   "cell_type": "code",
   "execution_count": null,
   "id": "4fef8c0e",
   "metadata": {},
   "outputs": [],
   "source": []
  }
 ],
 "metadata": {
  "kernelspec": {
   "display_name": "Python 3 (ipykernel)",
   "language": "python",
   "name": "python3"
  },
  "language_info": {
   "codemirror_mode": {
    "name": "ipython",
    "version": 3
   },
   "file_extension": ".py",
   "mimetype": "text/x-python",
   "name": "python",
   "nbconvert_exporter": "python",
   "pygments_lexer": "ipython3",
   "version": "3.8.15"
  },
  "toc": {
   "base_numbering": 1,
   "nav_menu": {},
   "number_sections": true,
   "sideBar": true,
   "skip_h1_title": false,
   "title_cell": "Table of Contents",
   "title_sidebar": "Contents",
   "toc_cell": false,
   "toc_position": {},
   "toc_section_display": true,
   "toc_window_display": false
  }
 },
 "nbformat": 4,
 "nbformat_minor": 5
}
